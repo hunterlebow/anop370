{
 "cells": [
  {
   "cell_type": "code",
   "execution_count": 16,
   "metadata": {},
   "outputs": [
    {
     "name": "stdout",
     "output_type": "stream",
     "text": [
      "<class 'pandas.core.frame.DataFrame'>\n",
      "RangeIndex: 130262 entries, 0 to 130261\n",
      "Data columns (total 21 columns):\n",
      " #   Column              Non-Null Count   Dtype  \n",
      "---  ------              --------------   -----  \n",
      " 0   Artwork ID          130262 non-null  int64  \n",
      " 1   Title               130210 non-null  object \n",
      " 2   Artist ID           128802 non-null  object \n",
      " 3   Name                128802 non-null  object \n",
      " 4   Date                127950 non-null  object \n",
      " 5   Medium              118343 non-null  object \n",
      " 6   Dimensions          118799 non-null  object \n",
      " 7   Acquisition Date    124799 non-null  object \n",
      " 8   Credit              127192 non-null  object \n",
      " 9   Catalogue           130262 non-null  object \n",
      " 10  Department          130262 non-null  object \n",
      " 11  Classification      130262 non-null  object \n",
      " 12  Object Number       130262 non-null  object \n",
      " 13  Diameter (cm)       1399 non-null    float64\n",
      " 14  Circumference (cm)  10 non-null      float64\n",
      " 15  Height (cm)         111893 non-null  float64\n",
      " 16  Length (cm)         736 non-null     float64\n",
      " 17  Width (cm)          111003 non-null  float64\n",
      " 18  Depth (cm)          11443 non-null   float64\n",
      " 19  Weight (kg)         298 non-null     float64\n",
      " 20  Duration (s)        3084 non-null    float64\n",
      "dtypes: float64(8), int64(1), object(12)\n",
      "memory usage: 20.9+ MB\n"
     ]
    }
   ],
   "source": [
    "import pandas as pd\n",
    "df = pd.read_csv(\"artworks.csv\")\n",
    "df.info()"
   ]
  },
  {
   "cell_type": "code",
   "execution_count": 17,
   "metadata": {},
   "outputs": [
    {
     "name": "stdout",
     "output_type": "stream",
     "text": [
      "19349\n"
     ]
    }
   ],
   "source": [
    "u = df.Medium.unique()\n",
    "print(len(u))"
   ]
  },
  {
   "cell_type": "code",
   "execution_count": 24,
   "metadata": {},
   "outputs": [
    {
     "data": {
      "text/plain": [
       "36.0"
      ]
     },
     "execution_count": 24,
     "metadata": {},
     "output_type": "execute_result"
    }
   ],
   "source": [
    "df[\"Circumference (cm)\"].dropna().median()"
   ]
  },
  {
   "cell_type": "code",
   "execution_count": 56,
   "metadata": {},
   "outputs": [
    {
     "data": {
      "text/plain": [
       "Richard Serra          7\n",
       "Tony Smith             1\n",
       "Cai Guo-Qiang          1\n",
       "Alexander Liberman     1\n",
       "Ellsworth Kelly        1\n",
       "Barnett Newman         1\n",
       "David Rabinowitch      1\n",
       "Martin Kippenberger    1\n",
       "Name: Name, dtype: int64"
      ]
     },
     "execution_count": 56,
     "metadata": {},
     "output_type": "execute_result"
    }
   ],
   "source": [
    "df.loc[df[\"Weight (kg)\"].gt(2000)].Name.value_counts()"
   ]
  },
  {
   "cell_type": "code",
   "execution_count": 96,
   "metadata": {},
   "outputs": [
    {
     "data": {
      "text/plain": [
       "Name                                                                         Height (cm)  Depth (cm)   Weight (kg) \n",
       "Alexander Liberman                                                           394.600000   277.200000   2948.380700     1\n",
       "Anthony Caro                                                                 185.500000   358.300000   479.905700      1\n",
       "Tony Smith                                                                   521.300000   414.700000   4000.000005     1\n",
       "Tim Scott                                                                    266.300000   292.400000   99.110900       1\n",
       "Robert Hudson                                                                139.900000   136.700000   69.853900       1\n",
       "Richard Serra                                                                373.400000   990.600000   26762.224440    1\n",
       "                                                                             152.400305   182.880366   80000.000000    1\n",
       "Pablo Picasso                                                                395.300000   319.300000   340.197800      1\n",
       "Olle Baertling                                                               280.600000   147.300000   30.844600       1\n",
       "Martin Kippenberger                                                          289.560600   822.961600   2600.000000     1\n",
       "Joe Goode                                                                    103.800000   138.900000   40.596900       1\n",
       "Gilberto Zorio                                                               189.200000   260.400000   59.999953       1\n",
       "Ellsworth Kelly                                                              262.700000   173.700000   362.877600      1\n",
       "Dinh Q. Lê, Hai Quoc Tran, Le Van Danh, Phu-Nam Thuc Ha, Tuan Andrew Nguyen  883.921768   350.520701   498.956727      1\n",
       "Claes Oldenburg                                                              369.700000   452.900000   362.877600      1\n",
       "Barnett Newman                                                               749.936500   318.770600   3628.776200     1\n",
       "Auguste Rodin                                                                282.000000   104.200000   589.676100      1\n",
       "Arthur Young                                                                 281.305600   1271.907500  625.963900      1\n",
       "Anthony Caro                                                                 235.585471   378.460757   1081.375300     1\n",
       "Ursula von Rydingsvard                                                       284.480569   101.600203   707.611358      1\n",
       "dtype: int64"
      ]
     },
     "execution_count": 96,
     "metadata": {},
     "output_type": "execute_result"
    }
   ],
   "source": [
    "df.loc[df[\"Weight (kg)\"].gt(25) & df[\"Height (cm)\"].gt(100) & df[\"Depth (cm)\"].gt(100)][[\"Name\", \"Height (cm)\", \"Depth (cm)\", \"Weight (kg)\"]].value_counts()\n",
    "\n"
   ]
  },
  {
   "cell_type": "markdown",
   "metadata": {},
   "source": [
    "## Quiz 3 Answers\n",
    "\n",
    "1. 19349\n",
    "2. 36\n",
    "3. Circumference (cm)\n",
    "4. Richard Serra\n",
    "5. ..."
   ]
  }
 ],
 "metadata": {
  "kernelspec": {
   "display_name": "Python 3.9.12 ('anop370-venv')",
   "language": "python",
   "name": "python3"
  },
  "language_info": {
   "codemirror_mode": {
    "name": "ipython",
    "version": 3
   },
   "file_extension": ".py",
   "mimetype": "text/x-python",
   "name": "python",
   "nbconvert_exporter": "python",
   "pygments_lexer": "ipython3",
   "version": "3.9.12"
  },
  "orig_nbformat": 4,
  "vscode": {
   "interpreter": {
    "hash": "4bcc122c95170f394dbcebd198668dbd6334b8f7eed10155fd6cc6b19919fb1d"
   }
  }
 },
 "nbformat": 4,
 "nbformat_minor": 2
}
