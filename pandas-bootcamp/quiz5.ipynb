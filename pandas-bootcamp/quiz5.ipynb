{
 "cells": [
  {
   "cell_type": "code",
   "execution_count": 3,
   "metadata": {},
   "outputs": [],
   "source": [
    "import pandas as pd\n",
    "\n",
    "s = pd.read_excel(\"Sesame.xlsx\")\n",
    "a = pd.read_csv(\"artists.csv\")\n"
   ]
  },
  {
   "cell_type": "code",
   "execution_count": 37,
   "metadata": {},
   "outputs": [
    {
     "data": {
      "text/plain": [
       "{'Female': ['Afghan', 'Angolan', 'Bahamian', 'Burkinabe', 'Chilean', 'Icelandic', 'Israeli', 'Kenyan', 'Kuwaiti', 'Macedonian', 'Pakistani', 'Paraguayan', 'Polish', 'Singaporean'], 'Male': ['Albanian', 'Algerian', 'American', 'Argentine', 'Australian', 'Austrian', 'Azerbaijani', 'Belgian', 'Bolivian', 'Bosnian', 'Brazilian', 'British', 'Bulgarian', 'Cambodian', 'Cameroonian', 'Canadian', 'Canadian Inuit', 'Chinese', 'Colombian', 'Congolese', 'Costa Rican', 'Croatian', 'Cuban', 'Cypriot', 'Czech', 'Czechoslovakian', 'Danish', 'Dutch', 'Ecuadorian', 'Egyptian', 'Estonian', 'Ethiopian', 'Filipino', 'Finnish', 'French', 'Georgian', 'German', 'Ghanaian', 'Greek', 'Guatemalan', 'Guyanese', 'Haitian', 'Hungarian', 'Indian', 'Indonesian', 'Iranian', 'Iraqi', 'Irish', 'Italian', 'Ivorian', 'Japanese', 'Kazakhstani', 'Korean', 'Kyrgyzstani', 'Latvian', 'Lebanese', 'Lithuanian', 'Luxembourgish', 'Malaysian', 'Malian', 'Mauritanian', 'Mexican', 'Moroccan', 'Mozambican', 'Namibian', 'Nationality unknown', 'Native American', 'New Zealander', 'Nicaraguan', 'Nigerian', 'Norwegian', 'Palestinian', 'Panamanian', 'Peruvian', 'Portuguese', 'Puerto Rican', 'Romanian', 'Russian', 'Rwandan', 'Saudi Arabian', 'Scottish', 'Senegalese', 'Serbian', 'Slovak', 'Slovenian', 'South African', 'Spanish', 'Sudanese', 'Swedish', 'Swiss', 'Syrian', 'Taiwanese', 'Tajik', 'Tanzanian', 'Thai', 'Tunisian', 'Turkish', 'Ugandan', 'Ukrainian', 'Uruguayan', ...]}"
      ]
     },
     "execution_count": 37,
     "metadata": {},
     "output_type": "execute_result"
    }
   ],
   "source": [
    "b = a.groupby([\"Nationality\"]).first()\n",
    "c = b.groupby([\"Gender\"]).groups\n",
    "c"
   ]
  },
  {
   "cell_type": "code",
   "execution_count": 21,
   "metadata": {},
   "outputs": [],
   "source": [
    "s[\"Total Price\"] = s.Quantity * s[\"Unit Price\"]\n"
   ]
  },
  {
   "cell_type": "code",
   "execution_count": null,
   "metadata": {},
   "outputs": [],
   "source": []
  }
 ],
 "metadata": {
  "kernelspec": {
   "display_name": "Python 3.9.12 ('anop370-venv')",
   "language": "python",
   "name": "python3"
  },
  "language_info": {
   "codemirror_mode": {
    "name": "ipython",
    "version": 3
   },
   "file_extension": ".py",
   "mimetype": "text/x-python",
   "name": "python",
   "nbconvert_exporter": "python",
   "pygments_lexer": "ipython3",
   "version": "3.9.12"
  },
  "orig_nbformat": 4,
  "vscode": {
   "interpreter": {
    "hash": "4bcc122c95170f394dbcebd198668dbd6334b8f7eed10155fd6cc6b19919fb1d"
   }
  }
 },
 "nbformat": 4,
 "nbformat_minor": 2
}
