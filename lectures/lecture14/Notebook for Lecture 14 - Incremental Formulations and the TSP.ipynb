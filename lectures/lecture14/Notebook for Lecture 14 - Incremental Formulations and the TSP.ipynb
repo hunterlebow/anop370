{
 "cells": [
  {
   "cell_type": "markdown",
   "metadata": {},
   "source": [
    "### <font color=\"#003865\"> ANOP 203 <br> Introduction to Programming for Business Analytics <br><br>\n",
    "\n",
    "# <center> <font color=\"#E87722\"> Lectures 14, Part 2: Incremental Formulations and the TSP<br> <img src=\"https://imgs.xkcd.com/comics/travelling_salesman_problem.png\" width=\"500\">\n",
    "\n",
    "### <center> Thiago Serra, Ph.D. <br><br> Bucknell University <br> Fall 2022"
   ]
  },
  {
   "cell_type": "markdown",
   "metadata": {},
   "source": [
    "# <font color=\"#E87722\"> Recap from ANOP 203\n",
    "    \n",
    "    \n",
    "## <font color=\"#003865\"> Loading a CSV file using pandas\n",
    "    \n",
    "Now we will load a file with the 1,000 largest cities by population in the US, which was obtained from the [ODS website](https://public.opendatasoft.com/explore/dataset/1000-largest-us-cities-by-population-with-geographic-coordinates/table/?sort=-rank). You shoul download an extra file from Moodle to continue."
   ]
  },
  {
   "cell_type": "code",
   "execution_count": 1,
   "metadata": {},
   "outputs": [
    {
     "data": {
      "text/html": [
       "<div>\n",
       "<style scoped>\n",
       "    .dataframe tbody tr th:only-of-type {\n",
       "        vertical-align: middle;\n",
       "    }\n",
       "\n",
       "    .dataframe tbody tr th {\n",
       "        vertical-align: top;\n",
       "    }\n",
       "\n",
       "    .dataframe thead th {\n",
       "        text-align: right;\n",
       "    }\n",
       "</style>\n",
       "<table border=\"1\" class=\"dataframe\">\n",
       "  <thead>\n",
       "    <tr style=\"text-align: right;\">\n",
       "      <th></th>\n",
       "      <th>City</th>\n",
       "      <th>Rank</th>\n",
       "      <th>State</th>\n",
       "      <th>Growth From 2000 to 2013</th>\n",
       "      <th>Population</th>\n",
       "      <th>Coordinates</th>\n",
       "    </tr>\n",
       "  </thead>\n",
       "  <tbody>\n",
       "    <tr>\n",
       "      <th>0</th>\n",
       "      <td>Marysville</td>\n",
       "      <td>552</td>\n",
       "      <td>Washington</td>\n",
       "      <td>115.7</td>\n",
       "      <td>63269</td>\n",
       "      <td>48.0517637,-122.1770818</td>\n",
       "    </tr>\n",
       "    <tr>\n",
       "      <th>1</th>\n",
       "      <td>Perris</td>\n",
       "      <td>466</td>\n",
       "      <td>California</td>\n",
       "      <td>98.7</td>\n",
       "      <td>72326</td>\n",
       "      <td>33.7825194,-117.2286478</td>\n",
       "    </tr>\n",
       "    <tr>\n",
       "      <th>2</th>\n",
       "      <td>Cleveland</td>\n",
       "      <td>48</td>\n",
       "      <td>Ohio</td>\n",
       "      <td>-18.1</td>\n",
       "      <td>390113</td>\n",
       "      <td>41.49932,-81.6943605</td>\n",
       "    </tr>\n",
       "    <tr>\n",
       "      <th>3</th>\n",
       "      <td>Worcester</td>\n",
       "      <td>129</td>\n",
       "      <td>Massachusetts</td>\n",
       "      <td>5.8</td>\n",
       "      <td>182544</td>\n",
       "      <td>42.2625932,-71.8022934</td>\n",
       "    </tr>\n",
       "    <tr>\n",
       "      <th>4</th>\n",
       "      <td>Columbia</td>\n",
       "      <td>192</td>\n",
       "      <td>South Carolina</td>\n",
       "      <td>11.7</td>\n",
       "      <td>133358</td>\n",
       "      <td>34.0007104,-81.0348144</td>\n",
       "    </tr>\n",
       "  </tbody>\n",
       "</table>\n",
       "</div>"
      ],
      "text/plain": [
       "         City  Rank           State  Growth From 2000 to 2013  Population  \\\n",
       "0  Marysville   552      Washington                     115.7       63269   \n",
       "1      Perris   466      California                      98.7       72326   \n",
       "2   Cleveland    48            Ohio                     -18.1      390113   \n",
       "3   Worcester   129   Massachusetts                       5.8      182544   \n",
       "4    Columbia   192  South Carolina                      11.7      133358   \n",
       "\n",
       "               Coordinates  \n",
       "0  48.0517637,-122.1770818  \n",
       "1  33.7825194,-117.2286478  \n",
       "2     41.49932,-81.6943605  \n",
       "3   42.2625932,-71.8022934  \n",
       "4   34.0007104,-81.0348144  "
      ]
     },
     "execution_count": 1,
     "metadata": {},
     "output_type": "execute_result"
    }
   ],
   "source": [
    "import pandas as pd\n",
    "\n",
    "data = pd.read_csv(\"File for Lecture 14 - 1000-largest-us-cities-by-population-with-geographic-coordinates.csv\", sep=\";\") \n",
    "data.head()"
   ]
  },
  {
   "cell_type": "markdown",
   "metadata": {},
   "source": [
    "## <font color=\"#003865\"> Using dictionaries to simplify things\n",
    "    \n",
    "The following dictionary will allow us to shorten the description of a city name and state, which is necessary given that some city names exist across multiple states."
   ]
  },
  {
   "cell_type": "code",
   "execution_count": 2,
   "metadata": {},
   "outputs": [],
   "source": [
    "# https://gist.github.com/rogerallen/1583593\n",
    "us_state_to_abbrev = {\n",
    "    \"Alabama\": \"AL\",\n",
    "    \"Alaska\": \"AK\",\n",
    "    \"Arizona\": \"AZ\",\n",
    "    \"Arkansas\": \"AR\",\n",
    "    \"California\": \"CA\",\n",
    "    \"Colorado\": \"CO\",\n",
    "    \"Connecticut\": \"CT\",\n",
    "    \"Delaware\": \"DE\",\n",
    "    \"Florida\": \"FL\",\n",
    "    \"Georgia\": \"GA\",\n",
    "    \"Hawaii\": \"HI\",\n",
    "    \"Idaho\": \"ID\",\n",
    "    \"Illinois\": \"IL\",\n",
    "    \"Indiana\": \"IN\",\n",
    "    \"Iowa\": \"IA\",\n",
    "    \"Kansas\": \"KS\",\n",
    "    \"Kentucky\": \"KY\",\n",
    "    \"Louisiana\": \"LA\",\n",
    "    \"Maine\": \"ME\",\n",
    "    \"Maryland\": \"MD\",\n",
    "    \"Massachusetts\": \"MA\",\n",
    "    \"Michigan\": \"MI\",\n",
    "    \"Minnesota\": \"MN\",\n",
    "    \"Mississippi\": \"MS\",\n",
    "    \"Missouri\": \"MO\",\n",
    "    \"Montana\": \"MT\",\n",
    "    \"Nebraska\": \"NE\",\n",
    "    \"Nevada\": \"NV\",\n",
    "    \"New Hampshire\": \"NH\",\n",
    "    \"New Jersey\": \"NJ\",\n",
    "    \"New Mexico\": \"NM\",\n",
    "    \"New York\": \"NY\",\n",
    "    \"North Carolina\": \"NC\",\n",
    "    \"North Dakota\": \"ND\",\n",
    "    \"Ohio\": \"OH\",\n",
    "    \"Oklahoma\": \"OK\",\n",
    "    \"Oregon\": \"OR\",\n",
    "    \"Pennsylvania\": \"PA\",\n",
    "    \"Rhode Island\": \"RI\",\n",
    "    \"South Carolina\": \"SC\",\n",
    "    \"South Dakota\": \"SD\",\n",
    "    \"Tennessee\": \"TN\",\n",
    "    \"Texas\": \"TX\",\n",
    "    \"Utah\": \"UT\",\n",
    "    \"Vermont\": \"VT\",\n",
    "    \"Virginia\": \"VA\",\n",
    "    \"Washington\": \"WA\",\n",
    "    \"West Virginia\": \"WV\",\n",
    "    \"Wisconsin\": \"WI\",\n",
    "    \"Wyoming\": \"WY\",\n",
    "    \"District of Columbia\": \"DC\",\n",
    "    \"American Samoa\": \"AS\",\n",
    "    \"Guam\": \"GU\",\n",
    "    \"Northern Mariana Islands\": \"MP\",\n",
    "    \"Puerto Rico\": \"PR\",\n",
    "    \"United States Minor Outlying Islands\": \"UM\",\n",
    "    \"U.S. Virgin Islands\": \"VI\",\n",
    "}"
   ]
  },
  {
   "cell_type": "markdown",
   "metadata": {},
   "source": [
    "## <font color=\"#003865\"> Storing tuples in a dictionary\n",
    "\n",
    "We saw above that we can use tuples as keys for a dictionary. There are cases in which tuples will be the values. For example, if we want to remember the (x,y) coordinates of each city."
   ]
  },
  {
   "cell_type": "code",
   "execution_count": 3,
   "metadata": {},
   "outputs": [
    {
     "name": "stdout",
     "output_type": "stream",
     "text": [
      "San Jose-CA\n",
      "(37.3382082, -121.8863286)\n"
     ]
    }
   ],
   "source": [
    "city_by_rank = {}\n",
    "city_coordinates = {}\n",
    "\n",
    "nb_of_cities = len(data.index)\n",
    "for i in range(nb_of_cities):\n",
    "    city_name = data.values[i][0] + \"-\" + us_state_to_abbrev[data.values[i][2]]\n",
    "    rank = data.values[i][1]\n",
    "    coordinate_list = data.values[i][5].split(\",\")\n",
    "    x = float(coordinate_list[0])\n",
    "    y = float(coordinate_list[1])\n",
    "    \n",
    "    city_by_rank[rank] = city_name\n",
    "    city_coordinates[city_name] = (x,y)\n",
    "    \n",
    "print(city_by_rank[10])\n",
    "print(city_coordinates[\"San Jose-CA\"])"
   ]
  },
  {
   "cell_type": "markdown",
   "metadata": {},
   "source": [
    "  ## <font color=\"#003865\"> Calculating distances between (x,y) coordinates\n",
    "\n",
    "Sometimes a good approximation is all you need. In the code below, I am assuming that the Earth is flat, and I am calculating the distance in the plane between the coordinates and then multiplying it by an adjustment factor to make it match what Google gives for the case between New York and Los Angeles. It turns out that the distance between New York and Pittsburgh stays close yet!"
   ]
  },
  {
   "cell_type": "code",
   "execution_count": 4,
   "metadata": {},
   "outputs": [
    {
     "name": "stdout",
     "output_type": "stream",
     "text": [
      "2789.7586933994066\n",
      "373.9183433115823\n"
     ]
    }
   ],
   "source": [
    "import math\n",
    "\n",
    "def distance_between_cities(A,B):\n",
    "    (latA,lonA) = city_coordinates[A]\n",
    "    (latB,lonB) = city_coordinates[B]\n",
    "    \n",
    "    # Adjusted to match New York to Los Angeles; still good approximation for New York to Pittsburgh!\n",
    "    return 62.36*math.sqrt((latA-latB)*(latA-latB) + (lonA-lonB)*(lonA-lonB))\n",
    "\n",
    "print(distance_between_cities(\"New York-NY\", \"Los Angeles-CA\")) # Google: 2789.8\n",
    "print(distance_between_cities(\"New York-NY\", \"Pittsburgh-PA\")) # Google: 369.6"
   ]
  },
  {
   "cell_type": "markdown",
   "metadata": {},
   "source": [
    "# <font color=\"#E87722\">Input for Our Optimization Problem\n",
    "    \n",
    "If we want to consider the $N$ most populous cities in the US and the shortest tour involving all of them, here is the data for the problem that we want to solve. By choosing a value for $N$ between 1 and 1,000, we produce the instance as described below."
   ]
  },
  {
   "cell_type": "code",
   "execution_count": 5,
   "metadata": {},
   "outputs": [],
   "source": [
    "N = 10\n",
    "cities = [ city_by_rank[i] for i in range(1,N+1) ]\n",
    "pairs_of_cities = [ (i,j) for i in cities for j in cities if i != j ]\n",
    "distance = { (city1, city2):distance_between_cities(city1,city2) for (city1, city2) in pairs_of_cities }\n",
    "\n",
    "# This function is going to help us change the size of the problem we are solving later\n",
    "def change_problem_size(n):\n",
    "    global N\n",
    "    global cities\n",
    "    global pairs_of_cities\n",
    "    global distance\n",
    "    \n",
    "    N = n\n",
    "    cities = [ city_by_rank[i] for i in range(1,N+1) ]\n",
    "    pairs_of_cities = [ (i,j) for i in cities for j in cities if i != j ]\n",
    "    distance = { (city1, city2):distance_between_cities(city1,city2) for (city1, city2) in pairs_of_cities }"
   ]
  },
  {
   "cell_type": "markdown",
   "metadata": {},
   "source": [
    "## <font color=\"#003865\"> Remembering solution times\n",
    "    \n",
    "This is a dictionary that will be populated as we run different algorithms."
   ]
  },
  {
   "cell_type": "code",
   "execution_count": 6,
   "metadata": {},
   "outputs": [],
   "source": [
    "runtime = {}"
   ]
  },
  {
   "cell_type": "markdown",
   "metadata": {},
   "source": [
    "# <font color=\"#E87722\">Solving the TSP by Coding the Algorithm\n",
    "\n",
    "## <font color=\"#003865\"> A Recursive Algorithm\n",
    "    \n",
    "The cell below shows a recursive method to solve the TSP to optimality, which of course cannot be scale up by much."
   ]
  },
  {
   "cell_type": "code",
   "execution_count": 7,
   "metadata": {},
   "outputs": [
    {
     "name": "stdout",
     "output_type": "stream",
     "text": [
      "Solving a problem of 10 to optimality\n",
      "Best tour value: 6536.262647475204\n",
      "Best tour list:\n",
      "\t New York-NY\n",
      "\t Chicago-IL\n",
      "\t San Jose-CA\n",
      "\t Los Angeles-CA\n",
      "\t San Diego-CA\n",
      "\t Phoenix-AZ\n",
      "\t San Antonio-TX\n",
      "\t Houston-TX\n",
      "\t Dallas-TX\n",
      "\t Philadelphia-PA\n",
      "\t New York-NY\n",
      "Time to solve: 1.0248908996582031\n"
     ]
    }
   ],
   "source": [
    "import time\n",
    "\n",
    "# If you are reading the code for the first time, skip this function!\n",
    "# If not, welcome back: here is where we actually solve the problem\n",
    "# We start with last_city=\"New York\" and cities_left containing all other cities\n",
    "# Then we test adding every city next, and solving the resulting subproblem\n",
    "def shortest_tsp_tour(last_city):\n",
    "    # If there are no cities left, we connect the last city with the first\n",
    "    if len(cities_left) == 0:\n",
    "        # We return a tuple with distance and a list of the last two cities\n",
    "        return (distance_between_cities(last_city, first_city), [first_city, last_city])\n",
    "    \n",
    "    # If there are cities left, we test each one being the next\n",
    "    shortest_route_value = None\n",
    "    \n",
    "    # We cannot loop directly over cities_left if we are changing the set\n",
    "    for city in set_of_cities:\n",
    "        # So we check if the city is there before proceeding\n",
    "        if not city in cities_left:\n",
    "            continue\n",
    "            \n",
    "        # When trying a city, we remove it from the cities left    \n",
    "        cities_left.remove(city)\n",
    "        # And we solve the subproblem on the remaining cities\n",
    "        (subroute_value, subroute_list) = shortest_tsp_tour(city)\n",
    "        \n",
    "        # We add the distance from last city to current city\n",
    "        route_value = subroute_value + distance_between_cities(last_city,city)\n",
    "        # And we check if this is the first or shortest route so far\n",
    "        if shortest_route_value is None or route_value < shortest_route_value:\n",
    "            # If so, we update the shortest route value and route list\n",
    "            shortest_route_value = route_value\n",
    "            shortest_route_list = subroute_list.copy()\n",
    "            shortest_route_list.append(last_city)\n",
    "        \n",
    "        # Last, we add the city back to the set before trying the next one\n",
    "        cities_left.add(city)\n",
    "    \n",
    "    # After testing all possibilities, we return the best one\n",
    "    return (shortest_route_value, shortest_route_list)\n",
    "\n",
    "# CHANGE NUMBER OF CITIES HERE!\n",
    "change_problem_size(10)\n",
    "\n",
    "# It does not matter where we start since we go everywhere\n",
    "# But since the first city is always in the list, we start from there\n",
    "first_city = cities[0]\n",
    "\n",
    "# We create a set with the top ranked cities\n",
    "set_of_cities = set(cities)\n",
    "\n",
    "# We make a copy of that set and remove the first city from it\n",
    "cities_left = set_of_cities.copy()\n",
    "cities_left.remove(first_city)\n",
    "\n",
    "# We time the code, and get the optimal value and sequence of cities\n",
    "time_before = time.time()\n",
    "(tour_value, tour_list) = shortest_tsp_tour(first_city)\n",
    "time_after = time.time()\n",
    "\n",
    "# We print a summary of the run\n",
    "print(\"Solving a problem of\", N, \"to optimality\")\n",
    "print(\"Best tour value:\",tour_value)\n",
    "print(\"Best tour list:\")\n",
    "for city in tour_list:\n",
    "    print(\"\\t\",city)\n",
    "print(\"Time to solve:\", time_after-time_before)\n",
    "\n",
    "runtime[(\"Recursive\",N)] = time_after-time_before"
   ]
  },
  {
   "cell_type": "markdown",
   "metadata": {},
   "source": [
    "## <font color=\"#003865\"> Remembering Solved Subproblems\n",
    "    \n",
    "The next cell differs from the previous one in only four lines, each of which followed by <b>#NEW!</b> if you want to search for them. These lines help us keep track of subproblems that we have already seen to avoid solving them again. Because the subproblem depends on what was the last city and which cities are left, and the latter is a set, we need to use an immutable version of this set (a <i>frozenset</i>) as our key. "
   ]
  },
  {
   "cell_type": "code",
   "execution_count": 8,
   "metadata": {},
   "outputs": [
    {
     "name": "stdout",
     "output_type": "stream",
     "text": [
      "Solving a problem of 10 to optimality\n",
      "Best tour value: 6536.262647475204\n",
      "Best tour list:\n",
      "\t New York-NY\n",
      "\t Chicago-IL\n",
      "\t San Jose-CA\n",
      "\t Los Angeles-CA\n",
      "\t San Diego-CA\n",
      "\t Phoenix-AZ\n",
      "\t San Antonio-TX\n",
      "\t Houston-TX\n",
      "\t Dallas-TX\n",
      "\t Philadelphia-PA\n",
      "\t New York-NY\n",
      "Time to solve: 0.013149738311767578\n"
     ]
    }
   ],
   "source": [
    "import time\n",
    "\n",
    "saved_subproblems = {} #NEW!\n",
    "\n",
    "# If you are reading the code for the first time, skip this function!\n",
    "# If not, welcome back: here is where we actually solve the problem\n",
    "# We start with last_city=\"New York\" and cities_left containing all other cities\n",
    "# Then we test adding every city next, and solving the resulting subproblem\n",
    "def shortest_tsp_tour(last_city):\n",
    "    # If there are no cities left, we connect the last city with the first\n",
    "    if len(cities_left) == 0:\n",
    "        # We return a tuple with distance and a list of the last two cities\n",
    "        return (distance_between_cities(last_city, first_city), [first_city, last_city])\n",
    "    \n",
    "    if (last_city,frozenset(cities_left)) in saved_subproblems:      #NEW!\n",
    "        return saved_subproblems[(last_city,frozenset(cities_left))] #NEW!\n",
    "    \n",
    "    # If there are cities left, we test each one being the next\n",
    "    shortest_route_value = None\n",
    "    \n",
    "    # We cannot loop directly over cities_left if we are changing the set\n",
    "    for city in set_of_cities:\n",
    "        # So we check if the city is there before proceeding\n",
    "        if not city in cities_left:\n",
    "            continue\n",
    "            \n",
    "        # When trying a city, we remove it from the cities left    \n",
    "        cities_left.remove(city)\n",
    "        # And we solve the subproblem on the remaining cities\n",
    "        (subroute_value, subroute_list) = shortest_tsp_tour(city)\n",
    "        \n",
    "        # We add the distance from last city to current city\n",
    "        route_value = subroute_value + distance_between_cities(last_city,city)\n",
    "        # And we check if this is the first or shortest route so far\n",
    "        if shortest_route_value is None or route_value < shortest_route_value:\n",
    "            # If so, we update the shortest route value and route list\n",
    "            shortest_route_value = route_value\n",
    "            shortest_route_list = subroute_list.copy()\n",
    "            shortest_route_list.append(last_city)\n",
    "        \n",
    "        # Last, we add the city back to the set before trying the next one\n",
    "        cities_left.add(city)\n",
    "        \n",
    "    saved_subproblems[(last_city,frozenset(cities_left))] = (shortest_route_value, shortest_route_list) #NEW!\n",
    "    \n",
    "    # After testing all possibilities, we return the best one\n",
    "    return (shortest_route_value, shortest_route_list)\n",
    "\n",
    "# CHANGE NUMBER OF CITIES HERE!\n",
    "change_problem_size(10)\n",
    "\n",
    "# It does not matter where we start since we go everywhere\n",
    "# But since the first city is always in the list, we start from there\n",
    "first_city = cities[0]\n",
    "\n",
    "# We create a set with the top ranked cities\n",
    "set_of_cities = set(cities)\n",
    "\n",
    "# We make a copy of that set and remove the first city from it\n",
    "cities_left = set_of_cities.copy()\n",
    "cities_left.remove(first_city)\n",
    "\n",
    "# We time the code, and get the optimal value and sequence of cities\n",
    "time_before = time.time()\n",
    "(tour_value, tour_list) = shortest_tsp_tour(first_city)\n",
    "time_after = time.time()\n",
    "\n",
    "# We print a summary of the run\n",
    "print(\"Solving a problem of\", N, \"to optimality\")\n",
    "print(\"Best tour value:\",tour_value)\n",
    "print(\"Best tour list:\")\n",
    "for city in tour_list:\n",
    "    print(\"\\t\",city)\n",
    "print(\"Time to solve:\", time_after-time_before)\n",
    "\n",
    "runtime[(\"DP\",N)] = time_after-time_before"
   ]
  },
  {
   "cell_type": "markdown",
   "metadata": {},
   "source": [
    "# <font color=\"#E87722\">Solving the TSP with a MIP Solver\n",
    "\n",
    "In what follows, we will start solving our problem and adding more constraints to it as needed.\n",
    "\n",
    "## <font color=\"#003865\"> Figuring out where to go next\n",
    "    \n",
    "The model belows decides which other city to visit after each city while minimizing the total cost. The solution does not provide us a route yet. Why? Would the value of the solution represent a lower or upper bound?"
   ]
  },
  {
   "cell_type": "code",
   "execution_count": 9,
   "metadata": {},
   "outputs": [
    {
     "name": "stdout",
     "output_type": "stream",
     "text": [
      "Restricted license - for non-production use only - expires 2023-10-25\n",
      "Gurobi Optimizer version 9.5.2 build v9.5.2rc0 (mac64[rosetta2])\n",
      "Thread count: 8 physical cores, 8 logical processors, using up to 8 threads\n",
      "Optimize a model with 10 rows, 90 columns and 90 nonzeros\n",
      "Model fingerprint: 0x2b41ba64\n",
      "Variable types: 0 continuous, 90 integer (90 binary)\n",
      "Coefficient statistics:\n",
      "  Matrix range     [1e+00, 1e+00]\n",
      "  Objective range  [9e+01, 3e+03]\n",
      "  Bounds range     [1e+00, 1e+00]\n",
      "  RHS range        [1e+00, 1e+00]\n",
      "Found heuristic solution: objective 19349.185455\n",
      "Presolve removed 10 rows and 90 columns\n",
      "Presolve time: 0.00s\n",
      "Presolve: All rows and columns removed\n",
      "\n",
      "Explored 0 nodes (0 simplex iterations) in 0.01 seconds (0.00 work units)\n",
      "Thread count was 1 (of 8 available processors)\n",
      "\n",
      "Solution count 2: 2400.29 19349.2 \n",
      "\n",
      "Optimal solution found (tolerance 1.00e-04)\n",
      "Best objective 2.400288527336e+03, best bound 2.400288527336e+03, gap 0.0000%\n",
      "New York-NY ----------> Philadelphia-PA\n",
      "Los Angeles-CA ----------> San Diego-CA\n",
      "Chicago-IL ----------> Philadelphia-PA\n",
      "Houston-TX ----------> San Antonio-TX\n",
      "Philadelphia-PA ----------> New York-NY\n",
      "Phoenix-AZ ----------> San Diego-CA\n",
      "San Antonio-TX ----------> Houston-TX\n",
      "San Diego-CA ----------> Los Angeles-CA\n",
      "Dallas-TX ----------> Houston-TX\n",
      "San Jose-CA ----------> Los Angeles-CA\n"
     ]
    }
   ],
   "source": [
    "import gurobipy as gb\n",
    "\n",
    "# CHANGE NUMBER OF CITIES HERE!\n",
    "change_problem_size(10)\n",
    "\n",
    "model = gb.Model()\n",
    "\n",
    "connection = model.addVars(pairs_of_cities, obj = distance, vtype = gb.GRB.BINARY)\n",
    "\n",
    "for city in cities:\n",
    "    model.addConstr(gb.quicksum(connection[city1,city2] for (city1,city2) in pairs_of_cities if city1==city) == 1)\n",
    "\n",
    "model.optimize()\n",
    "\n",
    "for (c1,c2) in pairs_of_cities:\n",
    "    if connection[c1,c2].X == 1:\n",
    "        print(c1,'---------->',c2)"
   ]
  },
  {
   "cell_type": "markdown",
   "metadata": {},
   "source": [
    "## <font color=\"#003865\"> Modeling a problem of what city comes next: Assignment\n",
    "    \n",
    "In this first formulation, we are deciding where to go from each city. That may lead to subsequent issues, which we will take care of later.\n",
    "\n",
    "In other words, for a collection of cities indexed by $i = 0$ to $N-1$ with the distance between each pair corresponding to the pair of indices $(i,j), i \\neq j$ given by $c_{i j}$, we use a binary decision variable $x_{i j} \\in \\{0, 1\\}$ to determine whether we go from $i$ to $j$. The formulation is as follows:\n",
    "\n",
    "\n",
    "$\\min \\sum\\limits_{i=0}^{N-1} \\sum\\limits_{j=0}^{N-1} c_{i j} x_{i j}$\n",
    "\n",
    "$\\sum\\limits_{i = 0}^{N-1} x_{i j} = 1 ~ \\forall j \\in \\{0, \\ldots, N-1\\}$\n",
    "\n",
    "$\\sum\\limits_{j = 0}^{N-1} x_{i j} = 1 ~ \\forall i \\in \\{0, \\ldots, N-1\\}$\n",
    "\n",
    "$x_{i j} \\in \\{0, 1\\} ~ \\forall i \\in \\{0, \\ldots, N-1\\}, j \\in \\{0, \\ldots, N-1 \\} \\setminus \\{ i \\}$"
   ]
  },
  {
   "cell_type": "markdown",
   "metadata": {},
   "source": [
    "## <font color=\"#003865\"> Adding one more constraint\n",
    "    \n",
    "If you solve the initial model for a small size, say $N=5$, you will notice that the the second set of assignment constraints is missing because we get a solution that does not satisfy it.\n",
    "\n",
    "In the cell below, you should extend the model implementation to include those constraints."
   ]
  },
  {
   "cell_type": "code",
   "execution_count": 10,
   "metadata": {},
   "outputs": [
    {
     "name": "stdout",
     "output_type": "stream",
     "text": [
      "Gurobi Optimizer version 9.5.2 build v9.5.2rc0 (mac64[rosetta2])\n",
      "Thread count: 8 physical cores, 8 logical processors, using up to 8 threads\n",
      "Optimize a model with 20 rows, 90 columns and 180 nonzeros\n",
      "Model fingerprint: 0x7053c239\n",
      "Variable types: 0 continuous, 90 integer (90 binary)\n",
      "Coefficient statistics:\n",
      "  Matrix range     [1e+00, 1e+00]\n",
      "  Objective range  [9e+01, 3e+03]\n",
      "  Bounds range     [1e+00, 1e+00]\n",
      "  RHS range        [1e+00, 1e+00]\n",
      "Found heuristic solution: objective 13115.273601\n",
      "Presolve time: 0.00s\n",
      "Presolved: 20 rows, 90 columns, 180 nonzeros\n",
      "Variable types: 0 continuous, 90 integer (90 binary)\n",
      "\n",
      "Root relaxation: objective 3.428732e+03, 17 iterations, 0.00 seconds (0.00 work units)\n",
      "\n",
      "    Nodes    |    Current Node    |     Objective Bounds      |     Work\n",
      " Expl Unexpl |  Obj  Depth IntInf | Incumbent    BestBd   Gap | It/Node Time\n",
      "\n",
      "*    0     0               0    3428.7316214 3428.73162  0.00%     -    0s\n",
      "\n",
      "Explored 1 nodes (17 simplex iterations) in 0.01 seconds (0.00 work units)\n",
      "Thread count was 8 (of 8 available processors)\n",
      "\n",
      "Solution count 2: 3428.73 13115.3 \n",
      "\n",
      "Optimal solution found (tolerance 1.00e-04)\n",
      "Best objective 3.428731621368e+03, best bound 3.428731621368e+03, gap 0.0000%\n",
      "New York-NY ----------> Philadelphia-PA\n",
      "Los Angeles-CA ----------> San Jose-CA\n",
      "Chicago-IL ----------> Dallas-TX\n",
      "Houston-TX ----------> San Antonio-TX\n",
      "Philadelphia-PA ----------> New York-NY\n",
      "Phoenix-AZ ----------> San Diego-CA\n",
      "San Antonio-TX ----------> Houston-TX\n",
      "San Diego-CA ----------> Phoenix-AZ\n",
      "Dallas-TX ----------> Chicago-IL\n",
      "San Jose-CA ----------> Los Angeles-CA\n"
     ]
    }
   ],
   "source": [
    "import gurobipy as gb\n",
    "\n",
    "# CHANGE NUMBER OF CITIES HERE!\n",
    "change_problem_size(10)\n",
    "\n",
    "model = gb.Model()\n",
    "\n",
    "connection = model.addVars(pairs_of_cities, obj = distance, vtype = gb.GRB.BINARY)\n",
    "\n",
    "for city in cities:\n",
    "    model.addConstr(gb.quicksum(connection[city1,city2] for (city1,city2) in pairs_of_cities if city1==city) == 1)\n",
    "    model.addConstr(gb.quicksum(connection[city1,city2] for (city1,city2) in pairs_of_cities if city2==city) == 1)\n",
    "\n",
    "model.optimize()\n",
    "\n",
    "for (c1,c2) in pairs_of_cities:\n",
    "    if connection[c1,c2].X == 1:\n",
    "        print(c1,'---------->',c2)\n",
    "        "
   ]
  },
  {
   "cell_type": "markdown",
   "metadata": {},
   "source": [
    "## <font color=\"#003865\"> Printing the visited cities in order\n",
    "    \n",
    "The cell below produces the tour in the solution starting from New York. If we do not visit all the cities before going back to New York, we know that something else is missing yet from the formulation."
   ]
  },
  {
   "cell_type": "code",
   "execution_count": 11,
   "metadata": {},
   "outputs": [
    {
     "name": "stdout",
     "output_type": "stream",
     "text": [
      "New York-NY\n",
      "Philadelphia-PA\n"
     ]
    }
   ],
   "source": [
    "def print_tour_from_NY():\n",
    "    starting_point = \"New York-NY\"\n",
    "    current_location = starting_point\n",
    "    while True:\n",
    "        print(current_location)\n",
    "        for city in cities:\n",
    "            if city != current_location and connection[current_location, city].X > 0.9:\n",
    "                current_location = city\n",
    "                break\n",
    "        if current_location == starting_point:\n",
    "            break\n",
    "            \n",
    "print_tour_from_NY()"
   ]
  },
  {
   "cell_type": "markdown",
   "metadata": {},
   "source": [
    "## <font color=\"#003865\"> Adding more constraints to avoid infeasible solutions\n",
    "    \n",
    "What specific constraint would prevent the infeasibility found above? Extend the model to include such a constraint. For example, by avoiding to go back-and-forth between pairs of cities?"
   ]
  },
  {
   "cell_type": "code",
   "execution_count": 12,
   "metadata": {},
   "outputs": [
    {
     "name": "stdout",
     "output_type": "stream",
     "text": [
      "Gurobi Optimizer version 9.5.2 build v9.5.2rc0 (mac64[rosetta2])\n",
      "Thread count: 8 physical cores, 8 logical processors, using up to 8 threads\n",
      "Optimize a model with 67 rows, 90 columns and 274 nonzeros\n",
      "Model fingerprint: 0xc3e7d16c\n",
      "Variable types: 0 continuous, 90 integer (90 binary)\n",
      "Coefficient statistics:\n",
      "  Matrix range     [1e+00, 1e+00]\n",
      "  Objective range  [9e+01, 3e+03]\n",
      "  Bounds range     [1e+00, 1e+00]\n",
      "  RHS range        [1e+00, 1e+00]\n",
      "Found heuristic solution: objective 11380.955648\n",
      "Presolve removed 2 rows and 0 columns\n",
      "Presolve time: 0.00s\n",
      "Presolved: 65 rows, 90 columns, 270 nonzeros\n",
      "Variable types: 0 continuous, 90 integer (90 binary)\n",
      "\n",
      "Root relaxation: objective 3.755874e+03, 22 iterations, 0.00 seconds (0.00 work units)\n",
      "\n",
      "    Nodes    |    Current Node    |     Objective Bounds      |     Work\n",
      " Expl Unexpl |  Obj  Depth IntInf | Incumbent    BestBd   Gap | It/Node Time\n",
      "\n",
      "*    0     0               0    3755.8740428 3755.87404  0.00%     -    0s\n",
      "\n",
      "Explored 1 nodes (22 simplex iterations) in 0.01 seconds (0.00 work units)\n",
      "Thread count was 8 (of 8 available processors)\n",
      "\n",
      "Solution count 2: 3755.87 11381 \n",
      "\n",
      "Optimal solution found (tolerance 1.00e-04)\n",
      "Best objective 3.755874042822e+03, best bound 3.755874042822e+03, gap 0.0000%\n",
      "New York-NY ----------> Chicago-IL\n",
      "Los Angeles-CA ----------> San Diego-CA\n",
      "Chicago-IL ----------> Philadelphia-PA\n",
      "Houston-TX ----------> San Antonio-TX\n",
      "Philadelphia-PA ----------> New York-NY\n",
      "Phoenix-AZ ----------> San Jose-CA\n",
      "San Antonio-TX ----------> Dallas-TX\n",
      "San Diego-CA ----------> Phoenix-AZ\n",
      "Dallas-TX ----------> Houston-TX\n",
      "San Jose-CA ----------> Los Angeles-CA\n"
     ]
    }
   ],
   "source": [
    "import gurobipy as gb\n",
    "\n",
    "# CHANGE NUMBER OF CITIES HERE!\n",
    "change_problem_size(10)\n",
    "\n",
    "model = gb.Model()\n",
    "\n",
    "connection = model.addVars(pairs_of_cities, obj = distance, vtype = gb.GRB.BINARY)\n",
    "\n",
    "for city in cities:\n",
    "    model.addConstr(gb.quicksum(connection[city1,city2] for (city1,city2) in pairs_of_cities if city1==city) == 1)\n",
    "    model.addConstr(gb.quicksum(connection[city1,city2] for (city1,city2) in pairs_of_cities if city2==city) == 1)\n",
    "\n",
    "model.addConstr(connection[(\"New York-NY\", \"Philadelphia-PA\")]\n",
    "                +connection[(\"Philadelphia-PA\", \"New York-NY\")]\n",
    "                <= 1\n",
    ")\n",
    "\n",
    "model.addConstr(connection[(\"Houston-TX\", \"Los Angeles-CA\")]\n",
    "                +connection[(\"Los Angeles-CA\", \"Houston-TX\")]\n",
    "                <= 1\n",
    ")\n",
    "for (city1, city2) in pairs_of_cities:\n",
    "    if city1 < city2:\n",
    "        model.addConstr(\n",
    "            connection[(city1, city2)]\n",
    "            +connection[(city2, city1)]\n",
    "            <= 1\n",
    "        )\n",
    "\n",
    "model.optimize()\n",
    "\n",
    "for (c1,c2) in pairs_of_cities:\n",
    "    if connection[c1,c2].X == 1:\n",
    "        print(c1,'---------->',c2)\n",
    "        "
   ]
  },
  {
   "cell_type": "code",
   "execution_count": null,
   "metadata": {},
   "outputs": [],
   "source": []
  },
  {
   "cell_type": "code",
   "execution_count": null,
   "metadata": {},
   "outputs": [],
   "source": []
  },
  {
   "cell_type": "markdown",
   "metadata": {},
   "source": [
    "What constraint would you add next? Extend the model below. For example, how can you avoid a specific cycle consisting of three cities?"
   ]
  },
  {
   "cell_type": "code",
   "execution_count": null,
   "metadata": {},
   "outputs": [],
   "source": []
  },
  {
   "cell_type": "markdown",
   "metadata": {},
   "source": [
    "# <font color=\"#E87722\">Subtour Elimination Constraints\n",
    "\n",
    "In what follows, our purpose is to add a set of constraints commonly known as the subtour elimination constraints. The set of all cities is given by $N := \\{1, 2, \\ldots, n\\}$, $S$ is a given subset of those cities, and $\\bar{S} := N \\setminus S$ corresponds to the set of all cities not in $S$. For every set $S$ which is not empty and not the same as $N$, there should be at least one arc from a city in $S$ to a city in $\\bar{S}$ (and vice-versa).\n",
    "\n",
    "## <font color=\"#003865\">Our first subtour elimination constraint\n",
    "\n",
    "Can you change the model above to use a single constraint to avoid the trio of cities that insists in showing up? "
   ]
  },
  {
   "cell_type": "code",
   "execution_count": null,
   "metadata": {},
   "outputs": [],
   "source": []
  },
  {
   "cell_type": "markdown",
   "metadata": {},
   "source": [
    "## <font color=\"#003865\">Looping over subsets\n",
    "\n",
    "The piece of code below loops over every subset of a given list. How can you change it to skip the empty set (first one) and the set proper (last one)?"
   ]
  },
  {
   "cell_type": "code",
   "execution_count": 13,
   "metadata": {},
   "outputs": [
    {
     "name": "stdout",
     "output_type": "stream",
     "text": [
      "()\n",
      "(1,)\n",
      "(2,)\n",
      "(3,)\n",
      "(4,)\n",
      "(1, 2)\n",
      "(1, 3)\n",
      "(1, 4)\n",
      "(2, 3)\n",
      "(2, 4)\n",
      "(3, 4)\n",
      "(1, 2, 3)\n",
      "(1, 2, 4)\n",
      "(1, 3, 4)\n",
      "(2, 3, 4)\n",
      "(1, 2, 3, 4)\n"
     ]
    }
   ],
   "source": [
    "from itertools import chain, combinations\n",
    "\n",
    "def powerset(iterable):\n",
    "    \"powerset([1,2,3]) --> () (1,) (2,) (3,) (1,2) (1,3) (2,3) (1,2,3)\"\n",
    "    s = list(iterable)\n",
    "    return chain.from_iterable(combinations(s, r) for r in range(len(s)+1))\n",
    "\n",
    "for x in powerset([1,2,3,4]):\n",
    "    print(x)"
   ]
  },
  {
   "cell_type": "markdown",
   "metadata": {},
   "source": [
    "Use the code above to list all proper subsets of the cities in the problem."
   ]
  },
  {
   "cell_type": "code",
   "execution_count": null,
   "metadata": {},
   "outputs": [],
   "source": []
  },
  {
   "cell_type": "markdown",
   "metadata": {},
   "source": [
    "## <font color=\"#003865\">Adding the subtour elimination constraints\n",
    "   \n",
    "With the help of the method above, extend the formulation to include every possible subtour elimination constraint. Then answer the questions in the following Markdown cell."
   ]
  },
  {
   "cell_type": "code",
   "execution_count": null,
   "metadata": {},
   "outputs": [],
   "source": []
  },
  {
   "cell_type": "markdown",
   "metadata": {},
   "source": [
    "## <font color=\"#003865\">Questions:</font>\n",
    "- How far can you increase the size of the problems that you can solve?\n",
    "- What is the bottleneck making it considerably slower as the number of cities increase?\n",
    "- For every set $S$ with lots of cities, there is a complementary set $\\bar{S}$ with very few cities. How can you leverage that to reduce the number of subtour elimination constraints?"
   ]
  },
  {
   "cell_type": "markdown",
   "metadata": {},
   "source": [
    "# <font color=\"#E87722\">Lazy Constraints and Callbacks\n",
    "    \n",
    "Sometimes the best way to cope with too many constraints is to simply ignore them until they are needed."
   ]
  },
  {
   "cell_type": "markdown",
   "metadata": {},
   "source": [
    "## <font color=\"#003865\">Removing feasible solutions just because</font>\n",
    "\n",
    "The example below shows an example in which each of the first 10 supposedly feasible solutions is immediately removed through the use of a lazy constraint through the callback function. Only the initial constraint of the model is included."
   ]
  },
  {
   "cell_type": "code",
   "execution_count": 14,
   "metadata": {},
   "outputs": [
    {
     "name": "stdout",
     "output_type": "stream",
     "text": [
      "Set parameter LazyConstraints to value 1\n",
      "Gurobi Optimizer version 9.5.2 build v9.5.2rc0 (mac64[rosetta2])\n",
      "Thread count: 8 physical cores, 8 logical processors, using up to 8 threads\n",
      "Optimize a model with 10 rows, 90 columns and 90 nonzeros\n",
      "Model fingerprint: 0x2b41ba64\n",
      "Variable types: 0 continuous, 90 integer (90 binary)\n",
      "Coefficient statistics:\n",
      "  Matrix range     [1e+00, 1e+00]\n",
      "  Objective range  [9e+01, 3e+03]\n",
      "  Bounds range     [1e+00, 1e+00]\n",
      "  RHS range        [1e+00, 1e+00]\n",
      "Removing [('New York-NY', 'Los Angeles-CA'), ('Los Angeles-CA', 'New York-NY'), ('Chicago-IL', 'New York-NY'), ('Houston-TX', 'New York-NY'), ('Philadelphia-PA', 'New York-NY'), ('Phoenix-AZ', 'New York-NY'), ('San Antonio-TX', 'New York-NY'), ('San Diego-CA', 'New York-NY'), ('Dallas-TX', 'New York-NY'), ('San Jose-CA', 'New York-NY')]\n",
      "Presolve time: 0.00s\n",
      "Presolved: 10 rows, 90 columns, 90 nonzeros\n",
      "Variable types: 0 continuous, 90 integer (90 binary)\n",
      "Removing [('New York-NY', 'San Jose-CA'), ('Los Angeles-CA', 'San Jose-CA'), ('Chicago-IL', 'San Jose-CA'), ('Houston-TX', 'San Jose-CA'), ('Philadelphia-PA', 'San Jose-CA'), ('Phoenix-AZ', 'San Jose-CA'), ('San Antonio-TX', 'San Jose-CA'), ('San Diego-CA', 'San Jose-CA'), ('Dallas-TX', 'San Jose-CA'), ('San Jose-CA', 'Dallas-TX')]\n",
      "\n",
      "Root relaxation: objective 2.400289e+03, 10 iterations, 0.00 seconds (0.00 work units)\n",
      "Removing [('New York-NY', 'Philadelphia-PA'), ('Los Angeles-CA', 'San Diego-CA'), ('Chicago-IL', 'Philadelphia-PA'), ('Houston-TX', 'San Antonio-TX'), ('Philadelphia-PA', 'New York-NY'), ('Phoenix-AZ', 'San Diego-CA'), ('San Antonio-TX', 'Houston-TX'), ('San Diego-CA', 'Los Angeles-CA'), ('Dallas-TX', 'Houston-TX'), ('San Jose-CA', 'Los Angeles-CA')]\n",
      "Removing [('New York-NY', 'Philadelphia-PA'), ('Los Angeles-CA', 'San Diego-CA'), ('Chicago-IL', 'Philadelphia-PA'), ('Houston-TX', 'Dallas-TX'), ('Philadelphia-PA', 'New York-NY'), ('Phoenix-AZ', 'San Diego-CA'), ('San Antonio-TX', 'Houston-TX'), ('San Diego-CA', 'Los Angeles-CA'), ('Dallas-TX', 'Houston-TX'), ('San Jose-CA', 'Los Angeles-CA')]\n",
      "\n",
      "    Nodes    |    Current Node    |     Objective Bounds      |     Work\n",
      " Expl Unexpl |  Obj  Depth IntInf | Incumbent    BestBd   Gap | It/Node Time\n",
      "\n",
      "     0     0 2415.89427    0    4          - 2415.89427      -     -    0s\n",
      "Removing [('New York-NY', 'Philadelphia-PA'), ('Los Angeles-CA', 'San Diego-CA'), ('Chicago-IL', 'San Jose-CA'), ('Houston-TX', 'San Jose-CA'), ('Philadelphia-PA', 'New York-NY'), ('Phoenix-AZ', 'San Diego-CA'), ('San Antonio-TX', 'Houston-TX'), ('San Diego-CA', 'Los Angeles-CA'), ('Dallas-TX', 'Houston-TX'), ('San Jose-CA', 'Los Angeles-CA')]\n",
      "Removing [('New York-NY', 'Philadelphia-PA'), ('Los Angeles-CA', 'San Diego-CA'), ('Chicago-IL', 'Dallas-TX'), ('Houston-TX', 'San Antonio-TX'), ('Philadelphia-PA', 'New York-NY'), ('Phoenix-AZ', 'San Diego-CA'), ('San Antonio-TX', 'Houston-TX'), ('San Diego-CA', 'Los Angeles-CA'), ('Dallas-TX', 'Houston-TX'), ('San Jose-CA', 'Los Angeles-CA')]\n",
      "     0     0 2422.92824    0    4          - 2422.92824      -     -    0s\n",
      "Removing [('New York-NY', 'Philadelphia-PA'), ('Los Angeles-CA', 'San Diego-CA'), ('Chicago-IL', 'Dallas-TX'), ('Houston-TX', 'San Antonio-TX'), ('Philadelphia-PA', 'New York-NY'), ('Phoenix-AZ', 'San Diego-CA'), ('San Antonio-TX', 'Houston-TX'), ('San Diego-CA', 'Los Angeles-CA'), ('Dallas-TX', 'San Antonio-TX'), ('San Jose-CA', 'Los Angeles-CA')]\n",
      "Removing [('New York-NY', 'Philadelphia-PA'), ('Los Angeles-CA', 'San Diego-CA'), ('Chicago-IL', 'Philadelphia-PA'), ('Houston-TX', 'San Antonio-TX'), ('Philadelphia-PA', 'Los Angeles-CA'), ('Phoenix-AZ', 'San Diego-CA'), ('San Antonio-TX', 'Houston-TX'), ('San Diego-CA', 'Los Angeles-CA'), ('Dallas-TX', 'Houston-TX'), ('San Jose-CA', 'Los Angeles-CA')]\n",
      "Removing [('New York-NY', 'Philadelphia-PA'), ('Los Angeles-CA', 'San Diego-CA'), ('Chicago-IL', 'Philadelphia-PA'), ('Houston-TX', 'San Antonio-TX'), ('Philadelphia-PA', 'New York-NY'), ('Phoenix-AZ', 'San Diego-CA'), ('San Antonio-TX', 'Dallas-TX'), ('San Diego-CA', 'Los Angeles-CA'), ('Dallas-TX', 'Houston-TX'), ('San Jose-CA', 'Los Angeles-CA')]\n",
      "Removing [('New York-NY', 'Philadelphia-PA'), ('Los Angeles-CA', 'San Diego-CA'), ('Chicago-IL', 'Philadelphia-PA'), ('Houston-TX', 'Dallas-TX'), ('Philadelphia-PA', 'New York-NY'), ('Phoenix-AZ', 'San Diego-CA'), ('San Antonio-TX', 'Dallas-TX'), ('San Diego-CA', 'Los Angeles-CA'), ('Dallas-TX', 'Houston-TX'), ('San Jose-CA', 'Los Angeles-CA')]\n",
      "H    0     0                    2466.3648902 2422.92824  1.76%     -    0s\n",
      "H    0     0                    2426.5148398 2422.92824  0.15%     -    0s\n",
      "     0     0     cutoff    0      2426.51484 2426.51484  0.00%     -    0s\n",
      "\n",
      "Cutting planes:\n",
      "  MIR: 1\n",
      "  Lazy constraints: 9\n",
      "\n",
      "Explored 1 nodes (14 simplex iterations) in 0.02 seconds (0.00 work units)\n",
      "Thread count was 8 (of 8 available processors)\n",
      "\n",
      "Solution count 2: 2426.51 2466.36 \n",
      "\n",
      "Optimal solution found (tolerance 1.00e-04)\n",
      "Best objective 2.426514839767e+03, best bound 2.426514839767e+03, gap 0.0000%\n",
      "\n",
      "User-callback calls 121, time in user-callback 0.00 sec\n"
     ]
    }
   ],
   "source": [
    "n = 10\n",
    "cities = [ city_by_rank[i] for i in range(1,n+1) ]\n",
    "pairs_of_cities = [ (city1, city2) for city1 in cities for city2 in cities if city1 != city2 ]\n",
    "distance = { (city1, city2):distance_between_cities(city1,city2) for (city1, city2) in pairs_of_cities }\n",
    "\n",
    "solutions_removed = 0\n",
    "def callback_function(model, where):\n",
    "    global solutions_removed\n",
    "    if where == gb.GRB.Callback.MIPSOL:\n",
    "        connection_v = model.cbGetSolution(connection)\n",
    "        assigned_pairs = []\n",
    "        for (c1,c2) in pairs_of_cities:\n",
    "            if connection_v[c1, c2] >= 0.9:\n",
    "                assigned_pairs.append((c1,c2))\n",
    "        if solutions_removed < 10:\n",
    "            print(\"Removing\", assigned_pairs)\n",
    "            model.cbLazy(gb.quicksum(connection[c1,c2] for (c1,c2) in assigned_pairs) <= len(assigned_pairs)-1)\n",
    "            solutions_removed += 1\n",
    "\n",
    "\n",
    "import gurobipy as gb\n",
    "\n",
    "model = gb.Model()\n",
    "\n",
    "model.params.LazyConstraints = 1\n",
    "\n",
    "connection = model.addVars(pairs_of_cities, obj = distance, vtype = gb.GRB.BINARY)\n",
    "\n",
    "for city in cities:\n",
    "    model.addConstr(gb.quicksum(connection[city1,city2] for (city1,city2) in pairs_of_cities if city1==city) == 1)\n",
    "\n",
    "model.optimize(callback_function)"
   ]
  },
  {
   "cell_type": "markdown",
   "metadata": {},
   "source": [
    "## <font color=\"#003865\">Adding lazy subtour elimination constraints</font>\n",
    "\n",
    "Modify the callback to do something useful: for every solution obtained which is not feasible, add the corresponding subtour elimination constraint. You should already have the other two constraints in place."
   ]
  },
  {
   "cell_type": "code",
   "execution_count": null,
   "metadata": {},
   "outputs": [],
   "source": []
  },
  {
   "cell_type": "markdown",
   "metadata": {},
   "source": [
    "## <font color=\"#003865\">Questions:</font>\n",
    "- How far can you increase the size of the problems that you can solve?\n",
    "- What is the bottleneck making it considerably slower as the number of cities increase?"
   ]
  },
  {
   "cell_type": "markdown",
   "metadata": {},
   "source": [
    "## <font color=\"#003865\">Comparing runtimes</font>\n",
    "\n",
    "Go back and modify your implementations to measure runtimes of the model with all subtour elimination constraints, as well as the one that uses a callback to add them as needed. Then compare the runtime with those models with the runtime using the other algorithms."
   ]
  }
 ],
 "metadata": {
  "kernelspec": {
   "display_name": "Python 3.9.12 ('anop370-venv')",
   "language": "python",
   "name": "python3"
  },
  "language_info": {
   "codemirror_mode": {
    "name": "ipython",
    "version": 3
   },
   "file_extension": ".py",
   "mimetype": "text/x-python",
   "name": "python",
   "nbconvert_exporter": "python",
   "pygments_lexer": "ipython3",
   "version": "3.9.12"
  },
  "vscode": {
   "interpreter": {
    "hash": "4bcc122c95170f394dbcebd198668dbd6334b8f7eed10155fd6cc6b19919fb1d"
   }
  }
 },
 "nbformat": 4,
 "nbformat_minor": 2
}
