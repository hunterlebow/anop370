{
 "cells": [
  {
   "cell_type": "code",
   "execution_count": 2,
   "metadata": {},
   "outputs": [
    {
     "ename": "TypeError",
     "evalue": "unhashable type: 'list'",
     "output_type": "error",
     "traceback": [
      "\u001b[0;31m---------------------------------------------------------------------------\u001b[0m",
      "\u001b[0;31mTypeError\u001b[0m                                 Traceback (most recent call last)",
      "\u001b[1;32m/Users/hunterlebow/Documents/bucknell/anop370/lectures/lecture11/capital_budget.ipynb Cell 1\u001b[0m in \u001b[0;36m<cell line: 16>\u001b[0;34m()\u001b[0m\n\u001b[1;32m      <a href='vscode-notebook-cell:/Users/hunterlebow/Documents/bucknell/anop370/lectures/lecture11/capital_budget.ipynb#W0sZmlsZQ%3D%3D?line=3'>4</a>\u001b[0m data \u001b[39m=\u001b[39m [\n\u001b[1;32m      <a href='vscode-notebook-cell:/Users/hunterlebow/Documents/bucknell/anop370/lectures/lecture11/capital_budget.ipynb#W0sZmlsZQ%3D%3D?line=4'>5</a>\u001b[0m \u001b[39m#Yr  1,   2,  3,  4,   5\u001b[39;00m\n\u001b[1;32m      <a href='vscode-notebook-cell:/Users/hunterlebow/Documents/bucknell/anop370/lectures/lecture11/capital_budget.ipynb#W0sZmlsZQ%3D%3D?line=5'>6</a>\u001b[0m     [\u001b[39m75\u001b[39m,  \u001b[39m25\u001b[39m, \u001b[39m20\u001b[39m, \u001b[39m15\u001b[39m, \u001b[39m10\u001b[39m], \u001b[39m#Project 1\u001b[39;00m\n\u001b[0;32m   (...)\u001b[0m\n\u001b[1;32m     <a href='vscode-notebook-cell:/Users/hunterlebow/Documents/bucknell/anop370/lectures/lecture11/capital_budget.ipynb#W0sZmlsZQ%3D%3D?line=10'>11</a>\u001b[0m     [\u001b[39m50\u001b[39m,  \u001b[39m20\u001b[39m, \u001b[39m10\u001b[39m, \u001b[39m30\u001b[39m, \u001b[39m40\u001b[39m]  \u001b[39m#Project 6\u001b[39;00m\n\u001b[1;32m     <a href='vscode-notebook-cell:/Users/hunterlebow/Documents/bucknell/anop370/lectures/lecture11/capital_budget.ipynb#W0sZmlsZQ%3D%3D?line=11'>12</a>\u001b[0m ]\n\u001b[1;32m     <a href='vscode-notebook-cell:/Users/hunterlebow/Documents/bucknell/anop370/lectures/lecture11/capital_budget.ipynb#W0sZmlsZQ%3D%3D?line=13'>14</a>\u001b[0m exp_npv \u001b[39m=\u001b[39m [\u001b[39m141\u001b[39m, \u001b[39m187\u001b[39m, \u001b[39m121\u001b[39m, \u001b[39m83\u001b[39m, \u001b[39m256\u001b[39m, \u001b[39m127\u001b[39m]\n\u001b[0;32m---> <a href='vscode-notebook-cell:/Users/hunterlebow/Documents/bucknell/anop370/lectures/lecture11/capital_budget.ipynb#W0sZmlsZQ%3D%3D?line=15'>16</a>\u001b[0m projects \u001b[39m=\u001b[39m m\u001b[39m.\u001b[39;49maddVars(data, vtype\u001b[39m=\u001b[39;49mgb\u001b[39m.\u001b[39;49mGRB\u001b[39m.\u001b[39;49mBINARY)\n\u001b[1;32m     <a href='vscode-notebook-cell:/Users/hunterlebow/Documents/bucknell/anop370/lectures/lecture11/capital_budget.ipynb#W0sZmlsZQ%3D%3D?line=17'>18</a>\u001b[0m m\u001b[39m.\u001b[39mgetVars()\n",
      "File \u001b[0;32msrc/gurobipy/model.pxi:2945\u001b[0m, in \u001b[0;36mgenexpr\u001b[0;34m()\u001b[0m\n",
      "File \u001b[0;32msrc/gurobipy/tupledict.pxi:11\u001b[0m, in \u001b[0;36mgurobipy.tupledict.__init__\u001b[0;34m()\u001b[0m\n",
      "\u001b[0;31mTypeError\u001b[0m: unhashable type: 'list'"
     ]
    }
   ],
   "source": [
    "import gurobipy as gb\n",
    "m = gb.Model()\n",
    "\n",
    "data = [\n",
    "#Yr  1,   2,  3,  4,   5\n",
    "    [75,  25, 20, 15, 10], #Project 1\n",
    "    [75,  25, 20, 15, 10], #Project 2\n",
    "    [60,  15, 15, 15, 15], #Project 3\n",
    "    [30,  20, 10, 5,  5 ], #Project 4\n",
    "    [100, 25, 20, 20, 20], #Project 5\n",
    "    [50,  20, 10, 30, 40]  #Project 6\n",
    "]\n",
    "\n",
    "years = [1, 2, 3, 4, 5]\n",
    "project_1 = [75,  25, 20, 15, 10]\n",
    "project_2 = [90,  35, 0, 0, 30]\n",
    "project_3 = [60,  15, 15, 15, 15]\n",
    "project_4 = [30,  20, 10, 5,  5 ]\n",
    "project_5 = [100, 25, 20, 20, 20]\n",
    "project_6 = [50,  20, 10, 30, 40]\n",
    "\n",
    "exp_npv = [141, 187, 121, 83, 256, 127]\n",
    "\n",
    "p1 = m.addVar(data, vtype=gb.GRB.BINARY)\n",
    "\n",
    "m.getVars()\n",
    "\n",
    "\n",
    "\n",
    "\n",
    "\n"
   ]
  }
 ],
 "metadata": {
  "kernelspec": {
   "display_name": "Python 3.9.12 ('anop370-venv')",
   "language": "python",
   "name": "python3"
  },
  "language_info": {
   "codemirror_mode": {
    "name": "ipython",
    "version": 3
   },
   "file_extension": ".py",
   "mimetype": "text/x-python",
   "name": "python",
   "nbconvert_exporter": "python",
   "pygments_lexer": "ipython3",
   "version": "3.9.12"
  },
  "orig_nbformat": 4,
  "vscode": {
   "interpreter": {
    "hash": "4bcc122c95170f394dbcebd198668dbd6334b8f7eed10155fd6cc6b19919fb1d"
   }
  }
 },
 "nbformat": 4,
 "nbformat_minor": 2
}
