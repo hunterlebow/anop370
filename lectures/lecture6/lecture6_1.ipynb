{
 "cells": [
  {
   "cell_type": "code",
   "execution_count": null,
   "metadata": {},
   "outputs": [],
   "source": [
    "import gurobipy as gb\n",
    "\n",
    "model = gb.Model()\n",
    "\n",
    "##Decision variables --> Monthly production\n",
    "\n",
    "months = [1, 2, 3, 4, 5, 6]\n",
    "unit_prod_cost = [240, 250, 265, 285, 280, 260]\n",
    "units_demanded = [1000, 4500, 6000, 5500, 3500, 4000]\n",
    "max_production = [4000, 3500, 4000, 4500, 4000, 3500]\n",
    "\n",
    "\n",
    "x = model.addVars(months)\n",
    "for i in range(1, 7):   \n",
    "    model.addConstr(gb.quicksum(x[i] >= ))"
   ]
  }
 ],
 "metadata": {
  "kernelspec": {
   "display_name": "Python 3.9.12 ('anop370-venv')",
   "language": "python",
   "name": "python3"
  },
  "language_info": {
   "name": "python",
   "version": "3.9.12"
  },
  "orig_nbformat": 4,
  "vscode": {
   "interpreter": {
    "hash": "4bcc122c95170f394dbcebd198668dbd6334b8f7eed10155fd6cc6b19919fb1d"
   }
  }
 },
 "nbformat": 4,
 "nbformat_minor": 2
}
