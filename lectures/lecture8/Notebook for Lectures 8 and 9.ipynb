{
 "cells": [
  {
   "cell_type": "markdown",
   "metadata": {},
   "source": [
    "### <font color=\"#003865\"> ANOP 370 <br> Prescriptive Analytics <br><br>\n",
    "\n",
    "# <center> <font color=\"#E87722\"> Lectures 8 and 9: From Linear to Integer Programming <br> <img src=\"https://pbs.twimg.com/media/EJbwSh7WwAA7AQB?format=jpg&name=large\" width=\"400\">\n",
    "\n",
    "\n",
    "### <center> Thiago Serra, Ph.D. <br><br> Bucknell University <br> Fall 2022"
   ]
  },
  {
   "cell_type": "markdown",
   "metadata": {},
   "source": [
    "## <font color=\"990000\">Problem 1</font>\n",
    "\n",
    "In this exercise, you are given a problem, data, and a mathematical formulation. You are expected to implement this model in gurobipy. This is the one of the two problems in this notebook in which you are expected to use integer decision variables. Do pay attention to how the mathematical formulation is presented, as you are expected to develop similar formulations for the other problems.\n",
    "\n",
    "_The McDonald’s diet problem has been used in popular literature as an example \n",
    "for building an introductory optimization model. The McDonald’s situation\n",
    "is familiar, and the problem structure is simple enough for translation into a\n",
    "mathematical model. In addition, McDonald’s provides a brochure with detailed\n",
    "nutritional information for every item on the menu._\n",
    "\n",
    "_The example considers a small data set, which includes 9 different food types Example\n",
    "and 4 different nutrients. The 9 food types form a small but representative\n",
    "selection of the McDonald’s menu. The 4 nutrients are calories, protein, fat,\n",
    "and carbohydrates. The goal is to determine a daily diet to cover the afternoon\n",
    "and the evening meals. \\[The table below\\] contains the nutritional values for each food\n",
    "type, nutritional requirements, food prices, and bounds on individual servings._\n",
    "\n",
    "|  | Calories | Protein | Fat | Carbohydrates | Max. Servings | Price |\n",
    "| --- | --- | --- | --- | --- | --- | --- |\n",
    "| Big Mac | 479 | 25 | 22 | 44 | 2 | 5.45 |\n",
    "| Quarter Pounder | 517 | 32.4 | 25 | 40.4 | 2 | 4.95 |\n",
    "| Vegetable Burger | 341 | 11.7 | 10.6 | 50 | 2 | 3.95 |\n",
    "| French Fries | 425 | 5 | 21 | 54 | 2 | 1.95 |\n",
    "| Salad | 54 | 4 | 2 | 5 | 2 | 3.95 |\n",
    "| Lowfat Milk | 120 | 9 | 4 | 12 | 2 | 1.75 |\n",
    "| Coca Cola | 184  | −  | − | 46 | 2 | 2.75 |\n",
    "| Big Mac Menu | 1202.4 | 31.3 | 48.7 | 158.5 | 2 | 8.95 |\n",
    "| Quarter Pounder Menu | 1240.4 | 38.7 | 51.7 | 154.9 | 2 | 8.95 |\n",
    "\n",
    "|  | Calories | Protein | Fat | Carbohydrates | Max. Servings | Price |\n",
    "| --- | --- | --- | --- | --- | --- | --- |\n",
    "| Minimum Requirement | 3000 | 65 | | 375 | | |\n",
    "| Maximum Allowance | | | 117 | | | |"
   ]
  },
  {
   "cell_type": "markdown",
   "metadata": {},
   "source": [
    "## <font color=\"#E87722\">Mathematical Formulation</font>\n",
    "\n",
    "### Decision variables\n",
    "\n",
    "$x_f$: Number of servings of food $f$ in menu\n",
    "\n",
    "### Objective function\n",
    "\n",
    "Minimize the cost of the menu, where $p_f$ is the cost of a serving of food $f$:\n",
    "\n",
    "$\\min \\sum_f p_f x_f$\n",
    "\n",
    "### Constraints\n",
    "\n",
    "Observe minimum requirement $\\underline{m}_n$ and maximum allowance $\\overline{m}_n$ of nutrient $n$, if any and for all the nutrients, given that $v_{f n}$ is the amount of nutrient $n$ in a serving of food $f$:\n",
    "\n",
    "$\\underline{m}_n \\leq \\sum_f v_{f n} x_f \\leq \\overline{m}_n ~~~\\forall n$\n",
    "\n",
    "The number of servings per food $f$ is limited to $u_f$, and the number of servings of each food should be integer:\n",
    "\n",
    "$x_f \\in \\{0, 1, \\ldots, u_f\\} ~~~\\forall f$\n",
    "\n",
    "Or:\n",
    "\n",
    "$x_f \\in \\mathbb{Z}^+ ~~~\\forall f$\n",
    "\n",
    "$x_f \\leq u_f ~~~\\forall f$"
   ]
  },
  {
   "cell_type": "code",
   "execution_count": 1,
   "metadata": {},
   "outputs": [
    {
     "name": "stdout",
     "output_type": "stream",
     "text": [
      "Restricted license - for non-production use only - expires 2023-10-25\n",
      "Gurobi Optimizer version 9.5.2 build v9.5.2rc0 (mac64[rosetta2])\n",
      "Thread count: 8 physical cores, 8 logical processors, using up to 8 threads\n",
      "Optimize a model with 4 rows, 9 columns and 34 nonzeros\n",
      "Model fingerprint: 0x007a8834\n",
      "Variable types: 0 continuous, 9 integer (0 binary)\n",
      "Coefficient statistics:\n",
      "  Matrix range     [2e+00, 1e+03]\n",
      "  Objective range  [2e+00, 9e+00]\n",
      "  Bounds range     [2e+00, 2e+00]\n",
      "  RHS range        [6e+01, 3e+03]\n",
      "Presolve time: 0.00s\n",
      "Presolved: 4 rows, 9 columns, 34 nonzeros\n",
      "Variable types: 0 continuous, 9 integer (0 binary)\n",
      "Found heuristic solution: objective 24.6000000\n",
      "\n",
      "Root relaxation: objective 2.212321e+01, 2 iterations, 0.00 seconds (0.00 work units)\n",
      "\n",
      "    Nodes    |    Current Node    |     Objective Bounds      |     Work\n",
      " Expl Unexpl |  Obj  Depth IntInf | Incumbent    BestBd   Gap | It/Node Time\n",
      "\n",
      "     0     0   22.12321    0    2   24.60000   22.12321  10.1%     -    0s\n",
      "     0     0   23.12391    0    2   24.60000   23.12391  6.00%     -    0s\n",
      "\n",
      "Cutting planes:\n",
      "  Gomory: 2\n",
      "  MIR: 2\n",
      "  StrongCG: 1\n",
      "\n",
      "Explored 1 nodes (8 simplex iterations) in 0.04 seconds (0.00 work units)\n",
      "Thread count was 8 (of 8 available processors)\n",
      "\n",
      "Solution count 1: 24.6 \n",
      "\n",
      "Optimal solution found (tolerance 1.00e-04)\n",
      "Best objective 2.460000000000e+01, best bound 2.460000000000e+01, gap 0.0000%\n"
     ]
    }
   ],
   "source": [
    "# Your gurobipy model goes here!\n",
    "\n",
    "import gurobipy as gb\n",
    "model1 = gb.Model()\n",
    "\n",
    "food = model1.addVars(9, vtype=\"I\", ub=2)\n",
    "\n",
    "\n",
    "CALORIES = [479, 517, 341, 425, 54, 120, 184, 1202.4, 1240.4]\n",
    "MIN_CALORIES = 3000\n",
    "\n",
    "PROTEIN = [25, 32.4, 11.7, 5, 4, 9, 0, 31.3, 38.7]\n",
    "MIN_PROTEIN = 65\n",
    "\n",
    "FAT = [22, 25, 10.6, 21, 2, 4, 0, 48.7, 51.7]\n",
    "MAX_FAT = 117\n",
    "\n",
    "CARBS = [44, 40.4, 50, 54, 5, 12, 46, 158.5, 154.9]\n",
    "MIN_CARBS = 375\n",
    "\n",
    "PRICE = [5.45, 4.95, 3.95, 1.95, 3.95, 1.75, 2.75, 8.95, 8.95]\n",
    "\n",
    "\n",
    "model1.addConstr( gb.quicksum(food[i]*CALORIES[i] for i in range(0, 9)) >= MIN_CALORIES )\n",
    "model1.addConstr( gb.quicksum(food[i]*PROTEIN[i] for i in range(0, 9)) >= MIN_PROTEIN )\n",
    "model1.addConstr( gb.quicksum(food[i]*FAT[i] for i in range(0,9)) <= MAX_FAT )\n",
    "model1.addConstr( gb.quicksum(food[i]*CARBS[i] for i in range(0,9)) >= MIN_CARBS )\n",
    "\n",
    "model1.setObjective(gb.quicksum(food[i]*PRICE[i] for i in range(0, 9)))\n",
    "model1.optimize()"
   ]
  },
  {
   "cell_type": "code",
   "execution_count": 2,
   "metadata": {},
   "outputs": [
    {
     "name": "stdout",
     "output_type": "stream",
     "text": [
      "Big Mac: 0 count\n",
      "Quarter Pounder: 0 count\n",
      "Veggy Burger: 1 count\n",
      "French Fries: 0 count\n",
      "Salad: 0 count\n",
      "Milk: 0 count\n",
      "Coca Cola: 1 count\n",
      "Big Mac Meal: 0 count\n",
      "Quarter Pounder Meal: 2 count\n"
     ]
    }
   ],
   "source": [
    "FOOD_NAMES = [\"Big Mac\", \"Quarter Pounder\", \"Veggy Burger\", \"French Fries\", \n",
    "\"Salad\", \"Milk\", \"Coca Cola\", \"Big Mac Meal\", \"Quarter Pounder Meal\"]\n",
    "\n",
    "if model1.Status == gb.GRB.Status.OPTIMAL:\n",
    "    for v in model1.getVars():\n",
    "        print(f\"{FOOD_NAMES[v.index]}: {int(v.X)} count\")"
   ]
  },
  {
   "cell_type": "markdown",
   "metadata": {},
   "source": [
    "![SMBC: Taco Bell](https://www.smbc-comics.com/comics/1539689386-20181016%20(1).png)"
   ]
  },
  {
   "cell_type": "markdown",
   "metadata": {},
   "source": [
    "## <font color=\"990000\">Problem 2</font>\n",
    "\n",
    "For this problem, there is only the skeleton of the mathematical formulation. You are expected to write down the full mathematical formulation and then implement the model using gurobipy. You can assume that the decision variables in this problem are continuous.\n",
    "\n",
    "_You need to buy some filing cabinets. You know that Cabinet X\n",
    "costs \\\\$10 per unit, requires six square feet of floor space, and\n",
    "holds eight cubic feet of files. Cabinet Y costs \\\\$20 per unit,\n",
    "requires eight square feet of floor space, and holds twelve cubic\n",
    "feet of files. You have been given \\\\$140 for this purchase, though\n",
    "you don't have to spend that much. The office has room for no\n",
    "more than 72 square feet of cabinets. How many of which\n",
    "model should you buy, in order to maximize storage volume?_"
   ]
  },
  {
   "cell_type": "markdown",
   "metadata": {},
   "source": [
    "## <font color=\"#E87722\">Mathematical Formulation</font>\n",
    "\n",
    "### Decision variables\n",
    "\n",
    "- $x$: Amount of cabinet X purchased\n",
    "\n",
    "- $y$: Amount of cabinet Y purchased\n",
    "\n",
    "### Objective function\n",
    "\n",
    "Maximize this:\n",
    "\n",
    "$\\max 8x+ 12y$\n",
    "\n",
    "### Constraints\n",
    "\n",
    "Do not exceed budget of $140 given that each cabinet X cost $10 and each cabinet Y cost $20:\n",
    "\n",
    "$ 10x + 20y\\leq 140$\n",
    "\n",
    "Do not exceed floor space available:</br>\n",
    "$ 6x + 8y \\leq 72$\n",
    "\n",
    "The number of cabinets should be non-negative:\n",
    "\n",
    "$x, y \\geq 0$\n"
   ]
  },
  {
   "cell_type": "code",
   "execution_count": 3,
   "metadata": {},
   "outputs": [
    {
     "name": "stdout",
     "output_type": "stream",
     "text": [
      "Gurobi Optimizer version 9.5.2 build v9.5.2rc0 (mac64[rosetta2])\n",
      "Thread count: 8 physical cores, 8 logical processors, using up to 8 threads\n",
      "Optimize a model with 2 rows, 2 columns and 4 nonzeros\n",
      "Model fingerprint: 0x4438a52f\n",
      "Coefficient statistics:\n",
      "  Matrix range     [6e+00, 2e+01]\n",
      "  Objective range  [8e+00, 1e+01]\n",
      "  Bounds range     [0e+00, 0e+00]\n",
      "  RHS range        [7e+01, 1e+02]\n",
      "Presolve time: 0.01s\n",
      "Presolved: 2 rows, 2 columns, 4 nonzeros\n",
      "\n",
      "Iteration    Objective       Primal Inf.    Dual Inf.      Time\n",
      "       0    1.1000000e+31   3.875000e+30   1.100000e+01      0s\n",
      "       2    1.0000000e+02   0.000000e+00   0.000000e+00      0s\n",
      "\n",
      "Solved in 2 iterations and 0.02 seconds (0.00 work units)\n",
      "Optimal objective  1.000000000e+02\n"
     ]
    }
   ],
   "source": [
    "# Your gurobipy model goes here!\n",
    "\n",
    "model2 = gb.Model()\n",
    "\n",
    "# Cabinet X, Cabinet Y\n",
    "cabinets = model2.addVars(2)\n",
    "\n",
    "COST = [10, 20]\n",
    "FLOOR_SPACE = [6, 8]\n",
    "FILE_SPACE = [8, 12]\n",
    "\n",
    "\n",
    "model2.addConstr(gb.quicksum(cabinets[i]*COST[i] for i in range(2)) <= 140)\n",
    "model2.addConstr(gb.quicksum(cabinets[i]*FLOOR_SPACE[i] for i in range(2)) <= 72)\n",
    "\n",
    "model2.setObjective(gb.quicksum(cabinets[i]*FILE_SPACE[i] for i in range(2)), gb.GRB.MAXIMIZE)\n",
    "\n",
    "model2.optimize()\n",
    "\n",
    "\n",
    "\n"
   ]
  },
  {
   "cell_type": "code",
   "execution_count": 4,
   "metadata": {},
   "outputs": [
    {
     "name": "stdout",
     "output_type": "stream",
     "text": [
      "Cabinet X: 8 count\n",
      "Cabinet Y: 3 count\n"
     ]
    }
   ],
   "source": [
    "CABINET_NAMES = [\"Cabinet X\", \"Cabinet Y\"]\n",
    "\n",
    "if model2.Status == gb.GRB.Status.OPTIMAL:\n",
    "    for v in model2.getVars():\n",
    "        print(f\"{CABINET_NAMES[v.index]}: {int(v.X)} count\")"
   ]
  },
  {
   "cell_type": "markdown",
   "metadata": {},
   "source": [
    "## <font color=\"990000\">Problem 3</font>\n",
    "\n",
    "_A factory makes 3 components, A, B and C using the same\n",
    "production process for each. A unit of A take 1 hr, a unit of B takes 0.75\n",
    "hrs and a unit of C takes 0.5 hrs. In addition, C has to be hand finished, an\n",
    "activity taking 0.25 hrs per unit. Each week total production time (excluding\n",
    "hand finishing) must not exceed 300 hrs and hand finishing must not exceed\n",
    "45 hrs._\n",
    "\n",
    "_The components are finally assembled to make two finished products.\n",
    "One product consists of 1 unit of A and 1 unit of C selling for 30 pounds\n",
    "whilst the other consists of 2 units of B and 1 unit of C and sells for 45\n",
    "pounds. At most 130 of the first product and 100 of the second product can\n",
    "be sold each week. Formulate the problem of planning weekly production to\n",
    "maximise total proceeds._"
   ]
  },
  {
   "cell_type": "markdown",
   "metadata": {},
   "source": [
    "## <font color=\"#E87722\">Mathematical Formulation</font>\n",
    "\n",
    "<h3>Deicision Variables</h3>\n",
    "\n",
    "- $A$: Amount of component A produced\n",
    "- $B$: Amount of component B produced\n",
    "- $C$: Amount of component C produced\n",
    "- $P_1$: Amount of product 1 produced\n",
    "- $P_2$: Amount of product 2 produced\n",
    "\n",
    "\n",
    "<h3>Objective Function</h3>\n",
    "Maximize Revenue given that product 1 sells for 30 pounds and product 2 for 45 pounds:\n",
    "\n",
    "$\\max 30 P_1 + 45 P_2 $\n",
    "\n",
    "<h3>Constraints</h3>\n",
    "\n",
    "$1 A + 0.75 B + 0.5C \\leq 300 $\n",
    "</br>\n",
    "$0.25 C \\leq 45$\n",
    "\n",
    "Do not exceed availability of componenet A while making product 1, while each unit of product 1 takes 1 unit of componenet A:\n",
    "\n",
    "$P_1 \\leq A$</br>\n",
    "Every product 2 takes 2 units of componenet B, and we should not exceed the availability of B (note that componenet B is not used in product 1):</br>\n",
    "$2 P_2 \\leq B$\n",
    "\n",
    "Product 1 takes 1 unit of componenet C, product 2 takes 1 unit of componenet C, and we do not want to exceed the number of units available of componenet C:</br>\n",
    "$P_1  + P_2 \\leq C$\n",
    "\n",
    "All decision variables are nonnegative:</br>\n",
    "$A, B, C, P_1, P_2 \\geq 0$\n",
    "\n"
   ]
  },
  {
   "cell_type": "code",
   "execution_count": 5,
   "metadata": {},
   "outputs": [
    {
     "name": "stdout",
     "output_type": "stream",
     "text": [
      "Gurobi Optimizer version 9.5.2 build v9.5.2rc0 (mac64[rosetta2])\n",
      "Thread count: 8 physical cores, 8 logical processors, using up to 8 threads\n",
      "Optimize a model with 5 rows, 5 columns and 11 nonzeros\n",
      "Model fingerprint: 0xbfac9260\n",
      "Coefficient statistics:\n",
      "  Matrix range     [2e-01, 2e+00]\n",
      "  Objective range  [3e+01, 4e+01]\n",
      "  Bounds range     [1e+02, 1e+02]\n",
      "  RHS range        [4e+01, 3e+02]\n",
      "Presolve removed 3 rows and 2 columns\n",
      "Presolve time: 0.01s\n",
      "Presolved: 2 rows, 3 columns, 6 nonzeros\n",
      "\n",
      "Iteration    Objective       Primal Inf.    Dual Inf.      Time\n",
      "       0    8.4000000e+03   1.812500e+01   0.000000e+00      0s\n",
      "       1    6.5000000e+03   0.000000e+00   0.000000e+00      0s\n",
      "\n",
      "Solved in 1 iterations and 0.01 seconds (0.00 work units)\n",
      "Optimal objective  6.500000000e+03\n"
     ]
    }
   ],
   "source": [
    "# Your gurobipy model goes here!\n",
    "model3 = gb.Model()\n",
    "\n",
    "\n",
    "COMPONENT_TIME = [1, 0.75, 0.5]\n",
    "\n",
    "component = model3.addVars(3)\n",
    "product = model3.addVars(2, ub=[130, 100])\n",
    "\n",
    "model3.addConstr(gb.quicksum(component[i]*COMPONENT_TIME[i] for i in range(0, 3)) <= 300)\n",
    "model3.addConstr(0.25*component[2] <= 45)\n",
    "model3.addConstr(product[0] <= component[0])\n",
    "model3.addConstr(2*product[1] <= component[1])\n",
    "model3.addConstr(product[0] + product[1] <= component[2])\n",
    "\n",
    "model3.setObjective(30*product[0] + 45*product[1], gb.GRB.MAXIMIZE)\n",
    "model3.optimize()\n",
    "\n",
    "\n"
   ]
  },
  {
   "cell_type": "code",
   "execution_count": 6,
   "metadata": {},
   "outputs": [
    {
     "name": "stdout",
     "output_type": "stream",
     "text": [
      "Component A: 66 count\n",
      "Component B: 200 count\n",
      "Component C: 166 count\n",
      "Product 1: 66 count\n",
      "Product 2: 100 count\n"
     ]
    }
   ],
   "source": [
    "COMPONENT_NAMES = [\"Component A\", \"Component B\", \"Component C\"]\n",
    "PRODUCT_NAMES = [\"Product 1\", \"Product 2\"]\n",
    "\n",
    "if model3.Status == gb.GRB.Status.OPTIMAL:\n",
    "    for v in model3.getVars():\n",
    "        print(f\"{(COMPONENT_NAMES + PRODUCT_NAMES)[v.index]}: {int(v.X)} count\")\n"
   ]
  },
  {
   "cell_type": "markdown",
   "metadata": {},
   "source": [
    "## <font color=\"990000\">Problem 4</font>\n",
    "\n",
    "_The Claverton Police Force has the following minimum daily\n",
    "requirements for policemen on duty._\n",
    "\n",
    "| 0.00−4.00 | 4.00−8.00 | 8.00−12.00 | 12.00−16.00 | 16.00 −20.00 | 20.00 −24.00 |\n",
    "| --- | --- | --- | --- | --- | --- |\n",
    "| 15 | 35 | 65 | 80 | 40 | 25 |\n",
    "\n",
    "_Each policeman comes on duty at 0.00, 4.00, 8.00, 12.00, 16.00 or 20.00 hrs\n",
    "and works for eight consecutive hours. Formulate the problem of finding\n",
    "the duty schedule that minimises the total number of policemen required.\n",
    "Assume that the same schedule is repeated day after day._"
   ]
  },
  {
   "cell_type": "code",
   "execution_count": 7,
   "metadata": {},
   "outputs": [
    {
     "name": "stdout",
     "output_type": "stream",
     "text": [
      "Gurobi Optimizer version 9.5.2 build v9.5.2rc0 (mac64[rosetta2])\n",
      "Thread count: 8 physical cores, 8 logical processors, using up to 8 threads\n",
      "Optimize a model with 6 rows, 6 columns and 12 nonzeros\n",
      "Model fingerprint: 0x7ce084ee\n",
      "Coefficient statistics:\n",
      "  Matrix range     [1e+00, 1e+00]\n",
      "  Objective range  [2e+01, 8e+01]\n",
      "  Bounds range     [0e+00, 0e+00]\n",
      "  RHS range        [2e+01, 8e+01]\n",
      "Presolve time: 0.01s\n",
      "Presolved: 6 rows, 6 columns, 12 nonzeros\n",
      "\n",
      "Iteration    Objective       Primal Inf.    Dual Inf.      Time\n",
      "       0    0.0000000e+00   2.600000e+02   0.000000e+00      0s\n",
      "       4    6.9500000e+03   0.000000e+00   0.000000e+00      0s\n",
      "\n",
      "Solved in 4 iterations and 0.01 seconds (0.00 work units)\n",
      "Optimal objective  6.950000000e+03\n"
     ]
    }
   ],
   "source": [
    "model4 = gb.Model()\n",
    "\n",
    "HOURS = [0, 4, 8, 12, 16, 20]\n",
    "SHIFT_TIME = 8\n",
    "\n",
    "MIN_POLICE = [15, 35, 65, 80, 40, 25]\n",
    "\n",
    "active_duty = model4.addVars(6)\n",
    "\n",
    "model4.addConstr(active_duty[5] + active_duty[0] >= 15)\n",
    "model4.addConstr(active_duty[0] + active_duty[1] >= 35)\n",
    "model4.addConstr(active_duty[1] + active_duty[2] >= 65)\n",
    "model4.addConstr(active_duty[2] + active_duty[3] >= 80)\n",
    "model4.addConstr(active_duty[3] + active_duty[4] >= 40)\n",
    "model4.addConstr(active_duty[4] + active_duty[5] >= 25)\n",
    "\n",
    "model4.setObjective(gb.quicksum(active_duty[i]*MIN_POLICE[i] for i in range(6)))\n",
    "\n",
    "model4.optimize()"
   ]
  },
  {
   "cell_type": "code",
   "execution_count": 8,
   "metadata": {},
   "outputs": [
    {
     "name": "stdout",
     "output_type": "stream",
     "text": [
      "Shift 0-4: 35 policeman added to shift\n",
      "Shift 4-8: 0 policeman added to shift\n",
      "Shift 8-12: 65 policeman added to shift\n",
      "Shift 12-16: 15 policeman added to shift\n",
      "Shift 16-20: 25 policeman added to shift\n",
      "Shift 20-24: 0 policeman added to shift\n"
     ]
    }
   ],
   "source": [
    "\n",
    "if model4.Status == gb.GRB.Status.OPTIMAL:\n",
    "    for v in model4.getVars():\n",
    "        print(f\"Shift {HOURS[v.index]}-{str(HOURS[v.index]+4)}: {int(v.X)} policeman added to shift\")"
   ]
  },
  {
   "cell_type": "markdown",
   "metadata": {},
   "source": [
    "## <font color=\"990000\">Problem 5</font>\n",
    "\n",
    "_A health food shop packages three types of snack foods; chewy,\n",
    "crunchy and nutty. These are made by mixing sunflower seeds, rasins, and\n",
    "peanuts. The specifications for each food being given in the following table._\n",
    "\n",
    "| Mixture | Sunflower seeds | Raisins | Peanuts | Retail price/kg |\n",
    "| --- | --- | --- | --- | --- |\n",
    "| Chewy |  | at least 60% | at most 25% | £2.00 |\n",
    "| Crunchy | at least 60 % |  |  | £1.60 |\n",
    "| Nutty | at most 20% |  | at least 60% | £1.20 |\n",
    "\n",
    "_The suppliers of the ingredients can deliver each week at most 100kg of\n",
    "sunflower seeds at £1.00/kg, 80kg of rasins at £1.50/kg and 60kg of peanuts\n",
    "at £0,80/kg. Assuming there is no limit to what can be sold, formulate\n",
    "[and solve] the problem of finding the mixing scheme that maximises\n",
    "weekly profit._"
   ]
  },
  {
   "cell_type": "code",
   "execution_count": 9,
   "metadata": {},
   "outputs": [
    {
     "name": "stdout",
     "output_type": "stream",
     "text": [
      "Gurobi Optimizer version 9.5.2 build v9.5.2rc0 (mac64[rosetta2])\n",
      "Thread count: 8 physical cores, 8 logical processors, using up to 8 threads\n",
      "Optimize a model with 8 rows, 9 columns and 14 nonzeros\n",
      "Model fingerprint: 0xe6d571d8\n",
      "Coefficient statistics:\n",
      "  Matrix range     [1e+00, 1e+00]\n",
      "  Objective range  [1e+00, 2e+00]\n",
      "  Bounds range     [0e+00, 0e+00]\n",
      "  RHS range        [2e+01, 1e+02]\n",
      "Presolve removed 8 rows and 9 columns\n",
      "Presolve time: 0.00s\n",
      "Presolve: All rows and columns removed\n",
      "Iteration    Objective       Primal Inf.    Dual Inf.      Time\n",
      "       0    4.3200000e+02   0.000000e+00   0.000000e+00      0s\n",
      "\n",
      "Solved in 0 iterations and 0.00 seconds (0.00 work units)\n",
      "Optimal objective  4.320000000e+02\n"
     ]
    }
   ],
   "source": [
    "model5 = gb.Model()\n",
    "\n",
    "chewy_s = model5.addVar()\n",
    "chewy_r = model5.addVar()\n",
    "chewy_p = model5.addVar()\n",
    "crunch_s = model5.addVar()\n",
    "crunch_r = model5.addVar()\n",
    "crunch_p = model5.addVar()\n",
    "nutty_s = model5.addVar()\n",
    "nutty_r = model5.addVar()\n",
    "nutty_p = model5.addVar()\n",
    "\n",
    "\"\"\"Seeds, Raisins Peanuts, RESPECTIVELY\"\"\"\n",
    "SEEDS = 0\n",
    "RAISINS = 1\n",
    "PEANUTS = 2\n",
    "CHEWY = [1, 0.6, 0.25]\n",
    "CRUNCH = [0.6, 1, 1]\n",
    "NUTTY = [0.2, 1, 0.6]\n",
    "MIXTURE = [100, 80, 60]\n",
    "COST = [1, 1.50, 0.80]\n",
    "\n",
    "model5.addConstr(crunch_s >= CRUNCH[SEEDS]*MIXTURE[SEEDS])\n",
    "model5.addConstr(nutty_s <= NUTTY[SEEDS]*MIXTURE[SEEDS])\n",
    "model5.addConstr(chewy_r >= CHEWY[RAISINS]*MIXTURE[RAISINS])\n",
    "model5.addConstr(chewy_p <= CHEWY[PEANUTS]*MIXTURE[PEANUTS])\n",
    "model5.addConstr(nutty_p >= CHEWY[PEANUTS]*MIXTURE[PEANUTS])\n",
    "\n",
    "model5.addConstr(chewy_s + crunch_s + nutty_s <= MIXTURE[SEEDS])\n",
    "model5.addConstr(chewy_r + crunch_r + nutty_r <= MIXTURE[RAISINS])\n",
    "model5.addConstr(chewy_p + crunch_p + nutty_p <= MIXTURE[PEANUTS])\n",
    "\n",
    "model5.setObjective(2*(chewy_s + chewy_r + chewy_p) + 1.60*(crunch_p + crunch_r + crunch_s) + \n",
    "1.20*(nutty_p + nutty_r + nutty_s), gb.GRB.MAXIMIZE)\n",
    "\n",
    "model5.optimize()\n",
    "\n",
    "\n",
    "\n"
   ]
  },
  {
   "cell_type": "code",
   "execution_count": 11,
   "metadata": {},
   "outputs": [
    {
     "name": "stdout",
     "output_type": "stream",
     "text": [
      "ChewyChewyChewy: 40.0\n",
      "ChunchyChunchyChunchy: 80.0\n",
      "NuttyNuttyNutty: 15.0\n",
      "SunflowerSunflowerSunflower: 60.0\n",
      "RaisinRaisinRaisin: 0.0\n",
      "PeanutPeanutPeanut: 30.0\n"
     ]
    },
    {
     "ename": "IndexError",
     "evalue": "list index out of range",
     "output_type": "error",
     "traceback": [
      "\u001b[0;31m---------------------------------------------------------------------------\u001b[0m",
      "\u001b[0;31mIndexError\u001b[0m                                Traceback (most recent call last)",
      "\u001b[1;32m/Users/hunterlebow/Documents/bucknell/anop370/lectures/lecture8/Notebook for Lectures 8 and 9.ipynb Cell 20\u001b[0m in \u001b[0;36m<cell line: 4>\u001b[0;34m()\u001b[0m\n\u001b[1;32m      <a href='vscode-notebook-cell:/Users/hunterlebow/Documents/bucknell/anop370/lectures/lecture8/Notebook%20for%20Lectures%208%20and%209.ipynb#X26sZmlsZQ%3D%3D?line=3'>4</a>\u001b[0m \u001b[39mif\u001b[39;00m model5\u001b[39m.\u001b[39mStatus \u001b[39m==\u001b[39m gb\u001b[39m.\u001b[39mGRB\u001b[39m.\u001b[39mStatus\u001b[39m.\u001b[39mOPTIMAL:\n\u001b[1;32m      <a href='vscode-notebook-cell:/Users/hunterlebow/Documents/bucknell/anop370/lectures/lecture8/Notebook%20for%20Lectures%208%20and%209.ipynb#X26sZmlsZQ%3D%3D?line=4'>5</a>\u001b[0m     \u001b[39mfor\u001b[39;00m v \u001b[39min\u001b[39;00m model5\u001b[39m.\u001b[39mgetVars():\n\u001b[0;32m----> <a href='vscode-notebook-cell:/Users/hunterlebow/Documents/bucknell/anop370/lectures/lecture8/Notebook%20for%20Lectures%208%20and%209.ipynb#X26sZmlsZQ%3D%3D?line=5'>6</a>\u001b[0m         \u001b[39mprint\u001b[39m(\u001b[39mf\u001b[39m\u001b[39m\"\u001b[39m\u001b[39m{\u001b[39;00m(MIXTURE \u001b[39m+\u001b[39m INGREDIENTS)[v\u001b[39m.\u001b[39mindex]\u001b[39m*\u001b[39m\u001b[39m3\u001b[39m\u001b[39m}\u001b[39;00m\u001b[39m: \u001b[39m\u001b[39m{\u001b[39;00m(v\u001b[39m.\u001b[39mX)\u001b[39m}\u001b[39;00m\u001b[39m\"\u001b[39m)\n",
      "\u001b[0;31mIndexError\u001b[0m: list index out of range"
     ]
    }
   ],
   "source": [
    "MIXTURE = [\"Chewy\", \"Chunchy\", \"Nutty\"]\n",
    "INGREDIENTS = [\"Sunflower\", \"Raisin\", \"Peanut\"]\n",
    "\n",
    "if model5.Status == gb.GRB.Status.OPTIMAL:\n",
    "    for v in model5.getVars():\n",
    "        print(f\"{(MIXTURE + INGREDIENTS)[v.index]*3}: {(v.X)}\")"
   ]
  }
 ],
 "metadata": {
  "kernelspec": {
   "display_name": "Python 3.9.12 ('anop370-venv')",
   "language": "python",
   "name": "python3"
  },
  "language_info": {
   "codemirror_mode": {
    "name": "ipython",
    "version": 3
   },
   "file_extension": ".py",
   "mimetype": "text/x-python",
   "name": "python",
   "nbconvert_exporter": "python",
   "pygments_lexer": "ipython3",
   "version": "3.9.12"
  },
  "vscode": {
   "interpreter": {
    "hash": "4bcc122c95170f394dbcebd198668dbd6334b8f7eed10155fd6cc6b19919fb1d"
   }
  }
 },
 "nbformat": 4,
 "nbformat_minor": 2
}
