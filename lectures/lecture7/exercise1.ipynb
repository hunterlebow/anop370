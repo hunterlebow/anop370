{
 "cells": [
  {
   "cell_type": "code",
   "execution_count": 11,
   "metadata": {},
   "outputs": [
    {
     "name": "stdout",
     "output_type": "stream",
     "text": [
      "Gurobi Optimizer version 9.5.2 build v9.5.2rc0 (mac64[rosetta2])\n",
      "Thread count: 8 physical cores, 8 logical processors, using up to 8 threads\n",
      "Optimize a model with 4 rows, 12 columns and 20 nonzeros\n",
      "Model fingerprint: 0x593fd6e7\n",
      "Coefficient statistics:\n",
      "  Matrix range     [1e+00, 1e+00]\n",
      "  Objective range  [1e-02, 1e-01]\n",
      "  Bounds range     [0e+00, 0e+00]\n",
      "  RHS range        [2e+05, 8e+05]\n",
      "Presolve removed 4 rows and 12 columns\n",
      "Presolve time: 0.00s\n",
      "Presolve: All rows and columns removed\n",
      "Iteration    Objective       Primal Inf.    Dual Inf.      Time\n",
      "       0    8.6400000e+03   0.000000e+00   0.000000e+00      0s\n",
      "\n",
      "Solved in 0 iterations and 0.01 seconds (0.00 work units)\n",
      "Optimal objective  8.640000000e+03\n"
     ]
    }
   ],
   "source": [
    "import gurobipy as gb\n",
    "model = gb.Model()\n",
    "\n",
    "a = [1, 2, 3, 4, 5, 6] #Maturity = 1 Month // YAM = 1.8%\n",
    "b = [1, 3, 5] # Maturity = 2 Months // YAM = 3.5%\n",
    "c = [1, 4] # Maturity = 3 Months // YAM = 5.8%\n",
    "d = [1] #Maturity = 6 Months // YAM = 11.0%\n",
    "\n",
    "a[0] = model.addVar() \n",
    "a[1] = model.addVar()\n",
    "a[2] = model.addVar()\n",
    "a[3] = model.addVar()\n",
    "a[4] = model.addVar()\n",
    "a[5] = model.addVar()\n",
    "b[0] = model.addVar()\n",
    "b[1] = model.addVar()\n",
    "b[2] = model.addVar()\n",
    "c[0] = model.addVar()\n",
    "c[1] = model.addVar()\n",
    "d[0] = model.addVar()\n",
    "\n",
    "model.addConstr(a[0] + a[1] + a[2] + a[3] + a[4]+ a[5] + b[0] + b[1] + \n",
    "b[2] + c[0] + c[1] + d[0] <= 800000)\n",
    "\n",
    "model.addConstr(a[1] + b[1] == 250000)\n",
    "\n",
    "model.addConstr(a[2] + c[0] == 250000)\n",
    "\n",
    "model.addConstr(a[5] + b[2] + c[1] + d[0] == 300000)\n",
    "\n",
    "model.setObjective(0.0108*a[0] + 0.0108*a[1] + 0.0108*a[2] + 0.0108*a[3] +\n",
    "0.0108*a[4] + 0.0108*a[5] + 0.035 *b[0] + 0.035 *b[1] + 0.035 *b[2] +\n",
    "0.058 *c[0] + 0.058 *c[1] + 0.11 *d[0])\n",
    "\n",
    "model.optimize()\n",
    "\n",
    "\n",
    "\n",
    "\n",
    "\n"
   ]
  },
  {
   "cell_type": "code",
   "execution_count": 13,
   "metadata": {},
   "outputs": [
    {
     "name": "stdout",
     "output_type": "stream",
     "text": [
      "A1: 0.0\n",
      "A2: 250000.0\n",
      "A3: 250000.0\n",
      "A4: 0.0\n",
      "A5: 0.0\n",
      "A6: 300000.0\n",
      "\n",
      "\n",
      "B1: 0.0\n",
      "B2: 0.0\n",
      "B3: 0.0\n",
      "\n",
      "\n",
      "C1: 0.0\n",
      "C2: 0.0\n",
      "\n",
      "\n",
      "D1: 0.0\n"
     ]
    }
   ],
   "source": [
    "for i in range(6):\n",
    "    print(f\"A{i+1}: {a[i].X}\")\n",
    "print(\"\\n\")\n",
    "\n",
    "for i in range(3):\n",
    "    print(f\"B{i+1}: {b[i].X}\")\n",
    "print(\"\\n\")\n",
    "\n",
    "for i in range(2):\n",
    "    print(f\"C{i+1}: {c[i].X}\")\n",
    "print(\"\\n\")\n",
    "\n",
    "for i in range(1):\n",
    "    print(f\"D{i+1}: {d[i].X}\")"
   ]
  }
 ],
 "metadata": {
  "kernelspec": {
   "display_name": "Python 3.9.12 ('anop370-venv')",
   "language": "python",
   "name": "python3"
  },
  "language_info": {
   "codemirror_mode": {
    "name": "ipython",
    "version": 3
   },
   "file_extension": ".py",
   "mimetype": "text/x-python",
   "name": "python",
   "nbconvert_exporter": "python",
   "pygments_lexer": "ipython3",
   "version": "3.9.12"
  },
  "orig_nbformat": 4,
  "vscode": {
   "interpreter": {
    "hash": "4bcc122c95170f394dbcebd198668dbd6334b8f7eed10155fd6cc6b19919fb1d"
   }
  }
 },
 "nbformat": 4,
 "nbformat_minor": 2
}
