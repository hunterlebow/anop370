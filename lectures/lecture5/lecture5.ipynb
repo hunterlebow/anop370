{
 "cells": [
  {
   "cell_type": "markdown",
   "id": "2e2cab2c",
   "metadata": {},
   "source": [
    "Decision variables: \n",
    "- $make_i$ for how many units of model $i$ we make\n",
    "- $buy_i$ for how many units of model $i$ we buy\n",
    "\n",
    "(When we use the dollar sign, we are able to write equations using the LaTeX syntax)\n",
    "\n",
    "Some constraints:\n",
    "- Procure exactly 3,000 units of model 1: $make_1 + buy_1 = 3000$\n",
    "- Alt, procure at least 3,000 units of model 0: $make_0 + buy_0 \\geq 3000$"
   ]
  },
  {
   "cell_type": "code",
   "execution_count": 3,
   "id": "d3782934",
   "metadata": {},
   "outputs": [
    {
     "data": {
      "text/plain": [
       "<gurobi.Constr *Awaiting Model Update*>"
      ]
     },
     "execution_count": 3,
     "metadata": {},
     "output_type": "execute_result"
    }
   ],
   "source": [
    "import gurobipy as gb\n",
    "\n",
    "model = gb.Model()\n",
    "\n",
    "# Create make variables\n",
    "make = model.addVars(3) # We get decision variables m[0], m[1], m[2]\n",
    "\n",
    "# Create buy variables\n",
    "buy = model.addVars(3) # Like above for b[0] to b[2]\n",
    "\n",
    "model.addConstr(make[0]+buy[0] == 3000)\n",
    "model.addConstr(make[1]+buy[1] == 2000)\n",
    "model.addConstr(make[2]+buy[2] == 900)"
   ]
  },
  {
   "cell_type": "code",
   "execution_count": 5,
   "id": "c1073aa3",
   "metadata": {},
   "outputs": [
    {
     "name": "stdout",
     "output_type": "stream",
     "text": [
      "Gurobi Optimizer version 9.5.2 build v9.5.2rc0 (mac64[rosetta2])\n",
      "Thread count: 8 physical cores, 8 logical processors, using up to 8 threads\n",
      "Optimize a model with 7 rows, 6 columns and 18 nonzeros\n",
      "Model fingerprint: 0xe7133b2f\n",
      "Coefficient statistics:\n",
      "  Matrix range     [1e+00, 3e+00]\n",
      "  Objective range  [5e+01, 1e+02]\n",
      "  Bounds range     [0e+00, 0e+00]\n",
      "  RHS range        [9e+02, 1e+04]\n",
      "Presolve removed 5 rows and 3 columns\n",
      "Presolve time: 0.01s\n",
      "Presolved: 2 rows, 3 columns, 6 nonzeros\n",
      "\n",
      "Iteration    Objective       Primal Inf.    Dual Inf.      Time\n",
      "       0    4.3300000e+05   4.687500e+02   0.000000e+00      0s\n",
      "       1    4.5330000e+05   0.000000e+00   0.000000e+00      0s\n",
      "\n",
      "Solved in 1 iterations and 0.01 seconds (0.00 work units)\n",
      "Optimal objective  4.533000000e+05\n"
     ]
    }
   ],
   "source": [
    "#Wiring constraint on what we make (does not apply to what we buy)\n",
    "model.addConstr(2*make[0] + 1.5*make[1] + 3*make[2] <= 10000)\n",
    "\n",
    "#Wiring constraint on what we make (does not apply to what we buy)\n",
    "model.addConstr(1*make[0] + 2*make[1] + 1*make[2] <= 5000)\n",
    "\n",
    "model.setObjective(50*make[0] + 83*make[1] + 130*make[2]\n",
    "    + 61*buy[0] + 97*buy[1] + 145*buy[2])\n",
    "\n",
    "model.optimize()\n",
    "\n"
   ]
  },
  {
   "cell_type": "code",
   "execution_count": 7,
   "id": "a7e0c6b1",
   "metadata": {},
   "outputs": [
    {
     "name": "stdout",
     "output_type": "stream",
     "text": [
      "Model 0 Make 3000.0 Buy 0.0\n",
      "Model 1 Make 550.0 Buy 1450.0\n",
      "Model 2 Make 900.0 Buy 0.0\n"
     ]
    }
   ],
   "source": [
    "#values for the decision variables\n",
    "\n",
    "for i in range(3):\n",
    "    print(f'Model {i} Make {make[i].X} Buy {buy[i].X}')"
   ]
  }
 ],
 "metadata": {
  "kernelspec": {
   "display_name": "Python 3.9.12 ('anop370-venv')",
   "language": "python",
   "name": "python3"
  },
  "language_info": {
   "codemirror_mode": {
    "name": "ipython",
    "version": 3
   },
   "file_extension": ".py",
   "mimetype": "text/x-python",
   "name": "python",
   "nbconvert_exporter": "python",
   "pygments_lexer": "ipython3",
   "version": "3.9.12"
  },
  "vscode": {
   "interpreter": {
    "hash": "4bcc122c95170f394dbcebd198668dbd6334b8f7eed10155fd6cc6b19919fb1d"
   }
  }
 },
 "nbformat": 4,
 "nbformat_minor": 5
}
