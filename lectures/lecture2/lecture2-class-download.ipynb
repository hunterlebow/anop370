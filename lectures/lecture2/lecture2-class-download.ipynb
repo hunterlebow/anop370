{
 "cells": [
  {
   "cell_type": "markdown",
   "id": "d7ffacf6",
   "metadata": {},
   "source": [
    "The cell below only has to be run once and gurobipy will be installed for good in your computer."
   ]
  },
  {
   "cell_type": "code",
   "execution_count": 1,
   "id": "f06c60b0",
   "metadata": {},
   "outputs": [
    {
     "name": "stdout",
     "output_type": "stream",
     "text": [
      "Defaulting to user installation because normal site-packages is not writeableNote: you may need to restart the kernel to use updated packages.\n",
      "Collecting gurobipy\n",
      "  Downloading gurobipy-9.5.2-cp39-cp39-win_amd64.whl (8.9 MB)\n",
      "Installing collected packages: gurobipy\n",
      "Successfully installed gurobipy-9.5.2\n",
      "\n"
     ]
    }
   ],
   "source": [
    "pip install gurobipy"
   ]
  },
  {
   "cell_type": "code",
   "execution_count": 5,
   "id": "7e0acaad",
   "metadata": {},
   "outputs": [
    {
     "name": "stdout",
     "output_type": "stream",
     "text": [
      "Gurobi Optimizer version 9.5.2 build v9.5.2rc0 (win64)\n",
      "Thread count: 8 physical cores, 16 logical processors, using up to 16 threads\n",
      "Optimize a model with 2 rows, 2 columns and 4 nonzeros\n",
      "Model fingerprint: 0x919c84b2\n",
      "Coefficient statistics:\n",
      "  Matrix range     [1e+00, 2e+00]\n",
      "  Objective range  [1e+01, 2e+01]\n",
      "  Bounds range     [0e+00, 0e+00]\n",
      "  RHS range        [7e+00, 8e+00]\n",
      "Presolve time: 0.00s\n",
      "Presolved: 2 rows, 2 columns, 4 nonzeros\n",
      "\n",
      "Iteration    Objective       Primal Inf.    Dual Inf.      Time\n",
      "       0    2.6000000e+31   3.500000e+30   2.600000e+01      0s\n",
      "       2    5.8000000e+01   0.000000e+00   0.000000e+00      0s\n",
      "\n",
      "Solved in 2 iterations and 0.00 seconds (0.00 work units)\n",
      "Optimal objective  5.800000000e+01\n"
     ]
    }
   ],
   "source": [
    "import gurobipy as gb # Importing the library that can call Gurobi\n",
    "# We are using a shorter nickname for it, gb\n",
    "\n",
    "model = gb.Model() # This creates a model and Model should be capitalized here!\n",
    "\n",
    "chairs = model.addVar() # This creates a decision variable in the model\n",
    "tables = model.addVar() # This creates another decision variable\n",
    "# These variables that we created may assume many values; they are not a simple float, for example\n",
    "\n",
    "model.addConstr(2*chairs + 2*tables <= 8) # This adds a constraint to the model\n",
    "model.addConstr(1*chairs + 2*tables <= 7) # Likewise\n",
    "# When we create a mathematical expression with decision variables, \n",
    "# we are not calculating a number. We are actually creating an object\n",
    "# that will produce those numbers as we change the decision variables\n",
    "\n",
    "model.setObjective(10*chairs + 16*tables, gb.GRB.MAXIMIZE) # Defines the objective function\n",
    "# By default, Gurobi will minimize the objective function\n",
    "# If you want it maximized, you need to provide an optional argument for that\n",
    "\n",
    "model.optimize() # This will call Gurobi to solve the problem"
   ]
  },
  {
   "cell_type": "code",
   "execution_count": 6,
   "id": "90ec59be",
   "metadata": {},
   "outputs": [
    {
     "name": "stdout",
     "output_type": "stream",
     "text": [
      "Chairs: 1.0\n",
      "Tables: 3.0\n",
      "PROFIT: 58.0\n"
     ]
    }
   ],
   "source": [
    "# Since solving the model may take a while, it might be good to extract things separately\n",
    "print(\"Chairs:\", chairs.X) # The attribute .X extracts the value of the decision variable\n",
    "print(\"Tables:\", tables.X) \n",
    "print(\"PROFIT:\", model.objVal) # This attribute of the model gives us the optimal value"
   ]
  }
 ],
 "metadata": {
  "kernelspec": {
   "display_name": "Python 3.9.12 ('anop370-venv')",
   "language": "python",
   "name": "python3"
  },
  "language_info": {
   "codemirror_mode": {
    "name": "ipython",
    "version": 3
   },
   "file_extension": ".py",
   "mimetype": "text/x-python",
   "name": "python",
   "nbconvert_exporter": "python",
   "pygments_lexer": "ipython3",
   "version": "3.9.12"
  },
  "vscode": {
   "interpreter": {
    "hash": "4bcc122c95170f394dbcebd198668dbd6334b8f7eed10155fd6cc6b19919fb1d"
   }
  }
 },
 "nbformat": 4,
 "nbformat_minor": 5
}
