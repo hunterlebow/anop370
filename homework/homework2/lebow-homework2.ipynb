{
 "cells": [
  {
   "cell_type": "markdown",
   "metadata": {},
   "source": [
    "<style>\n",
    "    div {padding: 5px 5px}\n",
    "    div {background-color: lightgray}\n",
    "    div {text-align: center}\n",
    "    div {width: 90%}\n",
    "    div {margin-left: 5%}\n",
    "    h1 {color: #000}\n",
    "    h2 {color: #000}\n",
    "    h4 {color: #000}\n",
    "\n",
    "</style>\n",
    "<div>\n",
    "<h1>ANOP370: Homework 2</h1>\n",
    "<br/>\n",
    "<h2>Hunter Lebow</h2>\n",
    "<h4>Problems 1 & 2</h4>\n",
    "</div>"
   ]
  },
  {
   "cell_type": "markdown",
   "metadata": {},
   "source": [
    "# Problem 1\n",
    "## Lets use Gurobipy and create a model"
   ]
  },
  {
   "cell_type": "code",
   "execution_count": 2,
   "metadata": {},
   "outputs": [],
   "source": [
    "import gurobipy as gb\n",
    "model1 = gb.Model()"
   ]
  },
  {
   "cell_type": "markdown",
   "metadata": {},
   "source": [
    "## Add Model Variables"
   ]
  },
  {
   "cell_type": "code",
   "execution_count": 3,
   "metadata": {},
   "outputs": [],
   "source": [
    "feed = model1.addVars(3)"
   ]
  },
  {
   "cell_type": "markdown",
   "metadata": {},
   "source": [
    "## Add Model Constraints"
   ]
  },
  {
   "cell_type": "code",
   "execution_count": 4,
   "metadata": {},
   "outputs": [
    {
     "data": {
      "text/plain": [
       "<gurobi.Constr *Awaiting Model Update*>"
      ]
     },
     "execution_count": 4,
     "metadata": {},
     "output_type": "execute_result"
    }
   ],
   "source": [
    "#nutrient a minimum 4lbs (64oz) and less than double that\n",
    "model1.addConstr(3*feed[0]+ 2*feed[1] + 4*feed[2] >= 64)\n",
    "model1.addConstr(3*feed[0]+ 2*feed[1] + 4*feed[2] <= 128)\n",
    "\n",
    "#nutrient B min/max\n",
    "model1.addConstr(3*feed[0]+ 1*feed[1] + 3*feed[2] >= 80)\n",
    "model1.addConstr(3*feed[0]+ 1*feed[1] + 3*feed[2] <= 160)\n",
    "\n",
    "#nutrient C min/max\n",
    "model1.addConstr(1*feed[0]+ 0*feed[1] + 2*feed[2] >= 16)\n",
    "model1.addConstr(1*feed[0]+ 0*feed[1] + 2*feed[2] <= 32)\n",
    "\n",
    "#nutrient D min/max\n",
    "model1.addConstr(6*feed[0]+ 8*feed[1] + 4*feed[2] >= 128)\n",
    "model1.addConstr(6*feed[0]+ 8*feed[1] + 4*feed[2] <= 256)\n",
    "\n",
    "# feed(i) no more than 15 pounds\n",
    "model1.addConstr(feed[0] <= 15)\n",
    "model1.addConstr(feed[1] <= 15)\n",
    "model1.addConstr(feed[2] <= 15)"
   ]
  },
  {
   "cell_type": "markdown",
   "metadata": {},
   "source": [
    "## Set Model Objective and Solve!"
   ]
  },
  {
   "cell_type": "code",
   "execution_count": 5,
   "metadata": {},
   "outputs": [
    {
     "name": "stdout",
     "output_type": "stream",
     "text": [
      "Gurobi Optimizer version 9.5.2 build v9.5.2rc0 (mac64[rosetta2])\n",
      "Thread count: 8 physical cores, 8 logical processors, using up to 8 threads\n",
      "Optimize a model with 11 rows, 3 columns and 25 nonzeros\n",
      "Model fingerprint: 0x3170164b\n",
      "Coefficient statistics:\n",
      "  Matrix range     [1e+00, 8e+00]\n",
      "  Objective range  [2e+00, 3e+00]\n",
      "  Bounds range     [0e+00, 0e+00]\n",
      "  RHS range        [2e+01, 3e+02]\n",
      "Presolve removed 7 rows and 0 columns\n",
      "Presolve time: 0.01s\n",
      "Presolved: 4 rows, 4 columns, 12 nonzeros\n",
      "\n",
      "Iteration    Objective       Primal Inf.    Dual Inf.      Time\n",
      "       0    4.4250000e+01   5.923250e+00   0.000000e+00      0s\n",
      "       2    7.9250000e+01   0.000000e+00   0.000000e+00      0s\n",
      "\n",
      "Solved in 2 iterations and 0.02 seconds (0.00 work units)\n",
      "Optimal objective  7.925000000e+01\n"
     ]
    }
   ],
   "source": [
    "model1.setObjective(2*feed[0] + 2.50*feed[1] + 3*feed[2])\n",
    "model1.optimize()"
   ]
  },
  {
   "cell_type": "markdown",
   "metadata": {},
   "source": [
    "## Print our Solution\n",
    "\n",
    "- 15.0lbs of Feed 1\n",
    "- 9.5lbs of Feed 2\n",
    "- 8.5lbs of Feed 3"
   ]
  },
  {
   "cell_type": "code",
   "execution_count": 6,
   "metadata": {},
   "outputs": [
    {
     "name": "stdout",
     "output_type": "stream",
     "text": [
      "Feed 1: 15.0lbs\n",
      "Feed 2: 9.5lbs\n",
      "Feed 3: 8.5lbs\n"
     ]
    }
   ],
   "source": [
    "for i in range (3):\n",
    "    print(f\"Feed {i+1}: {feed[i].X}lbs\")"
   ]
  },
  {
   "cell_type": "markdown",
   "metadata": {},
   "source": [
    "# Problem 2\n",
    "## Lets create a new model"
   ]
  },
  {
   "cell_type": "code",
   "execution_count": 7,
   "metadata": {},
   "outputs": [],
   "source": [
    "model2 = gb.Model()"
   ]
  },
  {
   "cell_type": "markdown",
   "metadata": {},
   "source": [
    "## Add Model Variables"
   ]
  },
  {
   "cell_type": "code",
   "execution_count": 8,
   "metadata": {},
   "outputs": [],
   "source": [
    "loc3_1 = model2.addVar()\n",
    "loc4_1 = model2.addVar()\n",
    "loc5_1 = model2.addVar()\n",
    "loc6_1 = model2.addVar()\n",
    "loc3_2 = model2.addVar()\n",
    "loc4_2 = model2.addVar()\n",
    "loc5_2 = model2.addVar()\n",
    "loc6_2 = model2.addVar()"
   ]
  },
  {
   "cell_type": "markdown",
   "metadata": {},
   "source": [
    "## Add Model Constraints"
   ]
  },
  {
   "cell_type": "code",
   "execution_count": 9,
   "metadata": {},
   "outputs": [
    {
     "data": {
      "text/plain": [
       "<gurobi.Constr *Awaiting Model Update*>"
      ]
     },
     "execution_count": 9,
     "metadata": {},
     "output_type": "execute_result"
    }
   ],
   "source": [
    "model2.addConstr(loc3_1 + loc3_2 >= 5)\n",
    "model2.addConstr(loc4_1 + loc4_2 >= 5)\n",
    "model2.addConstr(loc5_1 + loc5_2 >= 5)\n",
    "model2.addConstr(loc6_1 + loc6_2 >= 5)\n",
    "model2.addConstr(loc3_1 + loc4_1 + loc5_1 + loc6_1 == 16)\n",
    "model2.addConstr(loc3_2 + loc4_2 + loc5_2 + loc6_2 == 18)"
   ]
  },
  {
   "cell_type": "markdown",
   "metadata": {},
   "source": [
    "## Set Model Objective & Solve"
   ]
  },
  {
   "cell_type": "code",
   "execution_count": 10,
   "metadata": {},
   "outputs": [
    {
     "name": "stdout",
     "output_type": "stream",
     "text": [
      "Gurobi Optimizer version 9.5.2 build v9.5.2rc0 (mac64[rosetta2])\n",
      "Thread count: 8 physical cores, 8 logical processors, using up to 8 threads\n",
      "Optimize a model with 6 rows, 8 columns and 16 nonzeros\n",
      "Model fingerprint: 0x41dd4979\n",
      "Coefficient statistics:\n",
      "  Matrix range     [1e+00, 1e+00]\n",
      "  Objective range  [2e+01, 5e+01]\n",
      "  Bounds range     [0e+00, 0e+00]\n",
      "  RHS range        [5e+00, 2e+01]\n",
      "Presolve time: 0.00s\n",
      "Presolved: 6 rows, 8 columns, 16 nonzeros\n",
      "\n",
      "Iteration    Objective       Primal Inf.    Dual Inf.      Time\n",
      "       0    5.9600000e+02   1.500000e+01   0.000000e+00      0s\n",
      "       3    6.9600000e+02   0.000000e+00   0.000000e+00      0s\n",
      "\n",
      "Solved in 3 iterations and 0.00 seconds (0.00 work units)\n",
      "Optimal objective  6.960000000e+02\n"
     ]
    }
   ],
   "source": [
    "model2.setObjective(\n",
    "    54*loc3_1 + 24*loc3_2 + 17*loc4_1 + 18*loc4_2 + 23*loc5_1 + 19*loc5_2 + 30*loc6_1 + 31*loc6_2\n",
    ")\n",
    "\n",
    "model2.optimize()"
   ]
  },
  {
   "cell_type": "markdown",
   "metadata": {},
   "source": [
    "## Print Our Solution\n",
    "- Location 3 gets 5 cars (5 cars from location 2)\n",
    "- Location 4 gets 19 cars (11 cars from location 1, 8 cars from location 2)\n",
    "- Location 5 gets 5 cars (5 cars from location 2)\n",
    "- Location 6 gets 5 cars (5 cars from location 1)"
   ]
  },
  {
   "cell_type": "code",
   "execution_count": 11,
   "metadata": {},
   "outputs": [
    {
     "name": "stdout",
     "output_type": "stream",
     "text": [
      "From Location 1 to Location 3: 0.0 cars\n",
      "From Location 2 to Location 3: 5.0 cars\n",
      "\n",
      "From Location 1 to Location 4: 11.0 cars\n",
      "From Location 2 to Location 4: 8.0 cars\n",
      "\n",
      "From Location 1 to Location 5: 0.0 cars\n",
      "From Location 2 to Location 5: 5.0 cars\n",
      "\n",
      "From Location 1 to Location 6: 5.0 cars\n",
      "From Location 2 to Location 6: 0.0 cars\n"
     ]
    }
   ],
   "source": [
    "print(f\"From Location 1 to Location 3: {loc3_1.X} cars\")\n",
    "print(f\"From Location 2 to Location 3: {loc3_2.X} cars\\n\")\n",
    "print(f\"From Location 1 to Location 4: {loc4_1.X} cars\")\n",
    "print(f\"From Location 2 to Location 4: {loc4_2.X} cars\\n\")\n",
    "print(f\"From Location 1 to Location 5: {loc5_1.X} cars\")\n",
    "print(f\"From Location 2 to Location 5: {loc5_2.X} cars\\n\")\n",
    "print(f\"From Location 1 to Location 6: {loc6_1.X} cars\")\n",
    "print(f\"From Location 2 to Location 6: {loc6_2.X} cars\")"
   ]
  }
 ],
 "metadata": {
  "kernelspec": {
   "display_name": "Python 3.9.12 ('anop370-venv')",
   "language": "python",
   "name": "python3"
  },
  "language_info": {
   "codemirror_mode": {
    "name": "ipython",
    "version": 3
   },
   "file_extension": ".py",
   "mimetype": "text/x-python",
   "name": "python",
   "nbconvert_exporter": "python",
   "pygments_lexer": "ipython3",
   "version": "3.9.12"
  },
  "orig_nbformat": 4,
  "vscode": {
   "interpreter": {
    "hash": "4bcc122c95170f394dbcebd198668dbd6334b8f7eed10155fd6cc6b19919fb1d"
   }
  }
 },
 "nbformat": 4,
 "nbformat_minor": 2
}
