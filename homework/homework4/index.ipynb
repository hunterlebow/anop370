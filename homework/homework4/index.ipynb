{
 "cells": [
  {
   "cell_type": "code",
   "execution_count": 2,
   "metadata": {},
   "outputs": [],
   "source": [
    "# TOOLS FOR OPTIMIZATION\n",
    "import gurobipy as gb"
   ]
  },
  {
   "cell_type": "code",
   "execution_count": 3,
   "metadata": {},
   "outputs": [],
   "source": [
    "# DATA\n",
    "names_1 = [\"Chandler\", \"Gunther\", \"Janice\", \"Joey\",\n",
    "    \"Monica\", \"Pheobe\", \"Rachel\", \"Ross\"]\n",
    "\n",
    "col = [j for j in range(8)]\n",
    "\n",
    "assignments_1 = [\"Ablation studies\", \"Optimization\", \"Pitch to investors\", \"Reorganization\",\n",
    "\"Realignment\", \"Technical debriefing\", \"Validation\"]\n",
    "\n",
    "row = [i for i in range(7)]\n",
    "\n",
    "\n",
    "\n",
    "scores_data = [\n",
    "    #Ch , Gu  , Ja,  Jo,  Mo,  Ph,  Ra, Ro\n",
    "    [9.9, 8.2, 6.7, 6.5, 2.3, 6.5, 3.1, 9.4],  #Ablation\n",
    "    [9.2, 9.4, 2.5, 7.5, 9.7, 9.7, 8.5, 9.6],  #Optimization\n",
    "    [8.5, 7.8, 8.9, 9.5, 9.1, 9.8, 9.2, 8.8],  #Pitch \n",
    "    [7.0, 4.3, 9.1, 5.0, 10.0, 5.0, 9.0, 1.0], #ReOrg\n",
    "    [2.5, 6.7, 9.1, 9.2, 4.5, 2.0, 9.9, 2.7],  #ReAlign\n",
    "    [9.3, 5.1, 4.7, 2.0, 9.0, 7.0, 5.0, 5.5],  #Tech Debrief\n",
    "    [5.5, 7.8, 7.3, 7.2, 9.5, 9.0, 7.0, 4.5]   #Validation\n",
    "]"
   ]
  },
  {
   "cell_type": "code",
   "execution_count": 4,
   "metadata": {},
   "outputs": [
    {
     "name": "stdout",
     "output_type": "stream",
     "text": [
      "Restricted license - for non-production use only - expires 2023-10-25\n",
      "Gurobi Optimizer version 9.5.2 build v9.5.2rc0 (mac64[rosetta2])\n",
      "Thread count: 8 physical cores, 8 logical processors, using up to 8 threads\n",
      "Optimize a model with 18 rows, 56 columns and 115 nonzeros\n",
      "Model fingerprint: 0x080ce7f0\n",
      "Variable types: 0 continuous, 56 integer (56 binary)\n",
      "Coefficient statistics:\n",
      "  Matrix range     [1e+00, 1e+00]\n",
      "  Objective range  [1e-01, 1e+00]\n",
      "  Bounds range     [1e+00, 1e+00]\n",
      "  RHS range        [1e+00, 1e+00]\n",
      "Found heuristic solution: objective 7.6142857\n",
      "Presolve removed 9 rows and 36 columns\n",
      "Presolve time: 0.00s\n",
      "Presolved: 9 rows, 20 columns, 40 nonzeros\n",
      "Variable types: 0 continuous, 20 integer (20 binary)\n",
      "Found heuristic solution: objective 9.0000000\n",
      "\n",
      "Root relaxation: objective 9.100000e+00, 5 iterations, 0.00 seconds (0.00 work units)\n",
      "\n",
      "    Nodes    |    Current Node    |     Objective Bounds      |     Work\n",
      " Expl Unexpl |  Obj  Depth IntInf | Incumbent    BestBd   Gap | It/Node Time\n",
      "\n",
      "*    0     0               0       9.1000000    9.10000  0.00%     -    0s\n",
      "\n",
      "Explored 1 nodes (5 simplex iterations) in 0.02 seconds (0.00 work units)\n",
      "Thread count was 8 (of 8 available processors)\n",
      "\n",
      "Solution count 3: 9.1 9 7.61429 \n",
      "\n",
      "Optimal solution found (tolerance 1.00e-04)\n",
      "Best objective 9.100000000000e+00, best bound 9.100000000000e+00, gap 0.0000%\n"
     ]
    }
   ],
   "source": [
    "#MODEL 1 ROSS\n",
    "\n",
    "model1 = gb.Model()\n",
    "\n",
    "scores = model1.addVars(row, col, vtype=gb.GRB.BINARY)\n",
    "\n",
    "model1.setObjective(\n",
    "    gb.quicksum(scores_data[i][j]*scores[i, j] \n",
    "        for i in row\n",
    "        for j in col\n",
    "    ) / len(row),\n",
    "    gb.GRB.MAXIMIZE\n",
    ")\n",
    "\n",
    "#Every person to one task\n",
    "for j in col:\n",
    "    model1.addConstr(\n",
    "        gb.quicksum(scores[i, j]\n",
    "            for i in row\n",
    "        ) <= 1\n",
    "    )\n",
    "\n",
    "#Every task to one person\n",
    "for i in row:\n",
    "    model1.addConstr(\n",
    "        gb.quicksum(scores[i, j]\n",
    "            for j in col\n",
    "        ) == 1\n",
    "    )\n",
    "\n",
    "\n",
    "model1.addConstr(scores[0,0] == 1)\n",
    "model1.addConstr(scores[3,4] == 1)\n",
    "model1.addConstr(scores[4,6] == 1)\n",
    "\n",
    "model1.optimize()"
   ]
  },
  {
   "cell_type": "code",
   "execution_count": 5,
   "metadata": {},
   "outputs": [
    {
     "name": "stdout",
     "output_type": "stream",
     "text": [
      "Ablation studies completed by Chandler (task score: 9.9)\n",
      "Optimization completed by Ross (task score: 9.6)\n",
      "Pitch to investors completed by Joey (task score: 9.5)\n",
      "Reorganization completed by Monica (task score: 10.0)\n",
      "Realignment completed by Rachel (task score: 9.9)\n",
      "Technical debriefing completed by Pheobe (task score: 7.0)\n",
      "Validation completed by Gunther (task score: 7.8)\n",
      "FIRE {}}!\n",
      "\n",
      "Best average score: 9.1\n",
      "9.1\n"
     ]
    }
   ],
   "source": [
    "for i in row:\n",
    "    for j in col:\n",
    "        if scores[i, j].x == 1:\n",
    "            print(f\"{assignments_1[i]} completed by {names_1[j]} (task score: {scores_data[i][j]})\")\n",
    "\n",
    "print(\"FIRE {}}!\\n\")\n",
    "\n",
    "assignments_final = [scores_data[i][j] for i in row for j in col if scores[i,j].X == 1]\n",
    "print(f\"Best average score: {sum(assignments_final) / len(assignments_final)}\")\n",
    "print(f\"{model1.ObjVal}\")\n",
    "\n",
    "\n"
   ]
  },
  {
   "cell_type": "code",
   "execution_count": 43,
   "metadata": {},
   "outputs": [
    {
     "name": "stdout",
     "output_type": "stream",
     "text": [
      "9.9\n",
      "9.2\n",
      "8.5\n",
      "7.0\n",
      "2.5\n",
      "9.3\n",
      "5.5\n"
     ]
    }
   ],
   "source": [
    "#MODEL 2 - JOEY\n",
    "# \n",
    "# model2 = gb.Model()\n",
    "\n",
    "# scores = model2.addVars(row, col, vtype=gb.GRB.BINARY)\n",
    "\n",
    "# model2.setObjective(\n",
    "#     gb.quicksum(scores_data[i][j]*scores[i, j] \n",
    "#         for i in row\n",
    "#         for j in col\n",
    "#     ),\n",
    "#     gb.GRB.MAXIMIZE\n",
    "# )\n",
    "\n",
    "# #Every person to one task\n",
    "# for j in col:\n",
    "#     model2.addConstr(\n",
    "#         gb.quicksum(scores[i, j]\n",
    "#             for i in row\n",
    "#         ) <= 1\n",
    "#     )\n",
    "\n",
    "# #Every task to one person\n",
    "# for i in row:\n",
    "#     model2.addConstr(\n",
    "#         gb.quicksum(scores[i, j]\n",
    "#             for j in col\n",
    "#         ) == 1\n",
    "#     )\n",
    "\n",
    "# model2.optimize()\n",
    "\n",
    "\n",
    "# for j in col:\n",
    "#     max_score_list.append(max(scores_data[i][j] for i in row if used_tasks[row] == 0 ))\n",
    "\n",
    "from copy import deepcopy\n",
    "\n",
    "\n",
    "model2_data = deepcopy(scores_data)\n",
    "\n",
    "col_iterator = 0\n",
    "\n",
    "for i in row:\n",
    "    print(model2_data[i][col_iterator])\n",
    "    col_iterator += 1\n",
    "\n",
    "def solve(rows, cols, dataset):\n",
    "    m = -1\n",
    "    for i in rows:\n",
    "        for j in cols:\n",
    "            if m == \n",
    "\n",
    "\n",
    "\n",
    "# model2_db = {k:v for (k, v) in zip(names_1, max_score_list)}\n",
    "# model2_db\n",
    "\n",
    "# \"\"\"Monica : ReOrg, Chandler : Ablation, \"\"\"\n"
   ]
  },
  {
   "cell_type": "code",
   "execution_count": 7,
   "metadata": {},
   "outputs": [
    {
     "name": "stdout",
     "output_type": "stream",
     "text": [
      "Ablation studies completed by Chandler (max: 9.9)\n",
      "Optimization completed by Ross (max: 9.6)\n",
      "Pitch to investors completed by Joey (max: 9.5)\n",
      "Reorganization completed by Monica (max: 10.0)\n",
      "Realignment completed by Rachel (max: 9.9)\n",
      "Technical debriefing completed by Pheobe (max: 7.0)\n",
      "Validation completed by Gunther (max: 7.8)\n",
      "FIRE JANICE !\n"
     ]
    },
    {
     "ename": "NameError",
     "evalue": "name 'model2' is not defined",
     "output_type": "error",
     "traceback": [
      "\u001b[0;31m---------------------------------------------------------------------------\u001b[0m",
      "\u001b[0;31mNameError\u001b[0m                                 Traceback (most recent call last)",
      "\u001b[1;32m/Users/hunterlebow/Documents/bucknell/anop370/homework/homework4/index.ipynb Cell 6\u001b[0m in \u001b[0;36m<cell line: 8>\u001b[0;34m()\u001b[0m\n\u001b[1;32m      <a href='vscode-notebook-cell:/Users/hunterlebow/Documents/bucknell/anop370/homework/homework4/index.ipynb#W5sZmlsZQ%3D%3D?line=3'>4</a>\u001b[0m             \u001b[39mprint\u001b[39m(\u001b[39mf\u001b[39m\u001b[39m\"\u001b[39m\u001b[39m{\u001b[39;00massignments_1[i]\u001b[39m}\u001b[39;00m\u001b[39m completed by \u001b[39m\u001b[39m{\u001b[39;00mnames_1[j]\u001b[39m}\u001b[39;00m\u001b[39m (max: \u001b[39m\u001b[39m{\u001b[39;00mscores_data[i][j]\u001b[39m}\u001b[39;00m\u001b[39m)\u001b[39m\u001b[39m\"\u001b[39m)\n\u001b[1;32m      <a href='vscode-notebook-cell:/Users/hunterlebow/Documents/bucknell/anop370/homework/homework4/index.ipynb#W5sZmlsZQ%3D%3D?line=5'>6</a>\u001b[0m \u001b[39mprint\u001b[39m(\u001b[39m\"\u001b[39m\u001b[39mFIRE JANICE !\u001b[39m\u001b[39m\"\u001b[39m)\n\u001b[0;32m----> <a href='vscode-notebook-cell:/Users/hunterlebow/Documents/bucknell/anop370/homework/homework4/index.ipynb#W5sZmlsZQ%3D%3D?line=7'>8</a>\u001b[0m \u001b[39mprint\u001b[39m(\u001b[39mf\u001b[39m\u001b[39m\"\u001b[39m\u001b[39m{\u001b[39;00mmodel2\u001b[39m.\u001b[39mObjVal\u001b[39m}\u001b[39;00m\u001b[39m\"\u001b[39m)\n",
      "\u001b[0;31mNameError\u001b[0m: name 'model2' is not defined"
     ]
    }
   ],
   "source": [
    "for i in row:\n",
    "    for j in col:\n",
    "        if scores[i, j].x == 1:\n",
    "            print(f\"{assignments_1[i]} completed by {names_1[j]} (max: {scores_data[i][j]})\")\n",
    "\n",
    "print(\"FIRE JANICE !\")\n",
    "\n",
    "print(f\"{model2.ObjVal}\")"
   ]
  },
  {
   "cell_type": "code",
   "execution_count": null,
   "metadata": {},
   "outputs": [
    {
     "name": "stdout",
     "output_type": "stream",
     "text": [
      "Monica with an avg. score of 7.73 will do Realignment which has an average perfomance of 5.83\n",
      "\n",
      "Chandler with an avg. score of 7.41 will do Technical debriefing which has an average perfomance of 5.95\n",
      "\n",
      "Rachel with an avg. score of 7.39 will do Reorganization which has an average perfomance of 6.3\n",
      "\n",
      "Gunther with an avg. score of 7.04 will do Ablation studies which has an average perfomance of 6.58\n",
      "\n",
      "Pheobe with an avg. score of 7.0 will do Validation which has an average perfomance of 7.22\n",
      "\n",
      "Janice with an avg. score of 6.9 will do Optimization which has an average perfomance of 8.26\n",
      "\n",
      "Joey with an avg. score of 6.7 will do Pitch to investors which has an average perfomance of 8.95\n",
      "\n",
      "Ross is fired with an average score of 5.93\n"
     ]
    }
   ],
   "source": [
    "#MODEL 3 - CHANDLER\n",
    "\n",
    "avg_score_name = []\n",
    "avg_score_tasks = []\n",
    "\n",
    "for j in col:\n",
    "    avg_score_name.append(sum(scores_data[i][j] for i in row) / len(row))\n",
    "\n",
    "for i in row:\n",
    "    avg_score_tasks.append(sum(scores_data[i][j] for j in col) / len(col))\n",
    "\n",
    "temp_names = {k:v for (k, v) in zip(names_1, avg_score_name)}\n",
    "temp_tasks = {k:v for (k, v) in zip(assignments_1, avg_score_tasks)}\n",
    "\n",
    "names_dict = sorted(temp_names.items(), key=lambda x:x[1], reverse=True)\n",
    "tasks_dict = sorted(temp_tasks.items(), key=lambda x:x[1], reverse=False)\n",
    "\n",
    "model3 = {k:v for (k, v) in zip(names_dict, tasks_dict)}\n",
    "\n",
    "for i in model3:\n",
    "    print(f\"{i[0]} with an avg. score of {round(i[-1], 2)} will do {model3[i][0]} which has an average perfomance of {round(model3[i][-1], 2)}\\n\")\n",
    "print(f\"{names_dict[-1][0]} is fired with an average score of {round(names_dict[-1][-1], 2)}\")\n"
   ]
  }
 ],
 "metadata": {
  "kernelspec": {
   "display_name": "Python 3.9.12 ('anop370-venv')",
   "language": "python",
   "name": "python3"
  },
  "language_info": {
   "codemirror_mode": {
    "name": "ipython",
    "version": 3
   },
   "file_extension": ".py",
   "mimetype": "text/x-python",
   "name": "python",
   "nbconvert_exporter": "python",
   "pygments_lexer": "ipython3",
   "version": "3.9.12"
  },
  "orig_nbformat": 4,
  "vscode": {
   "interpreter": {
    "hash": "4bcc122c95170f394dbcebd198668dbd6334b8f7eed10155fd6cc6b19919fb1d"
   }
  }
 },
 "nbformat": 4,
 "nbformat_minor": 2
}
