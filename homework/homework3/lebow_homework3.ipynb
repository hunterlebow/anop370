{
 "cells": [
  {
   "cell_type": "markdown",
   "metadata": {},
   "source": [
    "<style>\n",
    "    div {padding: 5px 5px}\n",
    "    div {background-color: lightgray}\n",
    "    div {text-align: center}\n",
    "    div {width: 90%}\n",
    "    div {margin-left: 5%}\n",
    "    h1 {color: #000}\n",
    "    h2 {color: #000}\n",
    "    h4 {color: #000}\n",
    "\n",
    "</style>\n",
    "<div>\n",
    "<h1>ANOP370: Homework 3</h1>\n",
    "<br/>\n",
    "<h2>Hunter Lebow</h2>\n",
    "<h4>\n",
    "[Textbook (adapted), Chapter 3, Problem 26] </h4>\n",
    "<h4> && </h4>\n",
    "<h4>[Textbook (adapted), Chapter 3, Problem 27]</h4>\n",
    "</div>"
   ]
  },
  {
   "cell_type": "markdown",
   "metadata": {},
   "source": [
    "#  [Textbook (adapted), Chapter 3, Problem 26] \n",
    "## Lets use Gurobipy and create a model"
   ]
  },
  {
   "cell_type": "code",
   "execution_count": 1,
   "metadata": {},
   "outputs": [
    {
     "name": "stdout",
     "output_type": "stream",
     "text": [
      "Restricted license - for non-production use only - expires 2023-10-25\n"
     ]
    }
   ],
   "source": [
    "import gurobipy as gb\n",
    "model1 = gb.Model()"
   ]
  },
  {
   "cell_type": "code",
   "execution_count": 2,
   "metadata": {},
   "outputs": [],
   "source": [
    "newspaper = model1.addVars(3)\n",
    "tv = model1.addVars(3)"
   ]
  },
  {
   "cell_type": "code",
   "execution_count": 3,
   "metadata": {},
   "outputs": [
    {
     "data": {
      "text/plain": [
       "<gurobi.Constr *Awaiting Model Update*>"
      ]
     },
     "execution_count": 3,
     "metadata": {},
     "output_type": "execute_result"
    }
   ],
   "source": [
    "total_newspaper = 30\n",
    "total_tv = 15\n",
    "\n",
    "model1.addConstr(1000*newspaper[0] + 900*newspaper[1] +\n",
    "800*newspaper[2] + 12000*tv[0] + 10000*tv[1] + 8000*tv[2] <= 145000)\n",
    "\n",
    "model1.addConstr(newspaper[0] <= 10)\n",
    "model1.addConstr(newspaper[1] <= 10)\n",
    "model1.addConstr(newspaper[2] <= 10)\n",
    "model1.addConstr(tv[0] <= 5)\n",
    "model1.addConstr(tv[1] <= 5)\n",
    "model1.addConstr(tv[2] <= 5)"
   ]
  },
  {
   "cell_type": "code",
   "execution_count": 4,
   "metadata": {},
   "outputs": [],
   "source": [
    "model1.setObjective(900*newspaper[0] + 700*newspaper[1] + 400*newspaper[2]  + \n",
    " 10000*tv[0] + 7500*tv[1] + 5000*tv[2], gb.GRB.MAXIMIZE)"
   ]
  },
  {
   "cell_type": "code",
   "execution_count": 5,
   "metadata": {},
   "outputs": [
    {
     "name": "stdout",
     "output_type": "stream",
     "text": [
      "Gurobi Optimizer version 9.5.2 build v9.5.2rc0 (mac64[rosetta2])\n",
      "Thread count: 8 physical cores, 8 logical processors, using up to 8 threads\n",
      "Optimize a model with 7 rows, 6 columns and 12 nonzeros\n",
      "Model fingerprint: 0x78bed587\n",
      "Coefficient statistics:\n",
      "  Matrix range     [1e+00, 1e+04]\n",
      "  Objective range  [4e+02, 1e+04]\n",
      "  Bounds range     [0e+00, 0e+00]\n",
      "  RHS range        [5e+00, 1e+05]\n",
      "Presolve removed 6 rows and 0 columns\n",
      "Presolve time: 0.00s\n",
      "Presolved: 1 rows, 6 columns, 6 nonzeros\n",
      "\n",
      "Iteration    Objective       Primal Inf.    Dual Inf.      Time\n",
      "       0    1.3050000e+05   1.080000e+03   0.000000e+00      0s\n",
      "       1    1.1350000e+05   0.000000e+00   0.000000e+00      0s\n",
      "\n",
      "Solved in 1 iterations and 0.01 seconds (0.00 work units)\n",
      "Optimal objective  1.135000000e+05\n"
     ]
    }
   ],
   "source": [
    "model1.optimize()"
   ]
  },
  {
   "cell_type": "code",
   "execution_count": 6,
   "metadata": {},
   "outputs": [
    {
     "name": "stdout",
     "output_type": "stream",
     "text": [
      "C0 10.0\n",
      "C1 10.0\n",
      "C2 0.0\n",
      "C3 5.0\n",
      "C4 5.0\n",
      "C5 2.0\n",
      "Optimal Solution: (# of New Customers): 113500.0\n"
     ]
    }
   ],
   "source": [
    "# for i in range(3):\n",
    "#     print(f\"Newspaper group{i+1}: {newspaper[i].X}\")\n",
    "# for i in range(3):\n",
    "#     print(f\"TV group{i+1}: {tv[i].X}\")\n",
    "\n",
    "if model1.Status == gb.GRB.Status.OPTIMAL:\n",
    "    for v in model1.getVars():\n",
    "        print(v.varname, v.x)\n",
    "\n",
    "print(f\"Optimal Solution: (# of New Customers): {model1.ObjBound}\")"
   ]
  },
  {
   "cell_type": "markdown",
   "metadata": {},
   "source": [
    "#  [Textbook (adapted), Chapter 3, Problem 27] \n",
    "## Lets create a new model for the problem"
   ]
  },
  {
   "cell_type": "code",
   "execution_count": 7,
   "metadata": {},
   "outputs": [],
   "source": [
    "model2 = gb.Model()"
   ]
  },
  {
   "cell_type": "code",
   "execution_count": 8,
   "metadata": {},
   "outputs": [],
   "source": [
    "space = model2.addVars(5)"
   ]
  },
  {
   "cell_type": "code",
   "execution_count": 9,
   "metadata": {},
   "outputs": [
    {
     "data": {
      "text/plain": [
       "<gurobi.Constr *Awaiting Model Update*>"
      ]
     },
     "execution_count": 9,
     "metadata": {},
     "output_type": "execute_result"
    }
   ],
   "source": [
    "model2.addConstr(space[0] >= 20000)\n",
    "model2.addConstr(space[0] + space[1] >= 30000)\n",
    "model2.addConstr(space[0] + space[1] + space[2] >= 40000)\n",
    "model2.addConstr(space[0] + space[1] + space[2] + space[3] >= 35000)\n",
    "model2.addConstr(space[0] + space[1] + space[2] + space[3] + space[4] >= 50000)"
   ]
  },
  {
   "cell_type": "code",
   "execution_count": 10,
   "metadata": {},
   "outputs": [],
   "source": [
    "model2.setObjective(55*space[4] + 95*space[3] + 130*space[2] + 155*space[1] + 185*space[0])"
   ]
  },
  {
   "cell_type": "code",
   "execution_count": 22,
   "metadata": {},
   "outputs": [
    {
     "name": "stdout",
     "output_type": "stream",
     "text": [
      "Gurobi Optimizer version 9.5.2 build v9.5.2rc0 (mac64[rosetta2])\n",
      "Thread count: 8 physical cores, 8 logical processors, using up to 8 threads\n",
      "Optimize a model with 5 rows, 5 columns and 15 nonzeros\n",
      "Coefficient statistics:\n",
      "  Matrix range     [1e+00, 1e+00]\n",
      "  Objective range  [6e+01, 2e+02]\n",
      "  Bounds range     [0e+00, 0e+00]\n",
      "  RHS range        [2e+04, 5e+04]\n",
      "\n",
      "Solved in 0 iterations and 0.00 seconds (0.00 work units)\n",
      "Optimal objective  7.100000000e+06\n",
      "\n",
      "Optimal solutions for each month: \n",
      "\n",
      "Month 1: 20000.0\n",
      "Month 2: 10000.0\n",
      "Month 3: 10000.0\n",
      "Month 4: 0.0\n",
      "Month 5: 10000.0\n"
     ]
    }
   ],
   "source": [
    "model2.optimize()\n",
    "print(f\"\\nOptimal solutions for each month: \\n\")\n",
    "if model2.Status == gb.GRB.Status.OPTIMAL:\n",
    "    for v in model2.getVars():\n",
    "        print(f\"Month {v.index + 1}: {v.x}\")\n"
   ]
  }
 ],
 "metadata": {
  "kernelspec": {
   "display_name": "Python 3.9.12 ('anop370-venv')",
   "language": "python",
   "name": "python3"
  },
  "language_info": {
   "codemirror_mode": {
    "name": "ipython",
    "version": 3
   },
   "file_extension": ".py",
   "mimetype": "text/x-python",
   "name": "python",
   "nbconvert_exporter": "python",
   "pygments_lexer": "ipython3",
   "version": "3.9.12"
  },
  "orig_nbformat": 4,
  "vscode": {
   "interpreter": {
    "hash": "4bcc122c95170f394dbcebd198668dbd6334b8f7eed10155fd6cc6b19919fb1d"
   }
  }
 },
 "nbformat": 4,
 "nbformat_minor": 2
}
