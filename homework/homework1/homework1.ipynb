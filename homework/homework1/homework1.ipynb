{
 "cells": [
  {
   "cell_type": "markdown",
   "metadata": {},
   "source": [
    "<style>\n",
    "    div {padding: 5px 5px}\n",
    "    div {background-color: lightgray}\n",
    "    div {text-align: center}\n",
    "    div {width: 90%}\n",
    "    div {margin-left: 5%}\n",
    "    h1 {color: #000}\n",
    "    h3 {color: #000}\n",
    "\n",
    "</style>\n",
    "<div>\n",
    "<h1>ANOP370: Homework 1</h1>\n",
    "<br/>\n",
    "<h3>Hunter Lebow</h3>\n",
    "</div>\n"
   ]
  },
  {
   "cell_type": "code",
   "execution_count": 1,
   "metadata": {},
   "outputs": [
    {
     "name": "stdout",
     "output_type": "stream",
     "text": [
      "Restricted license - for non-production use only - expires 2023-10-25\n"
     ]
    }
   ],
   "source": [
    "import gurobipy as gb\n",
    "model = gb.Model()"
   ]
  },
  {
   "cell_type": "code",
   "execution_count": 2,
   "metadata": {},
   "outputs": [],
   "source": [
    "# Add model decision variables\n",
    "plainChips = model.addVar() #vtype=\"I\" hyperparameter casts plainChips to int\n",
    "mexicanChips = model.addVar() #vtype=\"I\" hyperparameter casts mexicanChips to int"
   ]
  },
  {
   "cell_type": "code",
   "execution_count": 3,
   "metadata": {},
   "outputs": [],
   "source": [
    "# Add model constraints\n",
    "\n",
    "#Slicing\n",
    "slicing = model.addConstr(2*plainChips + 4*mexicanChips <= 345)\n",
    "\n",
    "#Frying Time\n",
    "frying = model.addConstr(4*plainChips + 5*mexicanChips <= 480)\n",
    "\n",
    "#Packing Time\n",
    "packing = model.addConstr(4*plainChips + 2*mexicanChips <= 330)\n"
   ]
  },
  {
   "cell_type": "code",
   "execution_count": 4,
   "metadata": {},
   "outputs": [
    {
     "name": "stdout",
     "output_type": "stream",
     "text": [
      "Gurobi Optimizer version 9.5.2 build v9.5.2rc0 (mac64[rosetta2])\n",
      "Thread count: 8 physical cores, 8 logical processors, using up to 8 threads\n",
      "Optimize a model with 3 rows, 2 columns and 6 nonzeros\n",
      "Model fingerprint: 0x20587a6e\n",
      "Coefficient statistics:\n",
      "  Matrix range     [2e+00, 5e+00]\n",
      "  Objective range  [2e+00, 2e+00]\n",
      "  Bounds range     [0e+00, 0e+00]\n",
      "  RHS range        [3e+02, 5e+02]\n",
      "Presolve time: 0.00s\n",
      "Presolved: 3 rows, 2 columns, 6 nonzeros\n",
      "\n",
      "Iteration    Objective       Primal Inf.    Dual Inf.      Time\n",
      "       0    3.5000000e+30   4.125000e+30   3.500000e+00      0s\n",
      "       2    1.9000000e+02   0.000000e+00   0.000000e+00      0s\n",
      "\n",
      "Solved in 2 iterations and 0.00 seconds (0.00 work units)\n",
      "Optimal objective  1.900000000e+02\n"
     ]
    }
   ],
   "source": [
    "#Set objective function\n",
    "model.setObjective(2*plainChips + 1.5*mexicanChips, gb.GRB.MAXIMIZE)\n",
    "model.optimize()"
   ]
  },
  {
   "cell_type": "code",
   "execution_count": 5,
   "metadata": {},
   "outputs": [
    {
     "name": "stdout",
     "output_type": "stream",
     "text": [
      "Plain Chips: 57.5\n",
      "Mexican Chips: 50.0\n",
      "Net Profit: $190.0\n",
      "\n"
     ]
    }
   ],
   "source": [
    "print(f\"Plain Chips: {plainChips.X}\\nMexican Chips: {mexicanChips.X}\\nNet Profit: ${model.ObjVal}\\n\")"
   ]
  }
 ],
 "metadata": {
  "kernelspec": {
   "display_name": "Python 3.9.12 ('anop370-venv')",
   "language": "python",
   "name": "python3"
  },
  "language_info": {
   "codemirror_mode": {
    "name": "ipython",
    "version": 3
   },
   "file_extension": ".py",
   "mimetype": "text/x-python",
   "name": "python",
   "nbconvert_exporter": "python",
   "pygments_lexer": "ipython3",
   "version": "3.9.12"
  },
  "orig_nbformat": 4,
  "vscode": {
   "interpreter": {
    "hash": "4bcc122c95170f394dbcebd198668dbd6334b8f7eed10155fd6cc6b19919fb1d"
   }
  }
 },
 "nbformat": 4,
 "nbformat_minor": 2
}
