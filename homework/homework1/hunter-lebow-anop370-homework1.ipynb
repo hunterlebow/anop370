{
 "cells": [
  {
   "cell_type": "markdown",
   "metadata": {},
   "source": [
    "<style>\n",
    "    div {padding: 5px 5px}\n",
    "    div {background-color: lightgray}\n",
    "    div {text-align: center}\n",
    "    div {width: 99%}\n",
    "    h1 {color: #000}\n",
    "    h3 {color: #000}\n",
    "\n",
    "</style>\n",
    "<div>\n",
    "<h1>ANOP370: Homework 1</h1>\n",
    "<br/>\n",
    "<h3>Hunter Lebow</h3>\n",
    "</div>\n"
   ]
  },
  {
   "cell_type": "code",
   "execution_count": 4,
   "metadata": {},
   "outputs": [],
   "source": [
    "import gurobipy as gb\n",
    "model = gb.Model()"
   ]
  },
  {
   "cell_type": "code",
   "execution_count": 5,
   "metadata": {},
   "outputs": [],
   "source": [
    "# Add model decision variables\n",
    "plainChips = model.addVar(vtype=\"I\") #vtype=\"I\" casts plainChips to int\n",
    "mexicanChips = model.addVar(vtype=\"I\") #vtype=\"I\" casts mexicanChips to int"
   ]
  },
  {
   "cell_type": "code",
   "execution_count": 6,
   "metadata": {},
   "outputs": [
    {
     "data": {
      "text/plain": [
       "<gurobi.Constr *Awaiting Model Update*>"
      ]
     },
     "execution_count": 6,
     "metadata": {},
     "output_type": "execute_result"
    }
   ],
   "source": [
    "# Add model constraints\n",
    "\n",
    "#Slicing Time\n",
    "model.addConstr(2*plainChips + 4*mexicanChips <= 345)\n",
    "\n",
    "#Frying Time\n",
    "model.addConstr(4*plainChips + 5*mexicanChips <= 480)\n",
    "\n",
    "#Packing Time\n",
    "model.addConstr(4*plainChips + 2*mexicanChips <= 330)\n"
   ]
  },
  {
   "cell_type": "code",
   "execution_count": 7,
   "metadata": {},
   "outputs": [
    {
     "name": "stdout",
     "output_type": "stream",
     "text": [
      "Gurobi Optimizer version 9.5.2 build v9.5.2rc0 (mac64[rosetta2])\n",
      "Thread count: 8 physical cores, 8 logical processors, using up to 8 threads\n",
      "Optimize a model with 3 rows, 2 columns and 6 nonzeros\n",
      "Model fingerprint: 0x8cc4588e\n",
      "Variable types: 0 continuous, 2 integer (0 binary)\n",
      "Coefficient statistics:\n",
      "  Matrix range     [2e+00, 5e+00]\n",
      "  Objective range  [2e+00, 2e+00]\n",
      "  Bounds range     [0e+00, 0e+00]\n",
      "  RHS range        [3e+02, 5e+02]\n",
      "Found heuristic solution: objective 165.5000000\n",
      "Presolve time: 0.00s\n",
      "Presolved: 3 rows, 2 columns, 6 nonzeros\n",
      "Variable types: 0 continuous, 2 integer (0 binary)\n",
      "\n",
      "Root relaxation: objective 1.900000e+02, 3 iterations, 0.00 seconds (0.00 work units)\n",
      "\n",
      "    Nodes    |    Current Node    |     Objective Bounds      |     Work\n",
      " Expl Unexpl |  Obj  Depth IntInf | Incumbent    BestBd   Gap | It/Node Time\n",
      "\n",
      "     0     0  190.00000    0    1  165.50000  190.00000  14.8%     -    0s\n",
      "H    0     0                     189.5000000  190.00000  0.26%     -    0s\n",
      "     0     0  190.00000    0    1  189.50000  190.00000  0.26%     -    0s\n",
      "\n",
      "Explored 1 nodes (3 simplex iterations) in 0.02 seconds (0.00 work units)\n",
      "Thread count was 8 (of 8 available processors)\n",
      "\n",
      "Solution count 2: 189.5 165.5 \n",
      "\n",
      "Optimal solution found (tolerance 1.00e-04)\n",
      "Best objective 1.895000000000e+02, best bound 1.895000000000e+02, gap 0.0000%\n"
     ]
    }
   ],
   "source": [
    "#Set objective function\n",
    "model.setObjective(2*plainChips + 1.5*mexicanChips, gb.GRB.MAXIMIZE)\n",
    "model.optimize()"
   ]
  },
  {
   "cell_type": "code",
   "execution_count": 8,
   "metadata": {},
   "outputs": [
    {
     "name": "stdout",
     "output_type": "stream",
     "text": [
      "Plain Chips: 58.0\n",
      "Mexican Chips: 49.0\n",
      "Net Profit: $189.5\n",
      "\n"
     ]
    }
   ],
   "source": [
    "print(f\"Plain Chips: {plainChips.X}\\nMexican Chips: {mexicanChips.X}\\nNet Profit: ${model.ObjVal}\\n\")"
   ]
  },
  {
   "cell_type": "markdown",
   "metadata": {},
   "source": []
  }
 ],
 "metadata": {
  "kernelspec": {
   "display_name": "Python 3.9.12 ('anop370-venv')",
   "language": "python",
   "name": "python3"
  },
  "language_info": {
   "codemirror_mode": {
    "name": "ipython",
    "version": 3
   },
   "file_extension": ".py",
   "mimetype": "text/x-python",
   "name": "python",
   "nbconvert_exporter": "python",
   "pygments_lexer": "ipython3",
   "version": "3.9.12"
  },
  "orig_nbformat": 4,
  "vscode": {
   "interpreter": {
    "hash": "4bcc122c95170f394dbcebd198668dbd6334b8f7eed10155fd6cc6b19919fb1d"
   }
  }
 },
 "nbformat": 4,
 "nbformat_minor": 2
}
