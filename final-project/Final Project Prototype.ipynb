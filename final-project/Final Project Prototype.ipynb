{
 "cells": [
  {
   "cell_type": "markdown",
   "metadata": {},
   "source": [
    "## Executive Summary\n",
    "\n",
    "#### The Problem\n",
    "As the environmental sustainability movement surges, more and more companies are investing in renewable forms of energy. A popular renewable energy source these companies are utilizing is wind energy. Designing a wind park optimally is crucial for these companies to reduce costs and increase production. A problem arises due to the fact that there are many factors involved in designing a wind park. It is almost impossible to design the park in the most optimal manner without using mathematical optimization. Three of the most important factors of a wind park that should be optimized are wind turbine location, connection of offshore turbines with cables, and turbine foundation design. Optimizing these factors is extremely challenging, and energy companies require assistance in order to do so effectively so they can reduce costs, increase production, and help the environment. \n",
    "\n",
    "#### Why It Matters\n",
    "Utilizing mathematical optimization techniques to optimize wind turbine location is extremely important for companies as it can lead to huge savings for them. In turn, optimization techniques that optimize wind turbine location can help provide electricity without burning fossil fuels and polluting the air, which in turn would help the world combat climate change. \n",
    "\n",
    "#### How To Solve It\n",
    "Designing a new wind park requires addressing three specific problems, the location of wind turbines, how to connect offshore turbines with cables, and the design of turbine foundation. \n",
    "\n",
    "The first problem that is solved when designing a new wind park is what the optimal layout of wind turbines is. Finding the optimal layout is important because it leads to higher power production. The optimizer considers the minimum and maximum number of turbines that can be built, the minimum amount of space that must be between turbines, so they don’t collide, and the interference between installed turbines (also known as the wake effect). We must use an objective function that maximizes the total power output and considers the losses from the wake effect. The constraints of this model are the maximum and minimum number of turbines and the minimum distance between turbines. \n",
    "\n",
    "Once the turbine layout has been optimized, the second part of the problem deals with finding the optimal cable connections between all the turbines and the given collection point offshore so that the total cable cost can be minimized. The constraints for this part of the optimization problem are that the energy leaving a turbine must be supported by a single cable, the maximum energy flow in each connection cannot exceed the capacity of the installed cable, cables that have different capacities, costs, and electrical resistances can be installed, cable crossings must be avoided, and that a maximum number (that is given) of cables can be connected to each substation. There are many other things that come in consideration when solving this part of the problem but the constraints highlighted earlier are what’s most important. \n",
    "\n",
    "Regarding the design of the turbine foundation, the optimal foundation minimizes the total mass of the structure.  The foundation also must meet the following criteria.  It should be able to withstand local stresses and damage. Chord tubes, a foundation material, should have larger diameter than brace tubes, another foundation material.  Finally, one tube type should be selected for each connection made in the foundation.  \n",
    "\n",
    "\n",
    "#### Our Recommendation\n",
    "There are many other steps involved in the design of a wind park. Our recommendation to improve the model would be to optimize one of the steps that was not talked about in the paper. This could include what model and manufacturer to choose for the wind turbines in the park or how the soil \n",
    "\n",
    "The farther apart the turbines, the higher the infrastructure costs are to connect. Therefore, we could also try to optimize the wind farm layout and cable routing together, as the wind farm layout spreads the turbines as far as possible. However, since problems one and two are already complex when solving them individually, challenges may arise when trying to combine them. The paper mentions that this could be one of the subsequent directions to take the paper in. \n"
   ]
  },
  {
   "cell_type": "code",
   "execution_count": 2,
   "metadata": {},
   "outputs": [],
   "source": [
    "import gurobipy as gb\n",
    "import matplotlib.pyplot as plt"
   ]
  },
  {
   "cell_type": "code",
   "execution_count": null,
   "metadata": {},
   "outputs": [],
   "source": [
    "# Wind farm constraints\n",
    "\n",
    "# Minimum and maximum number of turbines \n",
    "N_min = 1\n",
    "N_max = 10\n",
    "\n",
    "# Minimum dstance between turbines \n",
    "D_min = 100"
   ]
  },
  {
   "cell_type": "code",
   "execution_count": 3,
   "metadata": {},
   "outputs": [
    {
     "data": {
      "text/plain": [
       "<function matplotlib.pyplot.show(*args, **kw)>"
      ]
     },
     "execution_count": 3,
     "metadata": {},
     "output_type": "execute_result"
    },
    {
     "data": {
      "image/png": "[encoded data removed]",
      "text/plain": [
       "<Figure size 432x288 with 1 Axes>"
      ]
     },
     "metadata": {
      "needs_background": "light"
     },
     "output_type": "display_data"
    }
   ],
   "source": [
    "x = [1,2,3,4]\n",
    "y = [1,2,3,4]\n",
    "plt.scatter(x, y)\n",
    "plt.show"
   ]
  },
  {
   "cell_type": "code",
   "execution_count": null,
   "metadata": {},
   "outputs": [],
   "source": []
  }
 ],
 "metadata": {
  "kernelspec": {
   "display_name": "Python 3.9.12 ('anop370-venv')",
   "language": "python",
   "name": "python3"
  },
  "language_info": {
   "codemirror_mode": {
    "name": "ipython",
    "version": 3
   },
   "file_extension": ".py",
   "mimetype": "text/x-python",
   "name": "python",
   "nbconvert_exporter": "python",
   "pygments_lexer": "ipython3",
   "version": "3.9.12"
  },
  "vscode": {
   "interpreter": {
    "hash": "4bcc122c95170f394dbcebd198668dbd6334b8f7eed10155fd6cc6b19919fb1d"
   }
  }
 },
 "nbformat": 4,
 "nbformat_minor": 4
}
