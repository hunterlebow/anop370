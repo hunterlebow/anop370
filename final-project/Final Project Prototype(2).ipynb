{
 "cells": [
  {
   "cell_type": "markdown",
   "metadata": {},
   "source": [
    "## Executive Summary\n",
    "\n",
    "#### The Problem\n",
    "As the environmental sustainability movement surges, more and more companies are investing in renewable forms of energy. A popular renewable energy source these companies are utilizing is wind energy. Designing a wind park optimally is crucial for these companies to reduce costs and increase production. A problem arises due to the fact that there are many factors involved in designing a wind park. It is almost impossible to design the park in the most optimal manner without using mathematical optimization. Three of the most important factors of a wind park that should be optimized are wind turbine location, connection of offshore turbines with cables, and turbine foundation design. Optimizing these factors is extremely challenging, and energy companies require assistance in order to do so effectively so they can reduce costs, increase production, and help the environment. \n",
    "\n",
    "#### Why It Matters\n",
    "Utilizing mathematical optimization techniques to optimize wind turbine location is extremely important for companies as it can lead to huge savings for them. In turn, optimization techniques that optimize wind turbine location can help provide electricity without burning fossil fuels and polluting the air, which in turn would help the world combat climate change. \n",
    "\n",
    "#### How To Solve It\n",
    "Designing a new wind park requires addressing three specific problems, the location of wind turbines, how to connect offshore turbines with cables, and the design of turbine foundation. \n",
    "\n",
    "The first problem that is solved when designing a new wind park is what the optimal layout of wind turbines is. Finding the optimal layout is important because it leads to higher power production. The optimizer considers the minimum and maximum number of turbines that can be built, the minimum amount of space that must be between turbines, so they don’t collide, and the interference between installed turbines (also known as the wake effect). We must use an objective function that maximizes the total power output and considers the losses from the wake effect. The constraints of this model are the maximum and minimum number of turbines and the minimum distance between turbines. \n",
    "\n",
    "Once the turbine layout has been optimized, the second part of the problem deals with finding the optimal cable connections between all the turbines and the given collection point offshore so that the total cable cost can be minimized. The constraints for this part of the optimization problem are that the energy leaving a turbine must be supported by a single cable, the maximum energy flow in each connection cannot exceed the capacity of the installed cable, cables that have different capacities, costs, and electrical resistances can be installed, cable crossings must be avoided, and that a maximum number (that is given) of cables can be connected to each substation. There are many other things that come in consideration when solving this part of the problem but the constraints highlighted earlier are what’s most important. \n",
    "\n",
    "Regarding the design of the turbine foundation, the optimal foundation minimizes the total mass of the structure.  The foundation also must meet the following criteria.  It should be able to withstand local stresses and damage. Chord tubes, a foundation material, should have larger diameter than brace tubes, another foundation material.  Finally, one tube type should be selected for each connection made in the foundation.  \n",
    "\n",
    "\n",
    "#### Our Recommendation\n",
    "There are many other steps involved in the design of a wind park. Our recommendation to improve the model would be to optimize one of the steps that was not talked about in the paper. This could include what model and manufacturer to choose for the wind turbines in the park or how the soil \n",
    "\n",
    "The farther apart the turbines, the higher the infrastructure costs are to connect. Therefore, we could also try to optimize the wind farm layout and cable routing together, as the wind farm layout spreads the turbines as far as possible. However, since problems one and two are already complex when solving them individually, challenges may arise when trying to combine them. The paper mentions that this could be one of the subsequent directions to take the paper in. \n"
   ]
  },
  {
   "cell_type": "code",
   "execution_count": 1,
   "metadata": {},
   "outputs": [],
   "source": [
    "import gurobipy as gb\n",
    "import matplotlib.pyplot as plt"
   ]
  },
  {
   "cell_type": "code",
   "execution_count": 2,
   "metadata": {},
   "outputs": [],
   "source": [
    "# Wind farm constraints\n",
    "\n",
    "# Minimum and maximum number of turbines \n",
    "N_min = 1\n",
    "N_max = 100\n",
    "\n",
    "# Minimum dstance between turbines \n",
    "D_min = 100 # feet"
   ]
  },
  {
   "cell_type": "code",
   "execution_count": 3,
   "metadata": {},
   "outputs": [],
   "source": [
    "# Cost of a wind turbine\n",
    "turbine_cost = 2000000\n",
    "\n",
    "# Energy produced in Mega Watts (MW)\n",
    "energy_produced_per_turbine = 2.5\n",
    "\n",
    "# Capacity Factor (how long the wind turbine can operate for) \n",
    "turbine_capacity = .42"
   ]
  },
  {
   "cell_type": "code",
   "execution_count": 4,
   "metadata": {},
   "outputs": [],
   "source": [
    "# Average wind speed in Lewisburg (mph)\n",
    "Lewisburg_average_wind_speed = 18.07"
   ]
  },
  {
   "cell_type": "code",
   "execution_count": 7,
   "metadata": {},
   "outputs": [],
   "source": [
    "x = -4\n",
    "y = -4\n",
    "\n",
    "x_vals = []\n",
    "y_vals = []\n",
    "for i in range(10):\n",
    "    y = -4\n",
    "    for j in range(10):\n",
    "        x_vals.append(x)\n",
    "        y_vals.append(y)\n",
    "        y += 1\n",
    "    x += 1      "
   ]
  },
  {
   "cell_type": "code",
   "execution_count": 8,
   "metadata": {},
   "outputs": [
    {
     "data": {
      "text/plain": [
       "<matplotlib.collections.PathCollection at 0x7f7de9506f40>"
      ]
     },
     "execution_count": 8,
     "metadata": {},
     "output_type": "execute_result"
    },
    {
     "data": {
      "image/png": "[encoded data removed]",
      "text/plain": [
       "<Figure size 640x480 with 1 Axes>"
      ]
     },
     "metadata": {},
     "output_type": "display_data"
    }
   ],
   "source": [
    "plt.scatter(x_vals,y_vals)"
   ]
  },
  {
   "cell_type": "code",
   "execution_count": 9,
   "metadata": {},
   "outputs": [],
   "source": [
    "import gurobipy as gb\n",
    "import random"
   ]
  },
  {
   "cell_type": "code",
   "execution_count": 10,
   "metadata": {},
   "outputs": [
    {
     "name": "stdout",
     "output_type": "stream",
     "text": [
      "Restricted license - for non-production use only - expires 2023-10-25\n"
     ]
    }
   ],
   "source": [
    "model_turbines = gb.Model()"
   ]
  },
  {
   "cell_type": "code",
   "execution_count": 11,
   "metadata": {},
   "outputs": [],
   "source": [
    "budget = 30"
   ]
  },
  {
   "cell_type": "code",
   "execution_count": 12,
   "metadata": {},
   "outputs": [
    {
     "name": "stdout",
     "output_type": "stream",
     "text": [
      "[1, 2, 3, 4, 5, 6, 7, 8, 9, 10, 11, 12, 13, 14, 15, 16, 17, 18, 19, 20, 21, 22, 23, 24, 25, 26, 27, 28, 29, 30, 31, 32, 33, 34, 35, 36, 37, 38, 39, 40, 41, 42, 43, 44, 45, 46, 47, 48, 49, 50]\n"
     ]
    }
   ],
   "source": [
    "turbines = []\n",
    "for i in range(50):\n",
    "    turbines.append(i+1)\n",
    "print(turbines)"
   ]
  },
  {
   "cell_type": "code",
   "execution_count": 13,
   "metadata": {},
   "outputs": [
    {
     "name": "stdout",
     "output_type": "stream",
     "text": [
      "[28, 42, 46, 31, 32, 40, 26, 31, 48, 25, 48, 49, 25, 36, 32, 27, 32, 26, 40, 34, 28, 29, 49, 47, 43, 48, 49, 46, 49, 39, 46, 43, 35, 36, 35, 37, 27, 38, 30, 39, 43, 29, 48, 27, 40, 38, 40, 26, 42, 49]\n"
     ]
    }
   ],
   "source": [
    "power_values = []\n",
    "for i in range(50):\n",
    "    power_values.append(random.randrange(25, 50))\n",
    "print(power_values)"
   ]
  },
  {
   "cell_type": "code",
   "execution_count": 14,
   "metadata": {},
   "outputs": [
    {
     "name": "stdout",
     "output_type": "stream",
     "text": [
      "[2.62, 3.99, 3.08, 3.98, 3.33, 3.99, 1.88, 1.67, 2.62, 3.73, 1.94, 3.23, 2.48, 2.24, 2.51, 2.51, 3.79, 2.67, 2.26, 2.52, 1.62, 1.71, 3.43, 2.68, 2.37, 2.21, 3.46, 3.92, 3.86, 2.84, 1.9, 1.58, 3.68, 3.28, 1.58, 3.28, 3.39, 2.46, 2.37, 2.1, 2.86, 1.79, 2.05, 1.9, 3.3, 3.58, 2.18, 1.72, 2.19, 2.5]\n"
     ]
    }
   ],
   "source": [
    "cost_per_turbine = []\n",
    "for i in range(50):\n",
    "    cost_per_turbine.append(round(random.uniform(1.5, 4), 2))\n",
    "print(cost_per_turbine)"
   ]
  },
  {
   "cell_type": "code",
   "execution_count": 15,
   "metadata": {},
   "outputs": [],
   "source": [
    "turbine_var = model_turbines.addVars(turbines, vtype = gb.GRB.BINARY)"
   ]
  },
  {
   "cell_type": "code",
   "execution_count": 16,
   "metadata": {},
   "outputs": [
    {
     "data": {
      "text/plain": [
       "<gurobi.Constr *Awaiting Model Update*>"
      ]
     },
     "execution_count": 16,
     "metadata": {},
     "output_type": "execute_result"
    }
   ],
   "source": [
    "model_turbines.addConstr(gb.quicksum(turbine_var[i+1]*cost_per_turbine[i] for i in range(50)) <= budget)"
   ]
  },
  {
   "cell_type": "code",
   "execution_count": 17,
   "metadata": {},
   "outputs": [],
   "source": [
    "model_turbines.setObjective(gb.quicksum(turbine_var[i+1]*power_values[i] for i in range(50)), gb.GRB.MAXIMIZE)"
   ]
  },
  {
   "cell_type": "code",
   "execution_count": 18,
   "metadata": {},
   "outputs": [
    {
     "name": "stdout",
     "output_type": "stream",
     "text": [
      "Gurobi Optimizer version 9.5.2 build v9.5.2rc0 (mac64[rosetta2])\n",
      "Thread count: 8 physical cores, 8 logical processors, using up to 8 threads\n",
      "Optimize a model with 1 rows, 50 columns and 50 nonzeros\n",
      "Model fingerprint: 0xdaf0429d\n",
      "Variable types: 0 continuous, 50 integer (50 binary)\n",
      "Coefficient statistics:\n",
      "  Matrix range     [2e+00, 4e+00]\n",
      "  Objective range  [2e+01, 5e+01]\n",
      "  Bounds range     [1e+00, 1e+00]\n",
      "  RHS range        [3e+01, 3e+01]\n",
      "Found heuristic solution: objective 372.0000000\n",
      "Presolve time: 0.00s\n",
      "Presolved: 1 rows, 50 columns, 50 nonzeros\n",
      "Variable types: 0 continuous, 50 integer (50 binary)\n",
      "Found heuristic solution: objective 538.0000000\n",
      "\n",
      "Root relaxation: objective 6.149067e+02, 1 iterations, 0.00 seconds (0.00 work units)\n",
      "\n",
      "    Nodes    |    Current Node    |     Objective Bounds      |     Work\n",
      " Expl Unexpl |  Obj  Depth IntInf | Incumbent    BestBd   Gap | It/Node Time\n",
      "\n",
      "     0     0  614.90672    0    1  538.00000  614.90672  14.3%     -    0s\n",
      "H    0     0                     607.0000000  614.90672  1.30%     -    0s\n",
      "H    0     0                     609.0000000  614.90672  0.97%     -    0s\n",
      "     0     0  613.72973    0    2  609.00000  613.72973  0.78%     -    0s\n",
      "\n",
      "Cutting planes:\n",
      "  StrongCG: 1\n",
      "\n",
      "Explored 1 nodes (2 simplex iterations) in 0.04 seconds (0.00 work units)\n",
      "Thread count was 8 (of 8 available processors)\n",
      "\n",
      "Solution count 4: 609 607 538 372 \n",
      "\n",
      "Optimal solution found (tolerance 1.00e-04)\n",
      "Best objective 6.090000000000e+02, best bound 6.090000000000e+02, gap 0.0000%\n"
     ]
    }
   ],
   "source": [
    "model_turbines.optimize()"
   ]
  },
  {
   "cell_type": "code",
   "execution_count": 19,
   "metadata": {},
   "outputs": [
    {
     "name": "stdout",
     "output_type": "stream",
     "text": [
      "8 31 1.67\n",
      "11 48 1.94\n",
      "19 40 2.26\n",
      "21 28 1.62\n",
      "22 29 1.71\n",
      "25 43 2.37\n",
      "26 48 2.21\n",
      "31 46 1.9\n",
      "32 43 1.58\n",
      "35 35 1.58\n",
      "40 39 2.1\n",
      "43 48 2.05\n",
      "47 40 2.18\n",
      "49 42 2.19\n",
      "50 49 2.5\n"
     ]
    }
   ],
   "source": [
    "for i in turbines:\n",
    "    if turbine_var[i].x == 1:\n",
    "        print(i, power_values[i-1], cost_per_turbine[i-1])"
   ]
  },
  {
   "cell_type": "code",
   "execution_count": null,
   "metadata": {},
   "outputs": [],
   "source": []
  }
 ],
 "metadata": {
  "kernelspec": {
   "display_name": "Python 3.9.12 ('anop370-venv')",
   "language": "python",
   "name": "python3"
  },
  "language_info": {
   "codemirror_mode": {
    "name": "ipython",
    "version": 3
   },
   "file_extension": ".py",
   "mimetype": "text/x-python",
   "name": "python",
   "nbconvert_exporter": "python",
   "pygments_lexer": "ipython3",
   "version": "3.9.12"
  },
  "vscode": {
   "interpreter": {
    "hash": "4bcc122c95170f394dbcebd198668dbd6334b8f7eed10155fd6cc6b19919fb1d"
   }
  }
 },
 "nbformat": 4,
 "nbformat_minor": 4
}
