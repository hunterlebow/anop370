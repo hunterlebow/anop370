{
 "cells": [
  {
   "cell_type": "markdown",
   "metadata": {},
   "source": [
    "# Final Project\n",
    "## Jameson Railey, Hunter Lebow, and James Andradas"
   ]
  },
  {
   "cell_type": "markdown",
   "metadata": {},
   "source": [
    "## Executive Summary\n",
    "\n",
    "#### The Problem\n",
    "As the environmental sustainability movement surges, more and more companies are investing in renewable forms of energy. A popular renewable energy source these companies are utilizing is wind energy. Designing a wind park optimally is crucial for these companies to reduce costs and increase production. A problem arises due to the fact that there are many factors involved in designing a wind park. It is almost impossible to design the park in the most optimal manner without using mathematical optimization. One of the most important factors of a wind park that should be optimized is wind turbine location. Optimizing this factor is extremely challenging, and energy companies require assistance in order to do so effectively so they can reduce costs, increase production, and help the environment. A company in Lewisburg wants to build a wind farm, and we were hired to optimize the wind turbine layout, while minimizing the environmental impact. The company will not receive funding to build the farm if it has an environmental impact score above fifty. \n",
    "\n",
    "#### Why It Matters\n",
    "Utilizing mathematical optimization techniques to optimize wind turbine location is extremely important for companies as it can lead to huge savings for them and protect the environment. In turn, optimization techniques that optimize wind turbine location can help provide electricity without burning fossil fuels and polluting the air, which in turn would help the world combat climate change. \n",
    "\n",
    "#### How To Solve It\n",
    "The main problem that is solved when designing a new wind park is what the optimal layout of wind turbines is. Finding the optimal layout is important because it leads to higher power production. The optimizer should consider how much power and revenue each turbine will generate, along with how much each turbine costs. We must use an objective function that maximizes the total profit, by subtracting the total cost from revenue, and considers the environmental impact of each turbine. The constraints of this model are the maximum number of turbines per plot of land and the maximum detriment to the environment that is allowed in order to receive funding for the wind farm. \n",
    "\n",
    "Another consideration is the environmental factors of each turbine and the wind farm as a whole.  The higher the power output is on each turbine, the more harmful it is for the environment.  This is because   We calculated a custom metric we call environmental impact score, with 0 being the best and 10 being the worst.. This score is calculated for each wind turbine based on its power output. We want to make sure that our wind farm as a whole does not exceed 50 environmental points.  Achieving this will increase the project’s likelihood of funding and acceptance into the Lewisburg community.\n",
    "\n",
    "\n",
    "#### Our Recommendation\n",
    "As stated earlier, our model maximizes the total profit whilst considering the environmental impact of each turbine built. However, there are many other steps or considerations that can be  involved in the design of a wind park to find it’s optimal location. To improve our model even further, we’d recommend that one would optimize one of the steps that was not talked about in the original paper. This is talked about below. \n",
    "\n",
    "#### Where We Could Go Next\n",
    "Once the turbine layout has been optimized, the second part of the problem deals with finding the optimal cable connections between all the turbines and the given collection point offshore so that the total cable cost can be minimized. The constraints for this part of the optimization problem are that the energy leaving a turbine must be supported by a single cable, the maximum energy flow in each connection cannot exceed the capacity of the installed cable, cables that have different capacities, costs, and electrical resistances can be installed, cable crossings must be avoided, and that a maximum number (that is given) of cables can be connected to each substation. There are many other things that come in consideration when solving this part of the problem but the constraints highlighted earlier are what’s most important. \n",
    "\n",
    "Regarding the design of the turbine foundation, the optimal foundation minimizes the total mass of the structure.  The foundation also must meet the following criteria.  It should be able to withstand local stresses and damage. Chord tubes, a foundation material, should have larger diameter than brace tubes, another foundation material.  Finally, one tube type should be selected for each connection made in the foundation.  \n",
    "\n",
    "The farther apart the turbines, the higher the infrastructure costs are to connect. Therefore, we could also try to optimize the wind farm layout and cable routing together, as the wind farm layout spreads the turbines as far as possible. However, since problems one and two are already complex when solving them individually, challenges may arise when trying to combine them. The paper mentions that this could be one of the subsequent directions to take the paper in. "
   ]
  },
  {
   "cell_type": "code",
   "execution_count": 1,
   "metadata": {},
   "outputs": [],
   "source": [
    "import matplotlib.pyplot as plt\n",
    "import random\n",
    "import gurobipy as gb\n",
    "import numpy as np"
   ]
  },
  {
   "cell_type": "code",
   "execution_count": 3,
   "metadata": {},
   "outputs": [],
   "source": [
    "x = -4\n",
    "y = -2\n",
    "\n",
    "x_vals = []\n",
    "y_vals = []\n",
    "for i in range(10):\n",
    "    y = -2\n",
    "    for j in range(5):\n",
    "        x_vals.append(x)\n",
    "        y_vals.append(y)\n",
    "        y += 1\n",
    "    x += 1      "
   ]
  },
  {
   "cell_type": "markdown",
   "metadata": {},
   "source": [
    "## Map of the Turbine Farm\n",
    "\n",
    "#### Each point is a potential location where a turbine can be built"
   ]
  },
  {
   "cell_type": "code",
   "execution_count": 4,
   "metadata": {},
   "outputs": [
    {
     "data": {
      "text/plain": [
       "Text(5, 2, '50')"
      ]
     },
     "execution_count": 4,
     "metadata": {},
     "output_type": "execute_result"
    },
    {
     "data": {
      "image/png": "[encoded data removed]",
      "text/plain": [
       "<Figure size 432x288 with 1 Axes>"
      ]
     },
     "metadata": {
      "needs_background": "light"
     },
     "output_type": "display_data"
    }
   ],
   "source": [
    "plt.scatter(x_vals,y_vals)\n",
    "plt.text(x=-4, y=-2, s=str(1), fontdict=dict(color = \"black\", size = 16))\n",
    "plt.text(x=-3, y=-2, s=str(2), fontdict=dict(color = \"black\", size = 16))\n",
    "plt.text(x=-2, y=-2, s=str(3), fontdict=dict(color = \"black\", size = 16))\n",
    "plt.text(x=-1, y=-2, s=str(4), fontdict=dict(color = \"black\", size = 16))\n",
    "plt.text(x=0, y=-2, s=str(5), fontdict=dict(color = \"black\", size = 16))\n",
    "plt.text(x=1, y=-2, s=str(6), fontdict=dict(color = \"black\", size = 16))\n",
    "plt.text(x=2, y=-2, s=str(7), fontdict=dict(color = \"black\", size = 16))\n",
    "plt.text(x=3, y=-2, s=str(8), fontdict=dict(color = \"black\", size = 16))\n",
    "plt.text(x=4, y=-2, s=str(9), fontdict=dict(color = \"black\", size = 16))\n",
    "plt.text(x=5, y=-2, s=str(10), fontdict=dict(color = \"black\", size = 16))\n",
    "\n",
    "plt.text(x=-4, y=-1, s=str(11), fontdict=dict(color = \"black\", size = 16))\n",
    "plt.text(x=-3, y=-1, s=str(12), fontdict=dict(color = \"black\", size = 16))\n",
    "plt.text(x=-2, y=-1, s=str(13), fontdict=dict(color = \"black\", size = 16))\n",
    "plt.text(x=-1, y=-1, s=str(14), fontdict=dict(color = \"black\", size = 16))\n",
    "plt.text(x=0, y=-1, s=str(15), fontdict=dict(color = \"black\", size = 16))\n",
    "plt.text(x=1, y=-1, s=str(16), fontdict=dict(color = \"black\", size = 16))\n",
    "plt.text(x=2, y=-1, s=str(17), fontdict=dict(color = \"black\", size = 16))\n",
    "plt.text(x=3, y=-1, s=str(18), fontdict=dict(color = \"black\", size = 16))\n",
    "plt.text(x=4, y=-1, s=str(19), fontdict=dict(color = \"black\", size = 16))\n",
    "plt.text(x=5, y=-1, s=str(20), fontdict=dict(color = \"black\", size = 16))\n",
    "\n",
    "plt.text(x=-4, y=0, s=str(21), fontdict=dict(color = \"black\", size = 16))\n",
    "plt.text(x=-3, y=0, s=str(22), fontdict=dict(color = \"black\", size = 16))\n",
    "plt.text(x=-2, y=0, s=str(23), fontdict=dict(color = \"black\", size = 16))\n",
    "plt.text(x=-1, y=0, s=str(24), fontdict=dict(color = \"black\", size = 16))\n",
    "plt.text(x=0, y=0, s=str(25), fontdict=dict(color = \"black\", size = 16))\n",
    "plt.text(x=1, y=0, s=str(26), fontdict=dict(color = \"black\", size = 16))\n",
    "plt.text(x=2, y=0, s=str(27), fontdict=dict(color = \"black\", size = 16))\n",
    "plt.text(x=3, y=0, s=str(28), fontdict=dict(color = \"black\", size = 16))\n",
    "plt.text(x=4, y=0, s=str(29), fontdict=dict(color = \"black\", size = 16))\n",
    "plt.text(x=5, y=0, s=str(30), fontdict=dict(color = \"black\", size = 16))\n",
    "\n",
    "plt.text(x=-4, y=1, s=str(31), fontdict=dict(color = \"black\", size = 16))\n",
    "plt.text(x=-3, y=1, s=str(32), fontdict=dict(color = \"black\", size = 16))\n",
    "plt.text(x=-2, y=1, s=str(33), fontdict=dict(color = \"black\", size = 16))\n",
    "plt.text(x=-1, y=1, s=str(34), fontdict=dict(color = \"black\", size = 16))\n",
    "plt.text(x=0, y=1, s=str(35), fontdict=dict(color = \"black\", size = 16))\n",
    "plt.text(x=1, y=1, s=str(36), fontdict=dict(color = \"black\", size = 16))\n",
    "plt.text(x=2, y=1, s=str(37), fontdict=dict(color = \"black\", size = 16))\n",
    "plt.text(x=3, y=1, s=str(38), fontdict=dict(color = \"black\", size = 16))\n",
    "plt.text(x=4, y=1, s=str(39), fontdict=dict(color = \"black\", size = 16))\n",
    "plt.text(x=5, y=1, s=str(40), fontdict=dict(color = \"black\", size = 16))\n",
    "\n",
    "plt.text(x=-4, y=2, s=str(41), fontdict=dict(color = \"black\", size = 16))\n",
    "plt.text(x=-3, y=2, s=str(42), fontdict=dict(color = \"black\", size = 16))\n",
    "plt.text(x=-2, y=2, s=str(43), fontdict=dict(color = \"black\", size = 16))\n",
    "plt.text(x=-1, y=2, s=str(44), fontdict=dict(color = \"black\", size = 16))\n",
    "plt.text(x=0, y=2, s=str(45), fontdict=dict(color = \"black\", size = 16))\n",
    "plt.text(x=1, y=2, s=str(46), fontdict=dict(color = \"black\", size = 16))\n",
    "plt.text(x=2, y=2, s=str(47), fontdict=dict(color = \"black\", size = 16))\n",
    "plt.text(x=3, y=2, s=str(48), fontdict=dict(color = \"black\", size = 16))\n",
    "plt.text(x=4, y=2, s=str(49), fontdict=dict(color = \"black\", size = 16))\n",
    "plt.text(x=5, y=2, s=str(50), fontdict=dict(color = \"black\", size = 16))"
   ]
  },
  {
   "cell_type": "code",
   "execution_count": 5,
   "metadata": {},
   "outputs": [],
   "source": [
    "num_turbines = 50"
   ]
  },
  {
   "cell_type": "markdown",
   "metadata": {},
   "source": [
    "## Wind Turbine Annual Power Output\n",
    "\n",
    "Variables: \n",
    "\n",
    "- $P$ = Annual power output in KWh (kilowatt hours)\n",
    "- $MC$ = Maximum capacity (kW)\n",
    "- $C$ = Capcity factor (%)\n",
    "\n",
    "Equation:\n",
    "\n",
    "$P = MC * C * 365 * 24$"
   ]
  },
  {
   "cell_type": "markdown",
   "metadata": {},
   "source": [
    "#### Maximum Capacity per Turbine"
   ]
  },
  {
   "cell_type": "code",
   "execution_count": 6,
   "metadata": {},
   "outputs": [],
   "source": [
    "max_capacities = [random.randrange(1000, 2400) for i in range(num_turbines)]"
   ]
  },
  {
   "cell_type": "markdown",
   "metadata": {},
   "source": [
    "#### Capacity Factor per Turbine"
   ]
  },
  {
   "cell_type": "code",
   "execution_count": 7,
   "metadata": {},
   "outputs": [],
   "source": [
    "capacity_factor = [random.uniform(.1,.4) for i in range(num_turbines)]"
   ]
  },
  {
   "cell_type": "markdown",
   "metadata": {},
   "source": [
    "#### Power Generated per Turbine"
   ]
  },
  {
   "cell_type": "code",
   "execution_count": 8,
   "metadata": {
    "scrolled": true
   },
   "outputs": [],
   "source": [
    "power_values = [(365 * 24 * max_capacities[i] * capacity_factor[i]) for i in range(num_turbines)]"
   ]
  },
  {
   "cell_type": "markdown",
   "metadata": {},
   "source": [
    "## Revenue Per Turbine\n",
    "\n",
    "According to engineering.com, the national average electric rate is $.12/kWh. Therefore, the annual amount saved per turbine can be defined as:\n",
    "\n",
    "$A = P * \\$.12$"
   ]
  },
  {
   "cell_type": "code",
   "execution_count": 9,
   "metadata": {},
   "outputs": [],
   "source": [
    "revenue_per_turbine = [round((power_values[i] * .12),2) for i in range(num_turbines)]"
   ]
  },
  {
   "cell_type": "markdown",
   "metadata": {},
   "source": [
    "## Cost per Turbine\n",
    "\n",
    "Variables:\n",
    "\n",
    "- $I$ = Installation Cost (constant)\n",
    "- $MC$ = Maintenance Cost (10% of power output)\n",
    "- $TC$ = Total Cost\n",
    "\n",
    "Equations:\n",
    "\n",
    "\n",
    "- $ I = \\$200,000 $\n",
    "- $ MC = P * .20$\n",
    "- $ TC = \\frac{I}{20} + MC$ (divide I by 20 because the turbines have a life of 20 years)"
   ]
  },
  {
   "cell_type": "code",
   "execution_count": 10,
   "metadata": {
    "scrolled": true
   },
   "outputs": [],
   "source": [
    "total_cost_per_turbine = [((200000/20) + (power_values[i]*.1)) for i in range(num_turbines)]"
   ]
  },
  {
   "cell_type": "markdown",
   "metadata": {},
   "source": [
    "## Profit per Turbine"
   ]
  },
  {
   "cell_type": "code",
   "execution_count": 11,
   "metadata": {
    "scrolled": true
   },
   "outputs": [],
   "source": [
    "profit = [round(revenue_per_turbine[i] - total_cost_per_turbine[i], 2) for i in range(num_turbines)]"
   ]
  },
  {
   "cell_type": "markdown",
   "metadata": {},
   "source": [
    "## Environmental Factor\n",
    "\n",
    "#### Turbines have a harmful impact on the environment and nearby habitats. The higher the environmental score, the more detriment the turbine has on the surrounding environment. The environmental score must be below a certain amount in order for the turbine farm to get funding.\n",
    "\n",
    "#### Variables\n",
    "\n",
    "- E = Environmental Factor\n",
    "- P = Power output\n",
    "\n",
    "#### Equation\n",
    "\n",
    "- $E = P*(1x10^{-5}) $"
   ]
  },
  {
   "cell_type": "code",
   "execution_count": 12,
   "metadata": {
    "scrolled": true
   },
   "outputs": [],
   "source": [
    "environmental_factor_scores = [round((power_values[i]*.000001),1) for i in range(num_turbines)]"
   ]
  },
  {
   "cell_type": "markdown",
   "metadata": {},
   "source": [
    "## Building the Model"
   ]
  },
  {
   "cell_type": "code",
   "execution_count": 13,
   "metadata": {},
   "outputs": [
    {
     "name": "stdout",
     "output_type": "stream",
     "text": [
      "Restricted license - for non-production use only - expires 2023-10-25\n"
     ]
    }
   ],
   "source": [
    "model_turbines = gb.Model()"
   ]
  },
  {
   "cell_type": "code",
   "execution_count": 14,
   "metadata": {},
   "outputs": [],
   "source": [
    "turbines = [i+1 for i in range(num_turbines)]"
   ]
  },
  {
   "cell_type": "markdown",
   "metadata": {},
   "source": [
    "## Adding turbine variables"
   ]
  },
  {
   "cell_type": "code",
   "execution_count": 15,
   "metadata": {},
   "outputs": [],
   "source": [
    "turbine_var = model_turbines.addVars(turbines, vtype = gb.GRB.BINARY)"
   ]
  },
  {
   "cell_type": "markdown",
   "metadata": {},
   "source": [
    "## Constraints\n",
    "\n",
    "#### There cannot be more than three turbines per column due to the wake effect"
   ]
  },
  {
   "cell_type": "code",
   "execution_count": 16,
   "metadata": {},
   "outputs": [
    {
     "data": {
      "text/plain": [
       "<gurobi.Constr *Awaiting Model Update*>"
      ]
     },
     "execution_count": 16,
     "metadata": {},
     "output_type": "execute_result"
    }
   ],
   "source": [
    "# Column constraint\n",
    "\n",
    "model_turbines.addConstr(turbine_var[1] + turbine_var[11] + turbine_var[21] + turbine_var[31] + turbine_var[41] <= 3)\n",
    "model_turbines.addConstr(turbine_var[2] + turbine_var[12] + turbine_var[22] + turbine_var[32] + turbine_var[42] <= 3)\n",
    "model_turbines.addConstr(turbine_var[3] + turbine_var[13] + turbine_var[23] + turbine_var[33] + turbine_var[43] <= 3)\n",
    "model_turbines.addConstr(turbine_var[4] + turbine_var[14] + turbine_var[24] + turbine_var[34] + turbine_var[44] <= 3)\n",
    "model_turbines.addConstr(turbine_var[5] + turbine_var[15] + turbine_var[25] + turbine_var[35] + turbine_var[45] <= 3)\n",
    "model_turbines.addConstr(turbine_var[6] + turbine_var[16] + turbine_var[26] + turbine_var[36] + turbine_var[46] <= 3)\n",
    "model_turbines.addConstr(turbine_var[7] + turbine_var[17] + turbine_var[27] + turbine_var[37] + turbine_var[47] <= 3)\n",
    "model_turbines.addConstr(turbine_var[8] + turbine_var[18] + turbine_var[28] + turbine_var[38] + turbine_var[48] <= 3)\n",
    "model_turbines.addConstr(turbine_var[9] + turbine_var[19] + turbine_var[29] + turbine_var[39] + turbine_var[49] <= 3)\n",
    "model_turbines.addConstr(turbine_var[10] + turbine_var[20] + turbine_var[30] + turbine_var[40] + turbine_var[50] <= 3)"
   ]
  },
  {
   "cell_type": "markdown",
   "metadata": {},
   "source": [
    "#### There cannot be more than seven turbines per row due to the wake effect"
   ]
  },
  {
   "cell_type": "code",
   "execution_count": 17,
   "metadata": {},
   "outputs": [
    {
     "data": {
      "text/plain": [
       "<gurobi.Constr *Awaiting Model Update*>"
      ]
     },
     "execution_count": 17,
     "metadata": {},
     "output_type": "execute_result"
    }
   ],
   "source": [
    "# Row constraint\n",
    "\n",
    "model_turbines.addConstr(turbine_var[1] + turbine_var[2] + turbine_var[3] + turbine_var[4] + turbine_var[5] + \n",
    "                        turbine_var[6] + turbine_var[7] + turbine_var[8] + turbine_var[9] + turbine_var[10] <= 7)\n",
    "model_turbines.addConstr(turbine_var[11] + turbine_var[12] + turbine_var[13] + turbine_var[14] + turbine_var[15] + \n",
    "                        turbine_var[16] + turbine_var[17] + turbine_var[18] + turbine_var[19] + turbine_var[20] <= 7)\n",
    "model_turbines.addConstr(turbine_var[21] + turbine_var[22] + turbine_var[23] + turbine_var[24] + turbine_var[25] + \n",
    "                        turbine_var[26] + turbine_var[27] + turbine_var[28] + turbine_var[29] + turbine_var[30] <= 7)\n",
    "model_turbines.addConstr(turbine_var[31] + turbine_var[32] + turbine_var[33] + turbine_var[34] + turbine_var[35] + \n",
    "                        turbine_var[36] + turbine_var[37] + turbine_var[38] + turbine_var[39] + turbine_var[40] <= 7)\n",
    "model_turbines.addConstr(turbine_var[41] + turbine_var[42] + turbine_var[43] + turbine_var[44] + turbine_var[45] + \n",
    "                        turbine_var[46] + turbine_var[47] + turbine_var[48] + turbine_var[49] + turbine_var[50] <= 7)"
   ]
  },
  {
   "cell_type": "markdown",
   "metadata": {},
   "source": [
    "#### The total environmental score must be below 50"
   ]
  },
  {
   "cell_type": "code",
   "execution_count": 18,
   "metadata": {},
   "outputs": [
    {
     "data": {
      "text/plain": [
       "<gurobi.Constr *Awaiting Model Update*>"
      ]
     },
     "execution_count": 18,
     "metadata": {},
     "output_type": "execute_result"
    }
   ],
   "source": [
    "model_turbines.addConstr(gb.quicksum(turbine_var[i+1]*environmental_factor_scores[i] for i in range(num_turbines)) <= 50)"
   ]
  },
  {
   "cell_type": "markdown",
   "metadata": {},
   "source": [
    "## Objective Function\n",
    "\n",
    "#### Goal is to Maximize Profit"
   ]
  },
  {
   "cell_type": "code",
   "execution_count": 19,
   "metadata": {},
   "outputs": [],
   "source": [
    "model_turbines.setObjective(gb.quicksum(turbine_var[i+1]*profit[i] for i in range(num_turbines)), gb.GRB.MAXIMIZE)"
   ]
  },
  {
   "cell_type": "code",
   "execution_count": 20,
   "metadata": {},
   "outputs": [
    {
     "name": "stdout",
     "output_type": "stream",
     "text": [
      "Gurobi Optimizer version 9.5.2 build v9.5.2rc0 (win64)\n",
      "Thread count: 4 physical cores, 8 logical processors, using up to 8 threads\n",
      "Optimize a model with 16 rows, 50 columns and 150 nonzeros\n",
      "Model fingerprint: 0xf360c75b\n",
      "Variable types: 0 continuous, 50 integer (50 binary)\n",
      "Coefficient statistics:\n",
      "  Matrix range     [1e+00, 8e+00]\n",
      "  Objective range  [1e+04, 1e+05]\n",
      "  Bounds range     [1e+00, 1e+00]\n",
      "  RHS range        [3e+00, 5e+01]\n",
      "Found heuristic solution: objective 848138.53000\n",
      "Presolve time: 0.00s\n",
      "Presolved: 16 rows, 50 columns, 150 nonzeros\n",
      "Variable types: 0 continuous, 50 integer (50 binary)\n",
      "Found heuristic solution: objective 851819.63000\n",
      "\n",
      "Root relaxation: objective 9.176869e+05, 18 iterations, 0.00 seconds (0.00 work units)\n",
      "\n",
      "    Nodes    |    Current Node    |     Objective Bounds      |     Work\n",
      " Expl Unexpl |  Obj  Depth IntInf | Incumbent    BestBd   Gap | It/Node Time\n",
      "\n",
      "     0     0 917686.900    0    1 851819.630 917686.900  7.73%     -    0s\n",
      "H    0     0                    904078.40000 917686.900  1.51%     -    0s\n",
      "H    0     0                    909807.38000 917686.900  0.87%     -    0s\n",
      "     0     0 917344.713    0    1 909807.380 917344.713  0.83%     -    0s\n",
      "H    0     0                    912573.96000 917344.713  0.52%     -    0s\n",
      "     0     0 916997.278    0    3 912573.960 916997.278  0.48%     -    0s\n",
      "     0     0 916557.088    0    3 912573.960 916557.088  0.44%     -    0s\n",
      "     0     0 916392.806    0    4 912573.960 916392.806  0.42%     -    0s\n",
      "     0     0 916392.806    0    1 912573.960 916392.806  0.42%     -    0s\n",
      "     0     0 916392.806    0    1 912573.960 916392.806  0.42%     -    0s\n",
      "     0     0 916392.806    0    3 912573.960 916392.806  0.42%     -    0s\n",
      "     0     0 916378.001    0    4 912573.960 916378.001  0.42%     -    0s\n",
      "     0     0 916227.516    0    3 912573.960 916227.516  0.40%     -    0s\n",
      "     0     0 915769.144    0    4 912573.960 915769.144  0.35%     -    0s\n",
      "     0     0 915733.146    0    4 912573.960 915733.146  0.35%     -    0s\n",
      "     0     2 915733.146    0    4 912573.960 915733.146  0.35%     -    0s\n",
      "\n",
      "Cutting planes:\n",
      "  Cover: 11\n",
      "  MIR: 2\n",
      "  StrongCG: 2\n",
      "\n",
      "Explored 1203 nodes (2187 simplex iterations) in 0.11 seconds (0.01 work units)\n",
      "Thread count was 8 (of 8 available processors)\n",
      "\n",
      "Solution count 5: 912574 909807 904078 ... 848139\n",
      "\n",
      "Optimal solution found (tolerance 1.00e-04)\n",
      "Best objective 9.125739600000e+05, best bound 9.125739600000e+05, gap 0.0000%\n"
     ]
    }
   ],
   "source": [
    "model_turbines.optimize()"
   ]
  },
  {
   "cell_type": "markdown",
   "metadata": {},
   "source": [
    "## Turbines that should be built"
   ]
  },
  {
   "cell_type": "code",
   "execution_count": 21,
   "metadata": {},
   "outputs": [
    {
     "name": "stdout",
     "output_type": "stream",
     "text": [
      "10 123653.88 6.7\n",
      "11 143715.82 7.7\n",
      "13 66966.0 3.8\n",
      "14 72424.76 4.1\n",
      "31 72375.55 4.1\n",
      "34 90782.65 5.0\n",
      "40 124616.38 6.7\n",
      "42 113803.77 6.2\n",
      "45 104235.15 5.7\n"
     ]
    }
   ],
   "source": [
    "for i in turbines:\n",
    "    if turbine_var[i].x == 1:\n",
    "        print(i, profit[i-1], environmental_factor_scores[i-1])"
   ]
  },
  {
   "cell_type": "markdown",
   "metadata": {},
   "source": [
    "#### Potential points where a turbine could be built"
   ]
  },
  {
   "cell_type": "code",
   "execution_count": 22,
   "metadata": {},
   "outputs": [
    {
     "name": "stdout",
     "output_type": "stream",
     "text": [
      "[(0, 0), (1, 0), (2, 0), (3, 0), (4, 0), (5, 0), (6, 0), (7, 0), (8, 0), (9, 0), (0, 1), (1, 1), (2, 1), (3, 1), (4, 1), (5, 1), (6, 1), (7, 1), (8, 1), (9, 1), (0, 2), (1, 2), (2, 2), (3, 2), (4, 2), (5, 2), (6, 2), (7, 2), (8, 2), (9, 2), (0, 3), (1, 3), (2, 3), (3, 3), (4, 3), (5, 3), (6, 3), (7, 3), (8, 3), (9, 3), (0, 4), (1, 4), (2, 4), (3, 4), (4, 4), (5, 4), (6, 4), (7, 4), (8, 4), (9, 4)]\n"
     ]
    }
   ],
   "source": [
    "turbine_coordinates = []\n",
    "\n",
    "x = 0\n",
    "y = 0\n",
    "\n",
    "x_vals = []\n",
    "y_vals = []\n",
    "for i in range(5):\n",
    "    x = 0\n",
    "    for j in range(10):\n",
    "        turbine_coordinates.append((x,y))\n",
    "        x += 1\n",
    "    y += 1 \n",
    "print(turbine_coordinates)"
   ]
  },
  {
   "cell_type": "code",
   "execution_count": 23,
   "metadata": {},
   "outputs": [],
   "source": [
    "x_turbine_location = []\n",
    "y_turbine_location = []\n",
    "for i in range(num_turbines):\n",
    "    if turbine_var[i+1].x == 1:\n",
    "        x_turbine_location.append(turbine_coordinates[i][0])\n",
    "        y_turbine_location.append(turbine_coordinates[i][1])"
   ]
  },
  {
   "cell_type": "markdown",
   "metadata": {},
   "source": [
    "## Turbine Map"
   ]
  },
  {
   "cell_type": "code",
   "execution_count": 24,
   "metadata": {},
   "outputs": [
    {
     "data": {
      "text/plain": [
       "([<matplotlib.axis.YTick at 0x1a0a84752e0>,\n",
       "  <matplotlib.axis.YTick at 0x1a0a8479fa0>,\n",
       "  <matplotlib.axis.YTick at 0x1a0a4a464f0>,\n",
       "  <matplotlib.axis.YTick at 0x1a0a84a17c0>,\n",
       "  <matplotlib.axis.YTick at 0x1a0a84a1cd0>,\n",
       "  <matplotlib.axis.YTick at 0x1a0a84a7220>,\n",
       "  <matplotlib.axis.YTick at 0x1a0a84a1430>,\n",
       "  <matplotlib.axis.YTick at 0x1a0a84a76a0>,\n",
       "  <matplotlib.axis.YTick at 0x1a0a84a7bb0>],\n",
       " <a list of 9 Text major ticklabel objects>)"
      ]
     },
     "execution_count": 24,
     "metadata": {},
     "output_type": "execute_result"
    },
    {
     "data": {
      "image/png": "[encoded data removed]",
      "text/plain": [
       "<Figure size 432x288 with 1 Axes>"
      ]
     },
     "metadata": {
      "needs_background": "light"
     },
     "output_type": "display_data"
    }
   ],
   "source": [
    "plt.scatter(x_turbine_location,y_turbine_location)\n",
    "plt.yticks(np.arange(0,4.5,.5))"
   ]
  }
 ],
 "metadata": {
  "kernelspec": {
   "display_name": "Python 3",
   "language": "python",
   "name": "python3"
  },
  "language_info": {
   "codemirror_mode": {
    "name": "ipython",
    "version": 3
   },
   "file_extension": ".py",
   "mimetype": "text/x-python",
   "name": "python",
   "nbconvert_exporter": "python",
   "pygments_lexer": "ipython3",
   "version": "3.8.3"
  }
 },
 "nbformat": 4,
 "nbformat_minor": 4
}
