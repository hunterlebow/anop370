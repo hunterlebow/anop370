{
 "cells": [
  {
   "cell_type": "code",
   "execution_count": 17,
   "metadata": {},
   "outputs": [],
   "source": [
    "import gurobipy as gb"
   ]
  },
  {
   "cell_type": "code",
   "execution_count": 18,
   "metadata": {},
   "outputs": [],
   "source": [
    "WALL_SPACE = [15, 18, 10, 10, 12, 15, 15, 10, 12, 10] #in meters\n",
    "\n",
    "VALUE = [25, 25, 15, 16, 30, 16, 17, 50, 20, 15] #In millions\n",
    "NATIONALITY = [\"N\", \"W\", \"W\", \"N\", \"W\", \"N\", \"W\", \"N\", \"N\", \"W\"]\n",
    "ARTWORK = [\n",
    "    \"Battle vs W\", \"Battle vs N\", \"Alice Dream\", \"Peter Pans Nightmare\",\n",
    "    \"The White Rabbit Lost in Time\", \"Portrait of Captain Hook\", \"Portrait of Queen of Hearts\",\n",
    "    \"Tiner Bell Quits\", \"Lost Boys Find Their Way\", \"Chesire Cat Goes Blue\"\n",
    "    ]"
   ]
  },
  {
   "cell_type": "code",
   "execution_count": 19,
   "metadata": {},
   "outputs": [
    {
     "name": "stdout",
     "output_type": "stream",
     "text": [
      "Gurobi Optimizer version 9.5.2 build v9.5.2rc0 (mac64[rosetta2])\n",
      "Thread count: 8 physical cores, 8 logical processors, using up to 8 threads\n",
      "Optimize a model with 1 rows, 10 columns and 10 nonzeros\n",
      "Model fingerprint: 0x6dfc9e26\n",
      "Variable types: 0 continuous, 10 integer (10 binary)\n",
      "Coefficient statistics:\n",
      "  Matrix range     [1e+01, 2e+01]\n",
      "  Objective range  [2e+01, 5e+01]\n",
      "  Bounds range     [1e+00, 1e+00]\n",
      "  RHS range        [5e+01, 5e+01]\n",
      "Found heuristic solution: objective 65.0000000\n",
      "Presolve removed 1 rows and 10 columns\n",
      "Presolve time: 0.00s\n",
      "Presolve: All rows and columns removed\n",
      "\n",
      "Explored 0 nodes (0 simplex iterations) in 0.01 seconds (0.00 work units)\n",
      "Thread count was 1 (of 8 available processors)\n",
      "\n",
      "Solution count 2: 125 65 \n",
      "\n",
      "Optimal solution found (tolerance 1.00e-04)\n",
      "Best objective 1.250000000000e+02, best bound 1.250000000000e+02, gap 0.0000%\n"
     ]
    }
   ],
   "source": [
    "model1 = gb.Model()\n",
    "\n",
    "art = model1.addVars(len(VALUE), vtype=gb.GRB.BINARY)\n",
    "\n",
    "model1.setObjective(\n",
    "    gb.quicksum(\n",
    "        art[i]*VALUE[i] for i in range(len(VALUE))\n",
    "    ), gb.GRB.MAXIMIZE\n",
    ")\n",
    "\n",
    "model1.addConstr(\n",
    "    gb.quicksum(\n",
    "        art[i]*WALL_SPACE[i] for i in range(len(WALL_SPACE))\n",
    "    ) <= 50\n",
    ")\n",
    "\n",
    "model1.optimize()"
   ]
  },
  {
   "cell_type": "code",
   "execution_count": 20,
   "metadata": {},
   "outputs": [
    {
     "name": "stdout",
     "output_type": "stream",
     "text": [
      "Battle vs W: 1.0 appearance\n",
      "Battle vs N: 0.0 appearance\n",
      "Alice Dream: 0.0 appearance\n",
      "Peter Pans Nightmare: 0.0 appearance\n",
      "The White Rabbit Lost in Time: 1.0 appearance\n",
      "Portrait of Captain Hook: 0.0 appearance\n",
      "Portrait of Queen of Hearts: 0.0 appearance\n",
      "Tiner Bell Quits: 1.0 appearance\n",
      "Lost Boys Find Their Way: 1.0 appearance\n",
      "Chesire Cat Goes Blue: 0.0 appearance\n",
      "\n",
      "Model 1 Total Value: $125.0 million\n"
     ]
    }
   ],
   "source": [
    "if model1.Status == gb.GRB.Status.OPTIMAL:\n",
    "    for v in model1.getVars():\n",
    "        print(f\"{ARTWORK[v.index]}: {v.X} appearance\")\n",
    "    print(f\"\\nModel 1 Total Value: ${model1.ObjVal} million\")"
   ]
  },
  {
   "cell_type": "code",
   "execution_count": 30,
   "metadata": {},
   "outputs": [
    {
     "name": "stdout",
     "output_type": "stream",
     "text": [
      "Gurobi Optimizer version 9.5.2 build v9.5.2rc0 (mac64[rosetta2])\n",
      "Thread count: 8 physical cores, 8 logical processors, using up to 8 threads\n",
      "Optimize a model with 2 rows, 10 columns and 12 nonzeros\n",
      "Model fingerprint: 0x163aa8f9\n",
      "Variable types: 0 continuous, 10 integer (10 binary)\n",
      "Coefficient statistics:\n",
      "  Matrix range     [1e+00, 2e+01]\n",
      "  Objective range  [2e+01, 5e+01]\n",
      "  Bounds range     [1e+00, 1e+00]\n",
      "  RHS range        [5e+01, 5e+01]\n",
      "Found heuristic solution: objective 77.0000000\n",
      "Presolve removed 2 rows and 10 columns\n",
      "Presolve time: 0.00s\n",
      "Presolve: All rows and columns removed\n",
      "\n",
      "Explored 0 nodes (0 simplex iterations) in 0.00 seconds (0.00 work units)\n",
      "Thread count was 1 (of 8 available processors)\n",
      "\n",
      "Solution count 2: 117 77 \n",
      "\n",
      "Optimal solution found (tolerance 1.00e-04)\n",
      "Best objective 1.170000000000e+02, best bound 1.170000000000e+02, gap 0.0000%\n"
     ]
    }
   ],
   "source": [
    "model2 = gb.Model()\n",
    "\n",
    "art_2 = model2.addVars(len(VALUE), vtype=gb.GRB.BINARY)\n",
    "\n",
    "model2.setObjective(\n",
    "    gb.quicksum(\n",
    "        art_2[i]*VALUE[i] for i in range(len(VALUE))\n",
    "    ), gb.GRB.MAXIMIZE\n",
    ")\n",
    "\n",
    "model2.addConstr(\n",
    "    gb.quicksum(\n",
    "        art_2[i]*WALL_SPACE[i] for i in range(len(WALL_SPACE))\n",
    "    ) <= 50\n",
    ")\n",
    "\n",
    "model2.addConstr(\n",
    "    art_2[0] - art_2[1] == 0\n",
    ") \n",
    "\n",
    "model2.optimize()\n",
    "\n"
   ]
  },
  {
   "cell_type": "code",
   "execution_count": 31,
   "metadata": {},
   "outputs": [
    {
     "name": "stdout",
     "output_type": "stream",
     "text": [
      "Battle vs W: 0.0 appearance\n",
      "Battle vs N: 0.0 appearance\n",
      "Alice Dream: 0.0 appearance\n",
      "Peter Pans Nightmare: 0.0 appearance\n",
      "The White Rabbit Lost in Time: 1.0 appearance\n",
      "Portrait of Captain Hook: 0.0 appearance\n",
      "Portrait of Queen of Hearts: 1.0 appearance\n",
      "Tiner Bell Quits: 1.0 appearance\n",
      "Lost Boys Find Their Way: 1.0 appearance\n",
      "Chesire Cat Goes Blue: 0.0 appearance\n",
      "\n",
      "Model 2 Total Value: $117.0 million\n"
     ]
    }
   ],
   "source": [
    "if model2.Status == gb.GRB.Status.OPTIMAL:\n",
    "    for v in model2.getVars():\n",
    "        print(f\"{ARTWORK[v.index]}: {v.X} appearance\")\n",
    "    print(f\"\\nModel 2 Total Value: ${model2.ObjVal} million\")"
   ]
  },
  {
   "cell_type": "code",
   "execution_count": 64,
   "metadata": {},
   "outputs": [
    {
     "name": "stdout",
     "output_type": "stream",
     "text": [
      "Gurobi Optimizer version 9.5.2 build v9.5.2rc0 (mac64[rosetta2])\n",
      "Thread count: 8 physical cores, 8 logical processors, using up to 8 threads\n",
      "Optimize a model with 2 rows, 10 columns and 20 nonzeros\n",
      "Model fingerprint: 0xa2ae15e9\n",
      "Variable types: 0 continuous, 10 integer (10 binary)\n",
      "Coefficient statistics:\n",
      "  Matrix range     [1e+00, 2e+01]\n",
      "  Objective range  [2e+01, 5e+01]\n",
      "  Bounds range     [1e+00, 1e+00]\n",
      "  RHS range        [5e+01, 5e+01]\n",
      "Found heuristic solution: objective -0.0000000\n",
      "Presolve removed 0 rows and 1 columns\n",
      "Presolve time: 0.00s\n",
      "Presolved: 2 rows, 9 columns, 16 nonzeros\n",
      "Variable types: 0 continuous, 9 integer (8 binary)\n",
      "Found heuristic solution: objective 120.0000000\n",
      "\n",
      "Root relaxation: objective 1.247727e+02, 3 iterations, 0.00 seconds (0.00 work units)\n",
      "\n",
      "    Nodes    |    Current Node    |     Objective Bounds      |     Work\n",
      " Expl Unexpl |  Obj  Depth IntInf | Incumbent    BestBd   Gap | It/Node Time\n",
      "\n",
      "*    0     0               0     121.0000000  121.00000  0.00%     -    0s\n",
      "\n",
      "Explored 1 nodes (5 simplex iterations) in 0.02 seconds (0.00 work units)\n",
      "Thread count was 8 (of 8 available processors)\n",
      "\n",
      "Solution count 3: 121 120 -0 \n",
      "\n",
      "Optimal solution found (tolerance 1.00e-04)\n",
      "Best objective 1.210000000000e+02, best bound 1.210000000000e+02, gap 0.0000%\n"
     ]
    }
   ],
   "source": [
    "model3 = gb.Model()\n",
    "\n",
    "n_index = [0, 3, 5, 7, 8]\n",
    "w_index = [1, 2, 4, 6, 9]\n",
    "\n",
    "WALL_SPACE = [15, 18, 10, 10, 12, 15, 15, 10, 12, 10] #in meters\n",
    "\n",
    "VALUE = [25, 25, 15, 16, 30, 16, 17, 50, 20, 15] #In millions\n",
    "NATIONALITY = [\"N\", \"W\", \"W\", \"N\", \"W\", \"N\", \"W\", \"N\", \"N\", \"W\"]\n",
    "\n",
    "n_val = [25, 16, 16, 50, 20]\n",
    "w_val = [25, 15, 30, 17, 15]\n",
    "n_wall = [15, 10, 15, 10, 12]\n",
    "w_wall = [18, 10, 12, 15, 10]\n",
    "\n",
    "art_n = model3.addVars(len(n_index), vtype=gb.GRB.BINARY)\n",
    "art_w = model3.addVars(len(w_index), vtype=gb.GRB.BINARY)\n",
    "\n",
    "\n",
    "model3.setObjective(\n",
    "    gb.quicksum(\n",
    "        art_n[i]*n_val[i] + art_w[i]*w_val[i] for i in range(len(n_val))\n",
    "    ), gb.GRB.MAXIMIZE\n",
    ")\n",
    "\n",
    "model3.addConstr(\n",
    "    gb.quicksum(\n",
    "        art_n[i]*n_wall[i] + art_w[i]* w_wall[i] for i in range(len(n_wall))\n",
    "    ) <= 50\n",
    ")\n",
    "\n",
    "\n",
    "model3.addConstr(\n",
    "    gb.quicksum(\n",
    "    art_n[i] - art_w[i] for i in range(5)) == 0\n",
    ")\n",
    "\n",
    "model3.optimize()\n"
   ]
  },
  {
   "cell_type": "code",
   "execution_count": 65,
   "metadata": {},
   "outputs": [
    {
     "name": "stdout",
     "output_type": "stream",
     "text": [
      "Battle vs W: -0.0 appearance\n",
      "Battle vs N: 1.0 appearance\n",
      "Alice Dream: -0.0 appearance\n",
      "Peter Pans Nightmare: 1.0 appearance\n",
      "The White Rabbit Lost in Time: -0.0 appearance\n",
      "Portrait of Captain Hook: 1.0 appearance\n",
      "Portrait of Queen of Hearts: -0.0 appearance\n",
      "Tiner Bell Quits: 1.0 appearance\n",
      "Lost Boys Find Their Way: -0.0 appearance\n",
      "Chesire Cat Goes Blue: 0.0 appearance\n",
      "\n",
      "Model 2 Total Value: $121.0 million\n"
     ]
    }
   ],
   "source": [
    "if model3.Status == gb.GRB.Status.OPTIMAL:\n",
    "    for v in model3.getVars():\n",
    "        print(f\"{ARTWORK[v.index]}: {v.X} appearance\")\n",
    "    print(f\"\\nModel 2 Total Value: ${model3.ObjVal} million\")"
   ]
  }
 ],
 "metadata": {
  "kernelspec": {
   "display_name": "Python 3.9.12 ('anop370-venv')",
   "language": "python",
   "name": "python3"
  },
  "language_info": {
   "codemirror_mode": {
    "name": "ipython",
    "version": 3
   },
   "file_extension": ".py",
   "mimetype": "text/x-python",
   "name": "python",
   "nbconvert_exporter": "python",
   "pygments_lexer": "ipython3",
   "version": "3.9.12"
  },
  "orig_nbformat": 4,
  "vscode": {
   "interpreter": {
    "hash": "4bcc122c95170f394dbcebd198668dbd6334b8f7eed10155fd6cc6b19919fb1d"
   }
  }
 },
 "nbformat": 4,
 "nbformat_minor": 2
}
